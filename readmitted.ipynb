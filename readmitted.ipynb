{
 "cells": [
  {
   "cell_type": "code",
   "execution_count": 1,
   "id": "64a456db",
   "metadata": {},
   "outputs": [],
   "source": [
    "import pandas as pd\n",
    "import matplotlib.pyplot as plt\n",
    "import seaborn as sns\n",
    "import numpy as np"
   ]
  },
  {
   "cell_type": "code",
   "execution_count": 2,
   "id": "6eee4e87",
   "metadata": {},
   "outputs": [],
   "source": [
    "df=pd.read_csv('Train-1617360447408-1660719685476.csv', na_values='?')"
   ]
  },
  {
   "cell_type": "code",
   "execution_count": 3,
   "id": "5a14f244",
   "metadata": {},
   "outputs": [],
   "source": [
    "\n",
    "pd.set_option('display.max_columns', None)"
   ]
  },
  {
   "cell_type": "code",
   "execution_count": 4,
   "id": "bc2826cf",
   "metadata": {},
   "outputs": [
    {
     "data": {
      "text/html": [
       "<div>\n",
       "<style scoped>\n",
       "    .dataframe tbody tr th:only-of-type {\n",
       "        vertical-align: middle;\n",
       "    }\n",
       "\n",
       "    .dataframe tbody tr th {\n",
       "        vertical-align: top;\n",
       "    }\n",
       "\n",
       "    .dataframe thead th {\n",
       "        text-align: right;\n",
       "    }\n",
       "</style>\n",
       "<table border=\"1\" class=\"dataframe\">\n",
       "  <thead>\n",
       "    <tr style=\"text-align: right;\">\n",
       "      <th></th>\n",
       "      <th>index</th>\n",
       "      <th>encounter_id</th>\n",
       "      <th>patient_id</th>\n",
       "      <th>race</th>\n",
       "      <th>gender</th>\n",
       "      <th>age</th>\n",
       "      <th>weight</th>\n",
       "      <th>time_in_hospital</th>\n",
       "      <th>medical_specialty</th>\n",
       "      <th>num_lab_procedures</th>\n",
       "      <th>num_procedures</th>\n",
       "      <th>num_medications</th>\n",
       "      <th>number_outpatient</th>\n",
       "      <th>number_emergency</th>\n",
       "      <th>number_inpatient</th>\n",
       "      <th>diag_1</th>\n",
       "      <th>diag_2</th>\n",
       "      <th>diag_3</th>\n",
       "      <th>diag_4</th>\n",
       "      <th>diag_5</th>\n",
       "      <th>number_diagnoses</th>\n",
       "      <th>X1</th>\n",
       "      <th>X2</th>\n",
       "      <th>X3</th>\n",
       "      <th>X4</th>\n",
       "      <th>X5</th>\n",
       "      <th>X6</th>\n",
       "      <th>X7</th>\n",
       "      <th>X8</th>\n",
       "      <th>X9</th>\n",
       "      <th>X10</th>\n",
       "      <th>X11</th>\n",
       "      <th>X12</th>\n",
       "      <th>X13</th>\n",
       "      <th>X14</th>\n",
       "      <th>X15</th>\n",
       "      <th>X16</th>\n",
       "      <th>X17</th>\n",
       "      <th>X18</th>\n",
       "      <th>X19</th>\n",
       "      <th>X20</th>\n",
       "      <th>X21</th>\n",
       "      <th>X22</th>\n",
       "      <th>X23</th>\n",
       "      <th>X24</th>\n",
       "      <th>X25</th>\n",
       "      <th>change</th>\n",
       "      <th>diabetesMed</th>\n",
       "      <th>readmitted</th>\n",
       "    </tr>\n",
       "  </thead>\n",
       "  <tbody>\n",
       "    <tr>\n",
       "      <th>0</th>\n",
       "      <td>69375</td>\n",
       "      <td>197029140</td>\n",
       "      <td>51521940</td>\n",
       "      <td>Hispanic</td>\n",
       "      <td>Male</td>\n",
       "      <td>[80-90)</td>\n",
       "      <td>NaN</td>\n",
       "      <td>4</td>\n",
       "      <td>Emergency/Trauma</td>\n",
       "      <td>39</td>\n",
       "      <td>1</td>\n",
       "      <td>9</td>\n",
       "      <td>1</td>\n",
       "      <td>1</td>\n",
       "      <td>4</td>\n",
       "      <td>783</td>\n",
       "      <td>403</td>\n",
       "      <td>585</td>\n",
       "      <td>585</td>\n",
       "      <td>32.970966</td>\n",
       "      <td>9</td>\n",
       "      <td>None</td>\n",
       "      <td>None</td>\n",
       "      <td>No</td>\n",
       "      <td>No</td>\n",
       "      <td>No</td>\n",
       "      <td>No</td>\n",
       "      <td>No</td>\n",
       "      <td>No</td>\n",
       "      <td>No</td>\n",
       "      <td>No</td>\n",
       "      <td>No</td>\n",
       "      <td>No</td>\n",
       "      <td>Steady</td>\n",
       "      <td>No</td>\n",
       "      <td>No</td>\n",
       "      <td>No</td>\n",
       "      <td>No</td>\n",
       "      <td>No</td>\n",
       "      <td>No</td>\n",
       "      <td>No</td>\n",
       "      <td>No</td>\n",
       "      <td>No</td>\n",
       "      <td>No</td>\n",
       "      <td>No</td>\n",
       "      <td>No</td>\n",
       "      <td>No</td>\n",
       "      <td>Yes</td>\n",
       "      <td>1</td>\n",
       "    </tr>\n",
       "    <tr>\n",
       "      <th>1</th>\n",
       "      <td>57272</td>\n",
       "      <td>163571946</td>\n",
       "      <td>92631357</td>\n",
       "      <td>Caucasian</td>\n",
       "      <td>Male</td>\n",
       "      <td>[60-70)</td>\n",
       "      <td>NaN</td>\n",
       "      <td>3</td>\n",
       "      <td>Emergency/Trauma</td>\n",
       "      <td>34</td>\n",
       "      <td>1</td>\n",
       "      <td>12</td>\n",
       "      <td>0</td>\n",
       "      <td>0</td>\n",
       "      <td>0</td>\n",
       "      <td>564</td>\n",
       "      <td>788</td>\n",
       "      <td>569</td>\n",
       "      <td>569</td>\n",
       "      <td>94.116731</td>\n",
       "      <td>6</td>\n",
       "      <td>None</td>\n",
       "      <td>None</td>\n",
       "      <td>No</td>\n",
       "      <td>No</td>\n",
       "      <td>No</td>\n",
       "      <td>No</td>\n",
       "      <td>No</td>\n",
       "      <td>No</td>\n",
       "      <td>No</td>\n",
       "      <td>No</td>\n",
       "      <td>No</td>\n",
       "      <td>No</td>\n",
       "      <td>No</td>\n",
       "      <td>No</td>\n",
       "      <td>No</td>\n",
       "      <td>No</td>\n",
       "      <td>No</td>\n",
       "      <td>No</td>\n",
       "      <td>No</td>\n",
       "      <td>No</td>\n",
       "      <td>No</td>\n",
       "      <td>No</td>\n",
       "      <td>No</td>\n",
       "      <td>No</td>\n",
       "      <td>No</td>\n",
       "      <td>No</td>\n",
       "      <td>No</td>\n",
       "      <td>0</td>\n",
       "    </tr>\n",
       "    <tr>\n",
       "      <th>2</th>\n",
       "      <td>82347</td>\n",
       "      <td>256497366</td>\n",
       "      <td>30023982</td>\n",
       "      <td>Caucasian</td>\n",
       "      <td>Female</td>\n",
       "      <td>[50-60)</td>\n",
       "      <td>NaN</td>\n",
       "      <td>6</td>\n",
       "      <td>Nephrology</td>\n",
       "      <td>50</td>\n",
       "      <td>2</td>\n",
       "      <td>24</td>\n",
       "      <td>0</td>\n",
       "      <td>0</td>\n",
       "      <td>5</td>\n",
       "      <td>574</td>\n",
       "      <td>403</td>\n",
       "      <td>585</td>\n",
       "      <td>585</td>\n",
       "      <td>64.138297</td>\n",
       "      <td>9</td>\n",
       "      <td>None</td>\n",
       "      <td>None</td>\n",
       "      <td>No</td>\n",
       "      <td>No</td>\n",
       "      <td>No</td>\n",
       "      <td>No</td>\n",
       "      <td>No</td>\n",
       "      <td>No</td>\n",
       "      <td>No</td>\n",
       "      <td>No</td>\n",
       "      <td>No</td>\n",
       "      <td>No</td>\n",
       "      <td>No</td>\n",
       "      <td>No</td>\n",
       "      <td>No</td>\n",
       "      <td>No</td>\n",
       "      <td>No</td>\n",
       "      <td>No</td>\n",
       "      <td>No</td>\n",
       "      <td>Down</td>\n",
       "      <td>No</td>\n",
       "      <td>No</td>\n",
       "      <td>No</td>\n",
       "      <td>No</td>\n",
       "      <td>No</td>\n",
       "      <td>Ch</td>\n",
       "      <td>Yes</td>\n",
       "      <td>1</td>\n",
       "    </tr>\n",
       "    <tr>\n",
       "      <th>3</th>\n",
       "      <td>89608</td>\n",
       "      <td>289891212</td>\n",
       "      <td>93606021</td>\n",
       "      <td>AfricanAmerican</td>\n",
       "      <td>Female</td>\n",
       "      <td>[70-80)</td>\n",
       "      <td>NaN</td>\n",
       "      <td>5</td>\n",
       "      <td>NaN</td>\n",
       "      <td>63</td>\n",
       "      <td>0</td>\n",
       "      <td>14</td>\n",
       "      <td>0</td>\n",
       "      <td>0</td>\n",
       "      <td>0</td>\n",
       "      <td>401</td>\n",
       "      <td>783</td>\n",
       "      <td>250</td>\n",
       "      <td>250</td>\n",
       "      <td>13.832428</td>\n",
       "      <td>7</td>\n",
       "      <td>None</td>\n",
       "      <td>Norm</td>\n",
       "      <td>No</td>\n",
       "      <td>No</td>\n",
       "      <td>No</td>\n",
       "      <td>No</td>\n",
       "      <td>No</td>\n",
       "      <td>No</td>\n",
       "      <td>No</td>\n",
       "      <td>No</td>\n",
       "      <td>No</td>\n",
       "      <td>No</td>\n",
       "      <td>No</td>\n",
       "      <td>No</td>\n",
       "      <td>No</td>\n",
       "      <td>No</td>\n",
       "      <td>No</td>\n",
       "      <td>No</td>\n",
       "      <td>No</td>\n",
       "      <td>Down</td>\n",
       "      <td>No</td>\n",
       "      <td>No</td>\n",
       "      <td>No</td>\n",
       "      <td>No</td>\n",
       "      <td>No</td>\n",
       "      <td>Ch</td>\n",
       "      <td>Yes</td>\n",
       "      <td>1</td>\n",
       "    </tr>\n",
       "    <tr>\n",
       "      <th>4</th>\n",
       "      <td>24091</td>\n",
       "      <td>81873900</td>\n",
       "      <td>23464296</td>\n",
       "      <td>Caucasian</td>\n",
       "      <td>Male</td>\n",
       "      <td>[70-80)</td>\n",
       "      <td>NaN</td>\n",
       "      <td>9</td>\n",
       "      <td>Psychiatry</td>\n",
       "      <td>17</td>\n",
       "      <td>1</td>\n",
       "      <td>11</td>\n",
       "      <td>0</td>\n",
       "      <td>0</td>\n",
       "      <td>0</td>\n",
       "      <td>311</td>\n",
       "      <td>276</td>\n",
       "      <td>300</td>\n",
       "      <td>300</td>\n",
       "      <td>82.898368</td>\n",
       "      <td>9</td>\n",
       "      <td>&gt;200</td>\n",
       "      <td>None</td>\n",
       "      <td>No</td>\n",
       "      <td>No</td>\n",
       "      <td>No</td>\n",
       "      <td>No</td>\n",
       "      <td>No</td>\n",
       "      <td>No</td>\n",
       "      <td>No</td>\n",
       "      <td>No</td>\n",
       "      <td>No</td>\n",
       "      <td>No</td>\n",
       "      <td>No</td>\n",
       "      <td>No</td>\n",
       "      <td>No</td>\n",
       "      <td>No</td>\n",
       "      <td>No</td>\n",
       "      <td>No</td>\n",
       "      <td>No</td>\n",
       "      <td>No</td>\n",
       "      <td>No</td>\n",
       "      <td>No</td>\n",
       "      <td>No</td>\n",
       "      <td>No</td>\n",
       "      <td>No</td>\n",
       "      <td>No</td>\n",
       "      <td>No</td>\n",
       "      <td>1</td>\n",
       "    </tr>\n",
       "  </tbody>\n",
       "</table>\n",
       "</div>"
      ],
      "text/plain": [
       "   index  encounter_id  patient_id             race  gender      age weight  \\\n",
       "0  69375     197029140    51521940         Hispanic    Male  [80-90)    NaN   \n",
       "1  57272     163571946    92631357        Caucasian    Male  [60-70)    NaN   \n",
       "2  82347     256497366    30023982        Caucasian  Female  [50-60)    NaN   \n",
       "3  89608     289891212    93606021  AfricanAmerican  Female  [70-80)    NaN   \n",
       "4  24091      81873900    23464296        Caucasian    Male  [70-80)    NaN   \n",
       "\n",
       "   time_in_hospital medical_specialty  num_lab_procedures  num_procedures  \\\n",
       "0                 4  Emergency/Trauma                  39               1   \n",
       "1                 3  Emergency/Trauma                  34               1   \n",
       "2                 6        Nephrology                  50               2   \n",
       "3                 5               NaN                  63               0   \n",
       "4                 9        Psychiatry                  17               1   \n",
       "\n",
       "   num_medications  number_outpatient  number_emergency  number_inpatient  \\\n",
       "0                9                  1                 1                 4   \n",
       "1               12                  0                 0                 0   \n",
       "2               24                  0                 0                 5   \n",
       "3               14                  0                 0                 0   \n",
       "4               11                  0                 0                 0   \n",
       "\n",
       "  diag_1 diag_2 diag_3 diag_4     diag_5  number_diagnoses    X1    X2  X3  \\\n",
       "0    783    403    585    585  32.970966                 9  None  None  No   \n",
       "1    564    788    569    569  94.116731                 6  None  None  No   \n",
       "2    574    403    585    585  64.138297                 9  None  None  No   \n",
       "3    401    783    250    250  13.832428                 7  None  Norm  No   \n",
       "4    311    276    300    300  82.898368                 9  >200  None  No   \n",
       "\n",
       "   X4  X5  X6  X7  X8  X9 X10 X11 X12     X13 X14 X15 X16 X17 X18 X19   X20  \\\n",
       "0  No  No  No  No  No  No  No  No  No  Steady  No  No  No  No  No  No    No   \n",
       "1  No  No  No  No  No  No  No  No  No      No  No  No  No  No  No  No    No   \n",
       "2  No  No  No  No  No  No  No  No  No      No  No  No  No  No  No  No  Down   \n",
       "3  No  No  No  No  No  No  No  No  No      No  No  No  No  No  No  No  Down   \n",
       "4  No  No  No  No  No  No  No  No  No      No  No  No  No  No  No  No    No   \n",
       "\n",
       "  X21 X22 X23 X24 X25 change diabetesMed  readmitted  \n",
       "0  No  No  No  No  No     No         Yes           1  \n",
       "1  No  No  No  No  No     No          No           0  \n",
       "2  No  No  No  No  No     Ch         Yes           1  \n",
       "3  No  No  No  No  No     Ch         Yes           1  \n",
       "4  No  No  No  No  No     No          No           1  "
      ]
     },
     "execution_count": 4,
     "metadata": {},
     "output_type": "execute_result"
    }
   ],
   "source": [
    "df.head()"
   ]
  },
  {
   "cell_type": "code",
   "execution_count": 5,
   "id": "eaa41476",
   "metadata": {},
   "outputs": [
    {
     "data": {
      "text/html": [
       "<div>\n",
       "<style scoped>\n",
       "    .dataframe tbody tr th:only-of-type {\n",
       "        vertical-align: middle;\n",
       "    }\n",
       "\n",
       "    .dataframe tbody tr th {\n",
       "        vertical-align: top;\n",
       "    }\n",
       "\n",
       "    .dataframe thead th {\n",
       "        text-align: right;\n",
       "    }\n",
       "</style>\n",
       "<table border=\"1\" class=\"dataframe\">\n",
       "  <thead>\n",
       "    <tr style=\"text-align: right;\">\n",
       "      <th></th>\n",
       "      <th>index</th>\n",
       "      <th>encounter_id</th>\n",
       "      <th>patient_id</th>\n",
       "      <th>race</th>\n",
       "      <th>gender</th>\n",
       "      <th>age</th>\n",
       "      <th>weight</th>\n",
       "      <th>time_in_hospital</th>\n",
       "      <th>medical_specialty</th>\n",
       "      <th>num_lab_procedures</th>\n",
       "      <th>num_procedures</th>\n",
       "      <th>num_medications</th>\n",
       "      <th>number_outpatient</th>\n",
       "      <th>number_emergency</th>\n",
       "      <th>number_inpatient</th>\n",
       "      <th>diag_1</th>\n",
       "      <th>diag_2</th>\n",
       "      <th>diag_3</th>\n",
       "      <th>diag_4</th>\n",
       "      <th>diag_5</th>\n",
       "      <th>number_diagnoses</th>\n",
       "      <th>X1</th>\n",
       "      <th>X2</th>\n",
       "      <th>X3</th>\n",
       "      <th>X4</th>\n",
       "      <th>X5</th>\n",
       "      <th>X6</th>\n",
       "      <th>X7</th>\n",
       "      <th>X8</th>\n",
       "      <th>X9</th>\n",
       "      <th>X10</th>\n",
       "      <th>X11</th>\n",
       "      <th>X12</th>\n",
       "      <th>X13</th>\n",
       "      <th>X14</th>\n",
       "      <th>X15</th>\n",
       "      <th>X16</th>\n",
       "      <th>X17</th>\n",
       "      <th>X18</th>\n",
       "      <th>X19</th>\n",
       "      <th>X20</th>\n",
       "      <th>X21</th>\n",
       "      <th>X22</th>\n",
       "      <th>X23</th>\n",
       "      <th>X24</th>\n",
       "      <th>X25</th>\n",
       "      <th>change</th>\n",
       "      <th>diabetesMed</th>\n",
       "      <th>readmitted</th>\n",
       "    </tr>\n",
       "  </thead>\n",
       "  <tbody>\n",
       "    <tr>\n",
       "      <th>66582</th>\n",
       "      <td>39934</td>\n",
       "      <td>124202466</td>\n",
       "      <td>23450508</td>\n",
       "      <td>Caucasian</td>\n",
       "      <td>Female</td>\n",
       "      <td>[70-80)</td>\n",
       "      <td>NaN</td>\n",
       "      <td>11</td>\n",
       "      <td>InternalMedicine</td>\n",
       "      <td>40</td>\n",
       "      <td>4</td>\n",
       "      <td>35</td>\n",
       "      <td>0</td>\n",
       "      <td>0</td>\n",
       "      <td>0</td>\n",
       "      <td>562</td>\n",
       "      <td>276</td>\n",
       "      <td>458</td>\n",
       "      <td>458</td>\n",
       "      <td>64.439655</td>\n",
       "      <td>6</td>\n",
       "      <td>None</td>\n",
       "      <td>None</td>\n",
       "      <td>No</td>\n",
       "      <td>No</td>\n",
       "      <td>No</td>\n",
       "      <td>No</td>\n",
       "      <td>No</td>\n",
       "      <td>No</td>\n",
       "      <td>No</td>\n",
       "      <td>No</td>\n",
       "      <td>No</td>\n",
       "      <td>No</td>\n",
       "      <td>No</td>\n",
       "      <td>No</td>\n",
       "      <td>No</td>\n",
       "      <td>No</td>\n",
       "      <td>No</td>\n",
       "      <td>No</td>\n",
       "      <td>No</td>\n",
       "      <td>Steady</td>\n",
       "      <td>No</td>\n",
       "      <td>No</td>\n",
       "      <td>No</td>\n",
       "      <td>No</td>\n",
       "      <td>No</td>\n",
       "      <td>No</td>\n",
       "      <td>Yes</td>\n",
       "      <td>0</td>\n",
       "    </tr>\n",
       "    <tr>\n",
       "      <th>66583</th>\n",
       "      <td>47366</td>\n",
       "      <td>145667070</td>\n",
       "      <td>29324601</td>\n",
       "      <td>Caucasian</td>\n",
       "      <td>Male</td>\n",
       "      <td>[80-90)</td>\n",
       "      <td>NaN</td>\n",
       "      <td>4</td>\n",
       "      <td>NaN</td>\n",
       "      <td>39</td>\n",
       "      <td>1</td>\n",
       "      <td>7</td>\n",
       "      <td>0</td>\n",
       "      <td>0</td>\n",
       "      <td>0</td>\n",
       "      <td>188</td>\n",
       "      <td>599</td>\n",
       "      <td>591</td>\n",
       "      <td>591</td>\n",
       "      <td>39.133605</td>\n",
       "      <td>9</td>\n",
       "      <td>None</td>\n",
       "      <td>None</td>\n",
       "      <td>No</td>\n",
       "      <td>No</td>\n",
       "      <td>No</td>\n",
       "      <td>No</td>\n",
       "      <td>No</td>\n",
       "      <td>No</td>\n",
       "      <td>No</td>\n",
       "      <td>No</td>\n",
       "      <td>No</td>\n",
       "      <td>No</td>\n",
       "      <td>No</td>\n",
       "      <td>No</td>\n",
       "      <td>No</td>\n",
       "      <td>No</td>\n",
       "      <td>No</td>\n",
       "      <td>No</td>\n",
       "      <td>No</td>\n",
       "      <td>No</td>\n",
       "      <td>No</td>\n",
       "      <td>No</td>\n",
       "      <td>No</td>\n",
       "      <td>No</td>\n",
       "      <td>No</td>\n",
       "      <td>No</td>\n",
       "      <td>No</td>\n",
       "      <td>1</td>\n",
       "    </tr>\n",
       "    <tr>\n",
       "      <th>66584</th>\n",
       "      <td>76555</td>\n",
       "      <td>231061116</td>\n",
       "      <td>2179062</td>\n",
       "      <td>Caucasian</td>\n",
       "      <td>Female</td>\n",
       "      <td>[60-70)</td>\n",
       "      <td>NaN</td>\n",
       "      <td>2</td>\n",
       "      <td>NaN</td>\n",
       "      <td>24</td>\n",
       "      <td>1</td>\n",
       "      <td>13</td>\n",
       "      <td>0</td>\n",
       "      <td>0</td>\n",
       "      <td>2</td>\n",
       "      <td>996</td>\n",
       "      <td>414</td>\n",
       "      <td>250</td>\n",
       "      <td>250</td>\n",
       "      <td>97.187192</td>\n",
       "      <td>6</td>\n",
       "      <td>None</td>\n",
       "      <td>None</td>\n",
       "      <td>Steady</td>\n",
       "      <td>No</td>\n",
       "      <td>No</td>\n",
       "      <td>No</td>\n",
       "      <td>No</td>\n",
       "      <td>No</td>\n",
       "      <td>No</td>\n",
       "      <td>No</td>\n",
       "      <td>No</td>\n",
       "      <td>No</td>\n",
       "      <td>No</td>\n",
       "      <td>No</td>\n",
       "      <td>No</td>\n",
       "      <td>No</td>\n",
       "      <td>No</td>\n",
       "      <td>No</td>\n",
       "      <td>No</td>\n",
       "      <td>No</td>\n",
       "      <td>No</td>\n",
       "      <td>No</td>\n",
       "      <td>No</td>\n",
       "      <td>No</td>\n",
       "      <td>No</td>\n",
       "      <td>No</td>\n",
       "      <td>Yes</td>\n",
       "      <td>1</td>\n",
       "    </tr>\n",
       "    <tr>\n",
       "      <th>66585</th>\n",
       "      <td>25392</td>\n",
       "      <td>84911682</td>\n",
       "      <td>20531754</td>\n",
       "      <td>NaN</td>\n",
       "      <td>Female</td>\n",
       "      <td>[80-90)</td>\n",
       "      <td>NaN</td>\n",
       "      <td>4</td>\n",
       "      <td>InternalMedicine</td>\n",
       "      <td>39</td>\n",
       "      <td>1</td>\n",
       "      <td>14</td>\n",
       "      <td>0</td>\n",
       "      <td>0</td>\n",
       "      <td>0</td>\n",
       "      <td>427</td>\n",
       "      <td>496</td>\n",
       "      <td>518</td>\n",
       "      <td>518</td>\n",
       "      <td>16.856253</td>\n",
       "      <td>9</td>\n",
       "      <td>None</td>\n",
       "      <td>None</td>\n",
       "      <td>No</td>\n",
       "      <td>No</td>\n",
       "      <td>No</td>\n",
       "      <td>No</td>\n",
       "      <td>No</td>\n",
       "      <td>No</td>\n",
       "      <td>No</td>\n",
       "      <td>No</td>\n",
       "      <td>No</td>\n",
       "      <td>No</td>\n",
       "      <td>No</td>\n",
       "      <td>No</td>\n",
       "      <td>No</td>\n",
       "      <td>No</td>\n",
       "      <td>No</td>\n",
       "      <td>No</td>\n",
       "      <td>No</td>\n",
       "      <td>No</td>\n",
       "      <td>No</td>\n",
       "      <td>No</td>\n",
       "      <td>No</td>\n",
       "      <td>No</td>\n",
       "      <td>No</td>\n",
       "      <td>No</td>\n",
       "      <td>No</td>\n",
       "      <td>0</td>\n",
       "    </tr>\n",
       "    <tr>\n",
       "      <th>66586</th>\n",
       "      <td>51312</td>\n",
       "      <td>153167502</td>\n",
       "      <td>81985473</td>\n",
       "      <td>Caucasian</td>\n",
       "      <td>Female</td>\n",
       "      <td>[80-90)</td>\n",
       "      <td>NaN</td>\n",
       "      <td>2</td>\n",
       "      <td>NaN</td>\n",
       "      <td>38</td>\n",
       "      <td>2</td>\n",
       "      <td>12</td>\n",
       "      <td>0</td>\n",
       "      <td>0</td>\n",
       "      <td>0</td>\n",
       "      <td>426</td>\n",
       "      <td>250.01</td>\n",
       "      <td>426</td>\n",
       "      <td>426</td>\n",
       "      <td>24.436177</td>\n",
       "      <td>7</td>\n",
       "      <td>None</td>\n",
       "      <td>None</td>\n",
       "      <td>Steady</td>\n",
       "      <td>No</td>\n",
       "      <td>No</td>\n",
       "      <td>No</td>\n",
       "      <td>No</td>\n",
       "      <td>No</td>\n",
       "      <td>No</td>\n",
       "      <td>No</td>\n",
       "      <td>No</td>\n",
       "      <td>No</td>\n",
       "      <td>No</td>\n",
       "      <td>No</td>\n",
       "      <td>No</td>\n",
       "      <td>No</td>\n",
       "      <td>No</td>\n",
       "      <td>No</td>\n",
       "      <td>No</td>\n",
       "      <td>Steady</td>\n",
       "      <td>No</td>\n",
       "      <td>No</td>\n",
       "      <td>No</td>\n",
       "      <td>No</td>\n",
       "      <td>No</td>\n",
       "      <td>Ch</td>\n",
       "      <td>Yes</td>\n",
       "      <td>1</td>\n",
       "    </tr>\n",
       "  </tbody>\n",
       "</table>\n",
       "</div>"
      ],
      "text/plain": [
       "       index  encounter_id  patient_id       race  gender      age weight  \\\n",
       "66582  39934     124202466    23450508  Caucasian  Female  [70-80)    NaN   \n",
       "66583  47366     145667070    29324601  Caucasian    Male  [80-90)    NaN   \n",
       "66584  76555     231061116     2179062  Caucasian  Female  [60-70)    NaN   \n",
       "66585  25392      84911682    20531754        NaN  Female  [80-90)    NaN   \n",
       "66586  51312     153167502    81985473  Caucasian  Female  [80-90)    NaN   \n",
       "\n",
       "       time_in_hospital medical_specialty  num_lab_procedures  num_procedures  \\\n",
       "66582                11  InternalMedicine                  40               4   \n",
       "66583                 4               NaN                  39               1   \n",
       "66584                 2               NaN                  24               1   \n",
       "66585                 4  InternalMedicine                  39               1   \n",
       "66586                 2               NaN                  38               2   \n",
       "\n",
       "       num_medications  number_outpatient  number_emergency  number_inpatient  \\\n",
       "66582               35                  0                 0                 0   \n",
       "66583                7                  0                 0                 0   \n",
       "66584               13                  0                 0                 2   \n",
       "66585               14                  0                 0                 0   \n",
       "66586               12                  0                 0                 0   \n",
       "\n",
       "      diag_1  diag_2 diag_3 diag_4     diag_5  number_diagnoses    X1    X2  \\\n",
       "66582    562     276    458    458  64.439655                 6  None  None   \n",
       "66583    188     599    591    591  39.133605                 9  None  None   \n",
       "66584    996     414    250    250  97.187192                 6  None  None   \n",
       "66585    427     496    518    518  16.856253                 9  None  None   \n",
       "66586    426  250.01    426    426  24.436177                 7  None  None   \n",
       "\n",
       "           X3  X4  X5  X6  X7  X8  X9 X10 X11 X12 X13 X14 X15 X16 X17 X18 X19  \\\n",
       "66582      No  No  No  No  No  No  No  No  No  No  No  No  No  No  No  No  No   \n",
       "66583      No  No  No  No  No  No  No  No  No  No  No  No  No  No  No  No  No   \n",
       "66584  Steady  No  No  No  No  No  No  No  No  No  No  No  No  No  No  No  No   \n",
       "66585      No  No  No  No  No  No  No  No  No  No  No  No  No  No  No  No  No   \n",
       "66586  Steady  No  No  No  No  No  No  No  No  No  No  No  No  No  No  No  No   \n",
       "\n",
       "          X20 X21 X22 X23 X24 X25 change diabetesMed  readmitted  \n",
       "66582  Steady  No  No  No  No  No     No         Yes           0  \n",
       "66583      No  No  No  No  No  No     No          No           1  \n",
       "66584      No  No  No  No  No  No     No         Yes           1  \n",
       "66585      No  No  No  No  No  No     No          No           0  \n",
       "66586  Steady  No  No  No  No  No     Ch         Yes           1  "
      ]
     },
     "execution_count": 5,
     "metadata": {},
     "output_type": "execute_result"
    }
   ],
   "source": [
    "df.tail()"
   ]
  },
  {
   "cell_type": "code",
   "execution_count": 6,
   "id": "565489fa",
   "metadata": {},
   "outputs": [
    {
     "data": {
      "text/plain": [
       "(66587, 49)"
      ]
     },
     "execution_count": 6,
     "metadata": {},
     "output_type": "execute_result"
    }
   ],
   "source": [
    "df.shape"
   ]
  },
  {
   "cell_type": "code",
   "execution_count": 7,
   "id": "6ed333f2",
   "metadata": {},
   "outputs": [
    {
     "data": {
      "text/plain": [
       "17676"
      ]
     },
     "execution_count": 7,
     "metadata": {},
     "output_type": "execute_result"
    }
   ],
   "source": [
    "df.duplicated().sum()"
   ]
  },
  {
   "cell_type": "code",
   "execution_count": 8,
   "id": "241aa822",
   "metadata": {},
   "outputs": [],
   "source": [
    "df.drop_duplicates(keep='first',inplace=True)"
   ]
  },
  {
   "cell_type": "code",
   "execution_count": 9,
   "id": "93ed08d8",
   "metadata": {},
   "outputs": [
    {
     "data": {
      "text/plain": [
       "(48911, 49)"
      ]
     },
     "execution_count": 9,
     "metadata": {},
     "output_type": "execute_result"
    }
   ],
   "source": [
    "df.shape"
   ]
  },
  {
   "cell_type": "code",
   "execution_count": 10,
   "id": "c0f05a52",
   "metadata": {},
   "outputs": [
    {
     "data": {
      "text/html": [
       "<div>\n",
       "<style scoped>\n",
       "    .dataframe tbody tr th:only-of-type {\n",
       "        vertical-align: middle;\n",
       "    }\n",
       "\n",
       "    .dataframe tbody tr th {\n",
       "        vertical-align: top;\n",
       "    }\n",
       "\n",
       "    .dataframe thead th {\n",
       "        text-align: right;\n",
       "    }\n",
       "</style>\n",
       "<table border=\"1\" class=\"dataframe\">\n",
       "  <thead>\n",
       "    <tr style=\"text-align: right;\">\n",
       "      <th></th>\n",
       "      <th>index</th>\n",
       "      <th>encounter_id</th>\n",
       "      <th>patient_id</th>\n",
       "      <th>time_in_hospital</th>\n",
       "      <th>num_lab_procedures</th>\n",
       "      <th>num_procedures</th>\n",
       "      <th>num_medications</th>\n",
       "      <th>number_outpatient</th>\n",
       "      <th>number_emergency</th>\n",
       "      <th>number_inpatient</th>\n",
       "      <th>diag_5</th>\n",
       "      <th>number_diagnoses</th>\n",
       "      <th>readmitted</th>\n",
       "    </tr>\n",
       "  </thead>\n",
       "  <tbody>\n",
       "    <tr>\n",
       "      <th>count</th>\n",
       "      <td>48911.000000</td>\n",
       "      <td>4.891100e+04</td>\n",
       "      <td>4.891100e+04</td>\n",
       "      <td>48911.000000</td>\n",
       "      <td>48911.000000</td>\n",
       "      <td>48911.000000</td>\n",
       "      <td>48911.000000</td>\n",
       "      <td>48911.000000</td>\n",
       "      <td>48911.000000</td>\n",
       "      <td>48911.000000</td>\n",
       "      <td>48911.000000</td>\n",
       "      <td>48911.000000</td>\n",
       "      <td>48911.000000</td>\n",
       "    </tr>\n",
       "    <tr>\n",
       "      <th>mean</th>\n",
       "      <td>50897.807078</td>\n",
       "      <td>1.652508e+08</td>\n",
       "      <td>5.427235e+07</td>\n",
       "      <td>4.402486</td>\n",
       "      <td>43.110302</td>\n",
       "      <td>1.334465</td>\n",
       "      <td>16.032488</td>\n",
       "      <td>0.368895</td>\n",
       "      <td>0.205128</td>\n",
       "      <td>0.637096</td>\n",
       "      <td>49.831580</td>\n",
       "      <td>7.423770</td>\n",
       "      <td>0.462248</td>\n",
       "    </tr>\n",
       "    <tr>\n",
       "      <th>std</th>\n",
       "      <td>29444.352632</td>\n",
       "      <td>1.028397e+08</td>\n",
       "      <td>3.870114e+07</td>\n",
       "      <td>2.986656</td>\n",
       "      <td>19.626326</td>\n",
       "      <td>1.707151</td>\n",
       "      <td>8.139802</td>\n",
       "      <td>1.231869</td>\n",
       "      <td>0.934525</td>\n",
       "      <td>1.257994</td>\n",
       "      <td>28.857683</td>\n",
       "      <td>1.933264</td>\n",
       "      <td>0.498578</td>\n",
       "    </tr>\n",
       "    <tr>\n",
       "      <th>min</th>\n",
       "      <td>0.000000</td>\n",
       "      <td>1.573800e+04</td>\n",
       "      <td>1.350000e+02</td>\n",
       "      <td>1.000000</td>\n",
       "      <td>1.000000</td>\n",
       "      <td>0.000000</td>\n",
       "      <td>1.000000</td>\n",
       "      <td>0.000000</td>\n",
       "      <td>0.000000</td>\n",
       "      <td>0.000000</td>\n",
       "      <td>0.000283</td>\n",
       "      <td>1.000000</td>\n",
       "      <td>0.000000</td>\n",
       "    </tr>\n",
       "    <tr>\n",
       "      <th>25%</th>\n",
       "      <td>25234.000000</td>\n",
       "      <td>8.454446e+07</td>\n",
       "      <td>2.340417e+07</td>\n",
       "      <td>2.000000</td>\n",
       "      <td>31.000000</td>\n",
       "      <td>0.000000</td>\n",
       "      <td>10.000000</td>\n",
       "      <td>0.000000</td>\n",
       "      <td>0.000000</td>\n",
       "      <td>0.000000</td>\n",
       "      <td>24.908012</td>\n",
       "      <td>6.000000</td>\n",
       "      <td>0.000000</td>\n",
       "    </tr>\n",
       "    <tr>\n",
       "      <th>50%</th>\n",
       "      <td>51029.000000</td>\n",
       "      <td>1.526470e+08</td>\n",
       "      <td>4.535182e+07</td>\n",
       "      <td>4.000000</td>\n",
       "      <td>44.000000</td>\n",
       "      <td>1.000000</td>\n",
       "      <td>15.000000</td>\n",
       "      <td>0.000000</td>\n",
       "      <td>0.000000</td>\n",
       "      <td>0.000000</td>\n",
       "      <td>49.728831</td>\n",
       "      <td>8.000000</td>\n",
       "      <td>0.000000</td>\n",
       "    </tr>\n",
       "    <tr>\n",
       "      <th>75%</th>\n",
       "      <td>76368.500000</td>\n",
       "      <td>2.304537e+08</td>\n",
       "      <td>8.735458e+07</td>\n",
       "      <td>6.000000</td>\n",
       "      <td>57.000000</td>\n",
       "      <td>2.000000</td>\n",
       "      <td>20.000000</td>\n",
       "      <td>0.000000</td>\n",
       "      <td>0.000000</td>\n",
       "      <td>1.000000</td>\n",
       "      <td>74.819023</td>\n",
       "      <td>9.000000</td>\n",
       "      <td>1.000000</td>\n",
       "    </tr>\n",
       "    <tr>\n",
       "      <th>max</th>\n",
       "      <td>101765.000000</td>\n",
       "      <td>4.438672e+08</td>\n",
       "      <td>1.893494e+08</td>\n",
       "      <td>14.000000</td>\n",
       "      <td>129.000000</td>\n",
       "      <td>6.000000</td>\n",
       "      <td>81.000000</td>\n",
       "      <td>39.000000</td>\n",
       "      <td>63.000000</td>\n",
       "      <td>19.000000</td>\n",
       "      <td>99.995810</td>\n",
       "      <td>16.000000</td>\n",
       "      <td>1.000000</td>\n",
       "    </tr>\n",
       "  </tbody>\n",
       "</table>\n",
       "</div>"
      ],
      "text/plain": [
       "               index  encounter_id    patient_id  time_in_hospital  \\\n",
       "count   48911.000000  4.891100e+04  4.891100e+04      48911.000000   \n",
       "mean    50897.807078  1.652508e+08  5.427235e+07          4.402486   \n",
       "std     29444.352632  1.028397e+08  3.870114e+07          2.986656   \n",
       "min         0.000000  1.573800e+04  1.350000e+02          1.000000   \n",
       "25%     25234.000000  8.454446e+07  2.340417e+07          2.000000   \n",
       "50%     51029.000000  1.526470e+08  4.535182e+07          4.000000   \n",
       "75%     76368.500000  2.304537e+08  8.735458e+07          6.000000   \n",
       "max    101765.000000  4.438672e+08  1.893494e+08         14.000000   \n",
       "\n",
       "       num_lab_procedures  num_procedures  num_medications  number_outpatient  \\\n",
       "count        48911.000000    48911.000000     48911.000000       48911.000000   \n",
       "mean            43.110302        1.334465        16.032488           0.368895   \n",
       "std             19.626326        1.707151         8.139802           1.231869   \n",
       "min              1.000000        0.000000         1.000000           0.000000   \n",
       "25%             31.000000        0.000000        10.000000           0.000000   \n",
       "50%             44.000000        1.000000        15.000000           0.000000   \n",
       "75%             57.000000        2.000000        20.000000           0.000000   \n",
       "max            129.000000        6.000000        81.000000          39.000000   \n",
       "\n",
       "       number_emergency  number_inpatient        diag_5  number_diagnoses  \\\n",
       "count      48911.000000      48911.000000  48911.000000      48911.000000   \n",
       "mean           0.205128          0.637096     49.831580          7.423770   \n",
       "std            0.934525          1.257994     28.857683          1.933264   \n",
       "min            0.000000          0.000000      0.000283          1.000000   \n",
       "25%            0.000000          0.000000     24.908012          6.000000   \n",
       "50%            0.000000          0.000000     49.728831          8.000000   \n",
       "75%            0.000000          1.000000     74.819023          9.000000   \n",
       "max           63.000000         19.000000     99.995810         16.000000   \n",
       "\n",
       "         readmitted  \n",
       "count  48911.000000  \n",
       "mean       0.462248  \n",
       "std        0.498578  \n",
       "min        0.000000  \n",
       "25%        0.000000  \n",
       "50%        0.000000  \n",
       "75%        1.000000  \n",
       "max        1.000000  "
      ]
     },
     "execution_count": 10,
     "metadata": {},
     "output_type": "execute_result"
    }
   ],
   "source": [
    "df.describe()"
   ]
  },
  {
   "cell_type": "code",
   "execution_count": 11,
   "id": "dea69d0f",
   "metadata": {},
   "outputs": [
    {
     "name": "stdout",
     "output_type": "stream",
     "text": [
      "<class 'pandas.core.frame.DataFrame'>\n",
      "Int64Index: 48911 entries, 0 to 66586\n",
      "Data columns (total 49 columns):\n",
      " #   Column              Non-Null Count  Dtype  \n",
      "---  ------              --------------  -----  \n",
      " 0   index               48911 non-null  int64  \n",
      " 1   encounter_id        48911 non-null  int64  \n",
      " 2   patient_id          48911 non-null  int64  \n",
      " 3   race                47797 non-null  object \n",
      " 4   gender              48911 non-null  object \n",
      " 5   age                 48911 non-null  object \n",
      " 6   weight              1557 non-null   object \n",
      " 7   time_in_hospital    48911 non-null  int64  \n",
      " 8   medical_specialty   24928 non-null  object \n",
      " 9   num_lab_procedures  48911 non-null  int64  \n",
      " 10  num_procedures      48911 non-null  int64  \n",
      " 11  num_medications     48911 non-null  int64  \n",
      " 12  number_outpatient   48911 non-null  int64  \n",
      " 13  number_emergency    48911 non-null  int64  \n",
      " 14  number_inpatient    48911 non-null  int64  \n",
      " 15  diag_1              48900 non-null  object \n",
      " 16  diag_2              48739 non-null  object \n",
      " 17  diag_3              48226 non-null  object \n",
      " 18  diag_4              48226 non-null  object \n",
      " 19  diag_5              48911 non-null  float64\n",
      " 20  number_diagnoses    48911 non-null  int64  \n",
      " 21  X1                  48911 non-null  object \n",
      " 22  X2                  48911 non-null  object \n",
      " 23  X3                  48911 non-null  object \n",
      " 24  X4                  48911 non-null  object \n",
      " 25  X5                  48911 non-null  object \n",
      " 26  X6                  48911 non-null  object \n",
      " 27  X7                  48911 non-null  object \n",
      " 28  X8                  48911 non-null  object \n",
      " 29  X9                  48911 non-null  object \n",
      " 30  X10                 48911 non-null  object \n",
      " 31  X11                 48911 non-null  object \n",
      " 32  X12                 48911 non-null  object \n",
      " 33  X13                 48911 non-null  object \n",
      " 34  X14                 48911 non-null  object \n",
      " 35  X15                 48911 non-null  object \n",
      " 36  X16                 48911 non-null  object \n",
      " 37  X17                 48911 non-null  object \n",
      " 38  X18                 48911 non-null  object \n",
      " 39  X19                 48911 non-null  object \n",
      " 40  X20                 48911 non-null  object \n",
      " 41  X21                 48911 non-null  object \n",
      " 42  X22                 48911 non-null  object \n",
      " 43  X23                 48911 non-null  object \n",
      " 44  X24                 48911 non-null  object \n",
      " 45  X25                 48911 non-null  object \n",
      " 46  change              48911 non-null  object \n",
      " 47  diabetesMed         48911 non-null  object \n",
      " 48  readmitted          48911 non-null  int64  \n",
      "dtypes: float64(1), int64(12), object(36)\n",
      "memory usage: 18.7+ MB\n"
     ]
    }
   ],
   "source": [
    "df.info()"
   ]
  },
  {
   "cell_type": "code",
   "execution_count": 12,
   "id": "a19dce08",
   "metadata": {},
   "outputs": [
    {
     "data": {
      "text/plain": [
       "428    3335\n",
       "414    3137\n",
       "786    1949\n",
       "410    1745\n",
       "486    1658\n",
       "       ... \n",
       "939       1\n",
       "143       1\n",
       "746       1\n",
       "52        1\n",
       "862       1\n",
       "Name: diag_1, Length: 651, dtype: int64"
      ]
     },
     "execution_count": 12,
     "metadata": {},
     "output_type": "execute_result"
    }
   ],
   "source": [
    "df['diag_1'].value_counts()"
   ]
  },
  {
   "cell_type": "code",
   "execution_count": 13,
   "id": "014be559",
   "metadata": {},
   "outputs": [
    {
     "data": {
      "text/plain": [
       "276     3245\n",
       "428     3194\n",
       "250     3031\n",
       "427     2351\n",
       "401     1726\n",
       "        ... \n",
       "E817       1\n",
       "217        1\n",
       "917        1\n",
       "123        1\n",
       "78         1\n",
       "Name: diag_2, Length: 655, dtype: int64"
      ]
     },
     "execution_count": 13,
     "metadata": {},
     "output_type": "execute_result"
    }
   ],
   "source": [
    "df['diag_2'].value_counts()"
   ]
  },
  {
   "cell_type": "code",
   "execution_count": 14,
   "id": "59c97c60",
   "metadata": {},
   "outputs": [
    {
     "data": {
      "text/plain": [
       "250     5508\n",
       "401     4020\n",
       "276     2484\n",
       "428     2210\n",
       "427     1948\n",
       "        ... \n",
       "754        1\n",
       "E949       1\n",
       "395        1\n",
       "148        1\n",
       "980        1\n",
       "Name: diag_3, Length: 706, dtype: int64"
      ]
     },
     "execution_count": 14,
     "metadata": {},
     "output_type": "execute_result"
    }
   ],
   "source": [
    "df['diag_3'].value_counts()"
   ]
  },
  {
   "cell_type": "code",
   "execution_count": 15,
   "id": "c8862703",
   "metadata": {},
   "outputs": [
    {
     "data": {
      "text/plain": [
       "250     5508\n",
       "401     4020\n",
       "276     2484\n",
       "428     2210\n",
       "427     1948\n",
       "        ... \n",
       "754        1\n",
       "E949       1\n",
       "395        1\n",
       "148        1\n",
       "980        1\n",
       "Name: diag_4, Length: 706, dtype: int64"
      ]
     },
     "execution_count": 15,
     "metadata": {},
     "output_type": "execute_result"
    }
   ],
   "source": [
    "df['diag_4'].value_counts()"
   ]
  },
  {
   "cell_type": "code",
   "execution_count": 16,
   "id": "fa3bf739",
   "metadata": {},
   "outputs": [],
   "source": [
    "df['diag_1']=df['diag_1'].str.replace('V','').str.replace('E','')\n",
    "df['diag_2']=df['diag_2'].str.replace('V','').str.replace('E','')\n",
    "df['diag_3']=df['diag_3'].str.replace('V','').str.replace('E','')\n",
    "df['diag_4']=df['diag_4'].str.replace('V','').str.replace('E','')\n",
    "df['diag_1']=df['diag_1'].astype('float64')\n",
    "df['diag_2']=df['diag_2'].astype('float64')\n",
    "df['diag_3']=df['diag_3'].astype('float64')\n",
    "df['diag_4']=df['diag_4'].astype('float64')"
   ]
  },
  {
   "cell_type": "code",
   "execution_count": 17,
   "id": "8e219608",
   "metadata": {},
   "outputs": [
    {
     "name": "stdout",
     "output_type": "stream",
     "text": [
      "<class 'pandas.core.frame.DataFrame'>\n",
      "Int64Index: 48911 entries, 0 to 66586\n",
      "Data columns (total 49 columns):\n",
      " #   Column              Non-Null Count  Dtype  \n",
      "---  ------              --------------  -----  \n",
      " 0   index               48911 non-null  int64  \n",
      " 1   encounter_id        48911 non-null  int64  \n",
      " 2   patient_id          48911 non-null  int64  \n",
      " 3   race                47797 non-null  object \n",
      " 4   gender              48911 non-null  object \n",
      " 5   age                 48911 non-null  object \n",
      " 6   weight              1557 non-null   object \n",
      " 7   time_in_hospital    48911 non-null  int64  \n",
      " 8   medical_specialty   24928 non-null  object \n",
      " 9   num_lab_procedures  48911 non-null  int64  \n",
      " 10  num_procedures      48911 non-null  int64  \n",
      " 11  num_medications     48911 non-null  int64  \n",
      " 12  number_outpatient   48911 non-null  int64  \n",
      " 13  number_emergency    48911 non-null  int64  \n",
      " 14  number_inpatient    48911 non-null  int64  \n",
      " 15  diag_1              48900 non-null  float64\n",
      " 16  diag_2              48739 non-null  float64\n",
      " 17  diag_3              48226 non-null  float64\n",
      " 18  diag_4              48226 non-null  float64\n",
      " 19  diag_5              48911 non-null  float64\n",
      " 20  number_diagnoses    48911 non-null  int64  \n",
      " 21  X1                  48911 non-null  object \n",
      " 22  X2                  48911 non-null  object \n",
      " 23  X3                  48911 non-null  object \n",
      " 24  X4                  48911 non-null  object \n",
      " 25  X5                  48911 non-null  object \n",
      " 26  X6                  48911 non-null  object \n",
      " 27  X7                  48911 non-null  object \n",
      " 28  X8                  48911 non-null  object \n",
      " 29  X9                  48911 non-null  object \n",
      " 30  X10                 48911 non-null  object \n",
      " 31  X11                 48911 non-null  object \n",
      " 32  X12                 48911 non-null  object \n",
      " 33  X13                 48911 non-null  object \n",
      " 34  X14                 48911 non-null  object \n",
      " 35  X15                 48911 non-null  object \n",
      " 36  X16                 48911 non-null  object \n",
      " 37  X17                 48911 non-null  object \n",
      " 38  X18                 48911 non-null  object \n",
      " 39  X19                 48911 non-null  object \n",
      " 40  X20                 48911 non-null  object \n",
      " 41  X21                 48911 non-null  object \n",
      " 42  X22                 48911 non-null  object \n",
      " 43  X23                 48911 non-null  object \n",
      " 44  X24                 48911 non-null  object \n",
      " 45  X25                 48911 non-null  object \n",
      " 46  change              48911 non-null  object \n",
      " 47  diabetesMed         48911 non-null  object \n",
      " 48  readmitted          48911 non-null  int64  \n",
      "dtypes: float64(5), int64(12), object(32)\n",
      "memory usage: 18.7+ MB\n"
     ]
    }
   ],
   "source": [
    "df.info()"
   ]
  },
  {
   "cell_type": "code",
   "execution_count": 18,
   "id": "47c588ef",
   "metadata": {},
   "outputs": [
    {
     "data": {
      "text/plain": [
       "index                 48911\n",
       "encounter_id          48911\n",
       "patient_id            39650\n",
       "race                      5\n",
       "gender                    3\n",
       "age                      10\n",
       "weight                    9\n",
       "time_in_hospital         14\n",
       "medical_specialty        64\n",
       "num_lab_procedures      113\n",
       "num_procedures            7\n",
       "num_medications          71\n",
       "number_outpatient        33\n",
       "number_emergency         26\n",
       "number_inpatient         19\n",
       "diag_1                  644\n",
       "diag_2                  630\n",
       "diag_3                  667\n",
       "diag_4                  667\n",
       "diag_5                48911\n",
       "number_diagnoses         16\n",
       "X1                        4\n",
       "X2                        4\n",
       "X3                        4\n",
       "X4                        4\n",
       "X5                        4\n",
       "X6                        3\n",
       "X7                        4\n",
       "X8                        1\n",
       "X9                        4\n",
       "X10                       4\n",
       "X11                       2\n",
       "X12                       4\n",
       "X13                       4\n",
       "X14                       4\n",
       "X15                       3\n",
       "X16                       2\n",
       "X17                       2\n",
       "X18                       1\n",
       "X19                       1\n",
       "X20                       4\n",
       "X21                       4\n",
       "X22                       2\n",
       "X23                       2\n",
       "X24                       2\n",
       "X25                       1\n",
       "change                    2\n",
       "diabetesMed               2\n",
       "readmitted                2\n",
       "dtype: int64"
      ]
     },
     "execution_count": 18,
     "metadata": {},
     "output_type": "execute_result"
    }
   ],
   "source": [
    "df.nunique()"
   ]
  },
  {
   "cell_type": "code",
   "execution_count": 19,
   "id": "70d2df8b",
   "metadata": {},
   "outputs": [
    {
     "data": {
      "text/plain": [
       "index                     0\n",
       "encounter_id              0\n",
       "patient_id                0\n",
       "race                   1114\n",
       "gender                    0\n",
       "age                       0\n",
       "weight                47354\n",
       "time_in_hospital          0\n",
       "medical_specialty     23983\n",
       "num_lab_procedures        0\n",
       "num_procedures            0\n",
       "num_medications           0\n",
       "number_outpatient         0\n",
       "number_emergency          0\n",
       "number_inpatient          0\n",
       "diag_1                   11\n",
       "diag_2                  172\n",
       "diag_3                  685\n",
       "diag_4                  685\n",
       "diag_5                    0\n",
       "number_diagnoses          0\n",
       "X1                        0\n",
       "X2                        0\n",
       "X3                        0\n",
       "X4                        0\n",
       "X5                        0\n",
       "X6                        0\n",
       "X7                        0\n",
       "X8                        0\n",
       "X9                        0\n",
       "X10                       0\n",
       "X11                       0\n",
       "X12                       0\n",
       "X13                       0\n",
       "X14                       0\n",
       "X15                       0\n",
       "X16                       0\n",
       "X17                       0\n",
       "X18                       0\n",
       "X19                       0\n",
       "X20                       0\n",
       "X21                       0\n",
       "X22                       0\n",
       "X23                       0\n",
       "X24                       0\n",
       "X25                       0\n",
       "change                    0\n",
       "diabetesMed               0\n",
       "readmitted                0\n",
       "dtype: int64"
      ]
     },
     "execution_count": 19,
     "metadata": {},
     "output_type": "execute_result"
    }
   ],
   "source": [
    "df.isnull().sum()"
   ]
  },
  {
   "cell_type": "code",
   "execution_count": 20,
   "id": "022e75ac",
   "metadata": {},
   "outputs": [],
   "source": [
    "df1=df.drop(['index','encounter_id','patient_id','diag_5','weight'],axis=1)"
   ]
  },
  {
   "cell_type": "code",
   "execution_count": 21,
   "id": "8357cf49",
   "metadata": {},
   "outputs": [
    {
     "data": {
      "text/html": [
       "<div>\n",
       "<style scoped>\n",
       "    .dataframe tbody tr th:only-of-type {\n",
       "        vertical-align: middle;\n",
       "    }\n",
       "\n",
       "    .dataframe tbody tr th {\n",
       "        vertical-align: top;\n",
       "    }\n",
       "\n",
       "    .dataframe thead th {\n",
       "        text-align: right;\n",
       "    }\n",
       "</style>\n",
       "<table border=\"1\" class=\"dataframe\">\n",
       "  <thead>\n",
       "    <tr style=\"text-align: right;\">\n",
       "      <th></th>\n",
       "      <th>race</th>\n",
       "      <th>gender</th>\n",
       "      <th>age</th>\n",
       "      <th>time_in_hospital</th>\n",
       "      <th>medical_specialty</th>\n",
       "      <th>num_lab_procedures</th>\n",
       "      <th>num_procedures</th>\n",
       "      <th>num_medications</th>\n",
       "      <th>number_outpatient</th>\n",
       "      <th>number_emergency</th>\n",
       "      <th>number_inpatient</th>\n",
       "      <th>diag_1</th>\n",
       "      <th>diag_2</th>\n",
       "      <th>diag_3</th>\n",
       "      <th>diag_4</th>\n",
       "      <th>number_diagnoses</th>\n",
       "      <th>X1</th>\n",
       "      <th>X2</th>\n",
       "      <th>X3</th>\n",
       "      <th>X4</th>\n",
       "      <th>X5</th>\n",
       "      <th>X6</th>\n",
       "      <th>X7</th>\n",
       "      <th>X8</th>\n",
       "      <th>X9</th>\n",
       "      <th>X10</th>\n",
       "      <th>X11</th>\n",
       "      <th>X12</th>\n",
       "      <th>X13</th>\n",
       "      <th>X14</th>\n",
       "      <th>X15</th>\n",
       "      <th>X16</th>\n",
       "      <th>X17</th>\n",
       "      <th>X18</th>\n",
       "      <th>X19</th>\n",
       "      <th>X20</th>\n",
       "      <th>X21</th>\n",
       "      <th>X22</th>\n",
       "      <th>X23</th>\n",
       "      <th>X24</th>\n",
       "      <th>X25</th>\n",
       "      <th>change</th>\n",
       "      <th>diabetesMed</th>\n",
       "      <th>readmitted</th>\n",
       "    </tr>\n",
       "  </thead>\n",
       "  <tbody>\n",
       "    <tr>\n",
       "      <th>0</th>\n",
       "      <td>Hispanic</td>\n",
       "      <td>Male</td>\n",
       "      <td>[80-90)</td>\n",
       "      <td>4</td>\n",
       "      <td>Emergency/Trauma</td>\n",
       "      <td>39</td>\n",
       "      <td>1</td>\n",
       "      <td>9</td>\n",
       "      <td>1</td>\n",
       "      <td>1</td>\n",
       "      <td>4</td>\n",
       "      <td>783.0</td>\n",
       "      <td>403.0</td>\n",
       "      <td>585.0</td>\n",
       "      <td>585.0</td>\n",
       "      <td>9</td>\n",
       "      <td>None</td>\n",
       "      <td>None</td>\n",
       "      <td>No</td>\n",
       "      <td>No</td>\n",
       "      <td>No</td>\n",
       "      <td>No</td>\n",
       "      <td>No</td>\n",
       "      <td>No</td>\n",
       "      <td>No</td>\n",
       "      <td>No</td>\n",
       "      <td>No</td>\n",
       "      <td>No</td>\n",
       "      <td>Steady</td>\n",
       "      <td>No</td>\n",
       "      <td>No</td>\n",
       "      <td>No</td>\n",
       "      <td>No</td>\n",
       "      <td>No</td>\n",
       "      <td>No</td>\n",
       "      <td>No</td>\n",
       "      <td>No</td>\n",
       "      <td>No</td>\n",
       "      <td>No</td>\n",
       "      <td>No</td>\n",
       "      <td>No</td>\n",
       "      <td>No</td>\n",
       "      <td>Yes</td>\n",
       "      <td>1</td>\n",
       "    </tr>\n",
       "    <tr>\n",
       "      <th>1</th>\n",
       "      <td>Caucasian</td>\n",
       "      <td>Male</td>\n",
       "      <td>[60-70)</td>\n",
       "      <td>3</td>\n",
       "      <td>Emergency/Trauma</td>\n",
       "      <td>34</td>\n",
       "      <td>1</td>\n",
       "      <td>12</td>\n",
       "      <td>0</td>\n",
       "      <td>0</td>\n",
       "      <td>0</td>\n",
       "      <td>564.0</td>\n",
       "      <td>788.0</td>\n",
       "      <td>569.0</td>\n",
       "      <td>569.0</td>\n",
       "      <td>6</td>\n",
       "      <td>None</td>\n",
       "      <td>None</td>\n",
       "      <td>No</td>\n",
       "      <td>No</td>\n",
       "      <td>No</td>\n",
       "      <td>No</td>\n",
       "      <td>No</td>\n",
       "      <td>No</td>\n",
       "      <td>No</td>\n",
       "      <td>No</td>\n",
       "      <td>No</td>\n",
       "      <td>No</td>\n",
       "      <td>No</td>\n",
       "      <td>No</td>\n",
       "      <td>No</td>\n",
       "      <td>No</td>\n",
       "      <td>No</td>\n",
       "      <td>No</td>\n",
       "      <td>No</td>\n",
       "      <td>No</td>\n",
       "      <td>No</td>\n",
       "      <td>No</td>\n",
       "      <td>No</td>\n",
       "      <td>No</td>\n",
       "      <td>No</td>\n",
       "      <td>No</td>\n",
       "      <td>No</td>\n",
       "      <td>0</td>\n",
       "    </tr>\n",
       "    <tr>\n",
       "      <th>2</th>\n",
       "      <td>Caucasian</td>\n",
       "      <td>Female</td>\n",
       "      <td>[50-60)</td>\n",
       "      <td>6</td>\n",
       "      <td>Nephrology</td>\n",
       "      <td>50</td>\n",
       "      <td>2</td>\n",
       "      <td>24</td>\n",
       "      <td>0</td>\n",
       "      <td>0</td>\n",
       "      <td>5</td>\n",
       "      <td>574.0</td>\n",
       "      <td>403.0</td>\n",
       "      <td>585.0</td>\n",
       "      <td>585.0</td>\n",
       "      <td>9</td>\n",
       "      <td>None</td>\n",
       "      <td>None</td>\n",
       "      <td>No</td>\n",
       "      <td>No</td>\n",
       "      <td>No</td>\n",
       "      <td>No</td>\n",
       "      <td>No</td>\n",
       "      <td>No</td>\n",
       "      <td>No</td>\n",
       "      <td>No</td>\n",
       "      <td>No</td>\n",
       "      <td>No</td>\n",
       "      <td>No</td>\n",
       "      <td>No</td>\n",
       "      <td>No</td>\n",
       "      <td>No</td>\n",
       "      <td>No</td>\n",
       "      <td>No</td>\n",
       "      <td>No</td>\n",
       "      <td>Down</td>\n",
       "      <td>No</td>\n",
       "      <td>No</td>\n",
       "      <td>No</td>\n",
       "      <td>No</td>\n",
       "      <td>No</td>\n",
       "      <td>Ch</td>\n",
       "      <td>Yes</td>\n",
       "      <td>1</td>\n",
       "    </tr>\n",
       "    <tr>\n",
       "      <th>3</th>\n",
       "      <td>AfricanAmerican</td>\n",
       "      <td>Female</td>\n",
       "      <td>[70-80)</td>\n",
       "      <td>5</td>\n",
       "      <td>NaN</td>\n",
       "      <td>63</td>\n",
       "      <td>0</td>\n",
       "      <td>14</td>\n",
       "      <td>0</td>\n",
       "      <td>0</td>\n",
       "      <td>0</td>\n",
       "      <td>401.0</td>\n",
       "      <td>783.0</td>\n",
       "      <td>250.0</td>\n",
       "      <td>250.0</td>\n",
       "      <td>7</td>\n",
       "      <td>None</td>\n",
       "      <td>Norm</td>\n",
       "      <td>No</td>\n",
       "      <td>No</td>\n",
       "      <td>No</td>\n",
       "      <td>No</td>\n",
       "      <td>No</td>\n",
       "      <td>No</td>\n",
       "      <td>No</td>\n",
       "      <td>No</td>\n",
       "      <td>No</td>\n",
       "      <td>No</td>\n",
       "      <td>No</td>\n",
       "      <td>No</td>\n",
       "      <td>No</td>\n",
       "      <td>No</td>\n",
       "      <td>No</td>\n",
       "      <td>No</td>\n",
       "      <td>No</td>\n",
       "      <td>Down</td>\n",
       "      <td>No</td>\n",
       "      <td>No</td>\n",
       "      <td>No</td>\n",
       "      <td>No</td>\n",
       "      <td>No</td>\n",
       "      <td>Ch</td>\n",
       "      <td>Yes</td>\n",
       "      <td>1</td>\n",
       "    </tr>\n",
       "    <tr>\n",
       "      <th>4</th>\n",
       "      <td>Caucasian</td>\n",
       "      <td>Male</td>\n",
       "      <td>[70-80)</td>\n",
       "      <td>9</td>\n",
       "      <td>Psychiatry</td>\n",
       "      <td>17</td>\n",
       "      <td>1</td>\n",
       "      <td>11</td>\n",
       "      <td>0</td>\n",
       "      <td>0</td>\n",
       "      <td>0</td>\n",
       "      <td>311.0</td>\n",
       "      <td>276.0</td>\n",
       "      <td>300.0</td>\n",
       "      <td>300.0</td>\n",
       "      <td>9</td>\n",
       "      <td>&gt;200</td>\n",
       "      <td>None</td>\n",
       "      <td>No</td>\n",
       "      <td>No</td>\n",
       "      <td>No</td>\n",
       "      <td>No</td>\n",
       "      <td>No</td>\n",
       "      <td>No</td>\n",
       "      <td>No</td>\n",
       "      <td>No</td>\n",
       "      <td>No</td>\n",
       "      <td>No</td>\n",
       "      <td>No</td>\n",
       "      <td>No</td>\n",
       "      <td>No</td>\n",
       "      <td>No</td>\n",
       "      <td>No</td>\n",
       "      <td>No</td>\n",
       "      <td>No</td>\n",
       "      <td>No</td>\n",
       "      <td>No</td>\n",
       "      <td>No</td>\n",
       "      <td>No</td>\n",
       "      <td>No</td>\n",
       "      <td>No</td>\n",
       "      <td>No</td>\n",
       "      <td>No</td>\n",
       "      <td>1</td>\n",
       "    </tr>\n",
       "  </tbody>\n",
       "</table>\n",
       "</div>"
      ],
      "text/plain": [
       "              race  gender      age  time_in_hospital medical_specialty  \\\n",
       "0         Hispanic    Male  [80-90)                 4  Emergency/Trauma   \n",
       "1        Caucasian    Male  [60-70)                 3  Emergency/Trauma   \n",
       "2        Caucasian  Female  [50-60)                 6        Nephrology   \n",
       "3  AfricanAmerican  Female  [70-80)                 5               NaN   \n",
       "4        Caucasian    Male  [70-80)                 9        Psychiatry   \n",
       "\n",
       "   num_lab_procedures  num_procedures  num_medications  number_outpatient  \\\n",
       "0                  39               1                9                  1   \n",
       "1                  34               1               12                  0   \n",
       "2                  50               2               24                  0   \n",
       "3                  63               0               14                  0   \n",
       "4                  17               1               11                  0   \n",
       "\n",
       "   number_emergency  number_inpatient  diag_1  diag_2  diag_3  diag_4  \\\n",
       "0                 1                 4   783.0   403.0   585.0   585.0   \n",
       "1                 0                 0   564.0   788.0   569.0   569.0   \n",
       "2                 0                 5   574.0   403.0   585.0   585.0   \n",
       "3                 0                 0   401.0   783.0   250.0   250.0   \n",
       "4                 0                 0   311.0   276.0   300.0   300.0   \n",
       "\n",
       "   number_diagnoses    X1    X2  X3  X4  X5  X6  X7  X8  X9 X10 X11 X12  \\\n",
       "0                 9  None  None  No  No  No  No  No  No  No  No  No  No   \n",
       "1                 6  None  None  No  No  No  No  No  No  No  No  No  No   \n",
       "2                 9  None  None  No  No  No  No  No  No  No  No  No  No   \n",
       "3                 7  None  Norm  No  No  No  No  No  No  No  No  No  No   \n",
       "4                 9  >200  None  No  No  No  No  No  No  No  No  No  No   \n",
       "\n",
       "      X13 X14 X15 X16 X17 X18 X19   X20 X21 X22 X23 X24 X25 change  \\\n",
       "0  Steady  No  No  No  No  No  No    No  No  No  No  No  No     No   \n",
       "1      No  No  No  No  No  No  No    No  No  No  No  No  No     No   \n",
       "2      No  No  No  No  No  No  No  Down  No  No  No  No  No     Ch   \n",
       "3      No  No  No  No  No  No  No  Down  No  No  No  No  No     Ch   \n",
       "4      No  No  No  No  No  No  No    No  No  No  No  No  No     No   \n",
       "\n",
       "  diabetesMed  readmitted  \n",
       "0         Yes           1  \n",
       "1          No           0  \n",
       "2         Yes           1  \n",
       "3         Yes           1  \n",
       "4          No           1  "
      ]
     },
     "execution_count": 21,
     "metadata": {},
     "output_type": "execute_result"
    }
   ],
   "source": [
    "df1.head()"
   ]
  },
  {
   "cell_type": "code",
   "execution_count": 22,
   "id": "91503714",
   "metadata": {},
   "outputs": [
    {
     "name": "stdout",
     "output_type": "stream",
     "text": [
      "<class 'pandas.core.frame.DataFrame'>\n",
      "Int64Index: 48911 entries, 0 to 66586\n",
      "Data columns (total 44 columns):\n",
      " #   Column              Non-Null Count  Dtype  \n",
      "---  ------              --------------  -----  \n",
      " 0   race                47797 non-null  object \n",
      " 1   gender              48911 non-null  object \n",
      " 2   age                 48911 non-null  object \n",
      " 3   time_in_hospital    48911 non-null  int64  \n",
      " 4   medical_specialty   24928 non-null  object \n",
      " 5   num_lab_procedures  48911 non-null  int64  \n",
      " 6   num_procedures      48911 non-null  int64  \n",
      " 7   num_medications     48911 non-null  int64  \n",
      " 8   number_outpatient   48911 non-null  int64  \n",
      " 9   number_emergency    48911 non-null  int64  \n",
      " 10  number_inpatient    48911 non-null  int64  \n",
      " 11  diag_1              48900 non-null  float64\n",
      " 12  diag_2              48739 non-null  float64\n",
      " 13  diag_3              48226 non-null  float64\n",
      " 14  diag_4              48226 non-null  float64\n",
      " 15  number_diagnoses    48911 non-null  int64  \n",
      " 16  X1                  48911 non-null  object \n",
      " 17  X2                  48911 non-null  object \n",
      " 18  X3                  48911 non-null  object \n",
      " 19  X4                  48911 non-null  object \n",
      " 20  X5                  48911 non-null  object \n",
      " 21  X6                  48911 non-null  object \n",
      " 22  X7                  48911 non-null  object \n",
      " 23  X8                  48911 non-null  object \n",
      " 24  X9                  48911 non-null  object \n",
      " 25  X10                 48911 non-null  object \n",
      " 26  X11                 48911 non-null  object \n",
      " 27  X12                 48911 non-null  object \n",
      " 28  X13                 48911 non-null  object \n",
      " 29  X14                 48911 non-null  object \n",
      " 30  X15                 48911 non-null  object \n",
      " 31  X16                 48911 non-null  object \n",
      " 32  X17                 48911 non-null  object \n",
      " 33  X18                 48911 non-null  object \n",
      " 34  X19                 48911 non-null  object \n",
      " 35  X20                 48911 non-null  object \n",
      " 36  X21                 48911 non-null  object \n",
      " 37  X22                 48911 non-null  object \n",
      " 38  X23                 48911 non-null  object \n",
      " 39  X24                 48911 non-null  object \n",
      " 40  X25                 48911 non-null  object \n",
      " 41  change              48911 non-null  object \n",
      " 42  diabetesMed         48911 non-null  object \n",
      " 43  readmitted          48911 non-null  int64  \n",
      "dtypes: float64(4), int64(9), object(31)\n",
      "memory usage: 16.8+ MB\n"
     ]
    }
   ],
   "source": [
    "df1.info()"
   ]
  },
  {
   "cell_type": "code",
   "execution_count": 23,
   "id": "96934699",
   "metadata": {},
   "outputs": [],
   "source": [
    "readmitted_label=df1.readmitted.value_counts().index"
   ]
  },
  {
   "cell_type": "code",
   "execution_count": 24,
   "id": "8b259244",
   "metadata": {},
   "outputs": [],
   "source": [
    "readmitted_values=df1.readmitted.value_counts().values"
   ]
  },
  {
   "cell_type": "code",
   "execution_count": 25,
   "id": "2a374af9",
   "metadata": {},
   "outputs": [
    {
     "data": {
      "text/plain": [
       "([<matplotlib.patches.Wedge at 0x2aa45297d30>,\n",
       "  <matplotlib.patches.Wedge at 0x2aa452bc370>],\n",
       " [Text(-0.13015683864437325, 1.0922724922628522, '0'),\n",
       "  Text(0.13015694091030328, -1.0922724800766848, '1')],\n",
       " [Text(-0.07099463926056722, 0.5957849957797375, '53.78%'),\n",
       "  Text(0.0709946950419836, -0.5957849891327371, '46.22%')])"
      ]
     },
     "execution_count": 25,
     "metadata": {},
     "output_type": "execute_result"
    },
    {
     "data": {
      "image/png": "[encoded data removed]",
      "text/plain": [
       "<Figure size 600x600 with 1 Axes>"
      ]
     },
     "metadata": {},
     "output_type": "display_data"
    }
   ],
   "source": [
    "plt.figure(figsize=(6,6))\n",
    "plt.pie(readmitted_values,labels=readmitted_label,autopct='%1.2f%%')"
   ]
  },
  {
   "cell_type": "markdown",
   "id": "36982d59",
   "metadata": {},
   "source": [
    "# Outlier treatment"
   ]
  },
  {
   "cell_type": "code",
   "execution_count": 26,
   "id": "1371f346",
   "metadata": {},
   "outputs": [],
   "source": [
    "numdf = df1.select_dtypes(include=['int64','float64'])"
   ]
  },
  {
   "cell_type": "code",
   "execution_count": 27,
   "id": "8d68d10f",
   "metadata": {},
   "outputs": [
    {
     "data": {
      "text/plain": [
       "Index(['time_in_hospital', 'num_lab_procedures', 'num_procedures',\n",
       "       'num_medications', 'number_outpatient', 'number_emergency',\n",
       "       'number_inpatient', 'diag_1', 'diag_2', 'diag_3', 'diag_4',\n",
       "       'number_diagnoses', 'readmitted'],\n",
       "      dtype='object')"
      ]
     },
     "execution_count": 27,
     "metadata": {},
     "output_type": "execute_result"
    }
   ],
   "source": [
    "numdf.columns"
   ]
  },
  {
   "cell_type": "code",
   "execution_count": 28,
   "id": "79097279",
   "metadata": {},
   "outputs": [
    {
     "data": {
      "image/png": "[encoded data removed]",
      "text/plain": [
       "<Figure size 640x480 with 1 Axes>"
      ]
     },
     "metadata": {},
     "output_type": "display_data"
    },
    {
     "data": {
      "image/png": "[encoded data removed]",
      "text/plain": [
       "<Figure size 640x480 with 1 Axes>"
      ]
     },
     "metadata": {},
     "output_type": "display_data"
    },
    {
     "data": {
      "image/png": "[encoded data removed]",
      "text/plain": [
       "<Figure size 640x480 with 1 Axes>"
      ]
     },
     "metadata": {},
     "output_type": "display_data"
    },
    {
     "data": {
      "image/png": "[encoded data removed]",
      "text/plain": [
       "<Figure size 640x480 with 1 Axes>"
      ]
     },
     "metadata": {},
     "output_type": "display_data"
    },
    {
     "data": {
      "image/png": "[encoded data removed]",
      "text/plain": [
       "<Figure size 640x480 with 1 Axes>"
      ]
     },
     "metadata": {},
     "output_type": "display_data"
    },
    {
     "data": {
      "image/png": "[encoded data removed]",
      "text/plain": [
       "<Figure size 640x480 with 1 Axes>"
      ]
     },
     "metadata": {},
     "output_type": "display_data"
    },
    {
     "data": {
      "image/png": "[encoded data removed]",
      "text/plain": [
       "<Figure size 640x480 with 1 Axes>"
      ]
     },
     "metadata": {},
     "output_type": "display_data"
    },
    {
     "data": {
      "image/png": "[encoded data removed]",
      "text/plain": [
       "<Figure size 640x480 with 1 Axes>"
      ]
     },
     "metadata": {},
     "output_type": "display_data"
    },
    {
     "data": {
      "image/png": "[encoded data removed]",
      "text/plain": [
       "<Figure size 640x480 with 1 Axes>"
      ]
     },
     "metadata": {},
     "output_type": "display_data"
    },
    {
     "data": {
      "image/png": "[encoded data removed]",
      "text/plain": [
       "<Figure size 640x480 with 1 Axes>"
      ]
     },
     "metadata": {},
     "output_type": "display_data"
    },
    {
     "data": {
      "image/png": "[encoded data removed]",
      "text/plain": [
       "<Figure size 640x480 with 1 Axes>"
      ]
     },
     "metadata": {},
     "output_type": "display_data"
    },
    {
     "data": {
      "image/png": "[encoded data removed]",
      "text/plain": [
       "<Figure size 640x480 with 1 Axes>"
      ]
     },
     "metadata": {},
     "output_type": "display_data"
    },
    {
     "data": {
      "image/png": "[encoded data removed]",
      "text/plain": [
       "<Figure size 640x480 with 1 Axes>"
      ]
     },
     "metadata": {},
     "output_type": "display_data"
    }
   ],
   "source": [
    "for column in numdf:\n",
    "    plt.figure()\n",
    "    numdf.boxplot([column]) "
   ]
  },
  {
   "cell_type": "code",
   "execution_count": 29,
   "id": "c5a1039d",
   "metadata": {},
   "outputs": [
    {
     "name": "stdout",
     "output_type": "stream",
     "text": [
      "time_in_hospital        4.00\n",
      "num_lab_procedures     26.00\n",
      "num_procedures          2.00\n",
      "num_medications        10.00\n",
      "number_outpatient       0.00\n",
      "number_emergency        0.00\n",
      "number_inpatient        1.00\n",
      "diag_1                190.00\n",
      "diag_2                254.00\n",
      "diag_3                245.18\n",
      "diag_4                245.18\n",
      "number_diagnoses        3.00\n",
      "readmitted              1.00\n",
      "dtype: float64\n"
     ]
    }
   ],
   "source": [
    "Q1 = numdf.quantile(0.25)\n",
    "Q3 = numdf.quantile(0.75)\n",
    "IQR = Q3 - Q1\n",
    "print(IQR)"
   ]
  },
  {
   "cell_type": "code",
   "execution_count": 30,
   "id": "25be6423",
   "metadata": {},
   "outputs": [
    {
     "data": {
      "text/plain": [
       "time_in_hospital      1066\n",
       "num_lab_procedures      70\n",
       "num_procedures        2403\n",
       "num_medications       1231\n",
       "number_outpatient     8126\n",
       "number_emergency      5578\n",
       "number_inpatient      3436\n",
       "diag_1                4025\n",
       "diag_2                 934\n",
       "diag_3                1261\n",
       "diag_4                1261\n",
       "number_diagnoses       126\n",
       "readmitted               0\n",
       "dtype: int64"
      ]
     },
     "execution_count": 30,
     "metadata": {},
     "output_type": "execute_result"
    }
   ],
   "source": [
    "((numdf > (Q3 + 1.5 * IQR))|(numdf < (Q1 - 1.5 * IQR))).sum()"
   ]
  },
  {
   "cell_type": "code",
   "execution_count": 31,
   "id": "19df4981",
   "metadata": {},
   "outputs": [
    {
     "data": {
      "text/plain": [
       "1.1339483343048256"
      ]
     },
     "execution_count": 31,
     "metadata": {},
     "output_type": "execute_result"
    }
   ],
   "source": [
    "#time_in_hospital\n",
    "df1['time_in_hospital'].skew()"
   ]
  },
  {
   "cell_type": "code",
   "execution_count": 32,
   "id": "6addc0de",
   "metadata": {},
   "outputs": [
    {
     "name": "stdout",
     "output_type": "stream",
     "text": [
      "4.0\n"
     ]
    }
   ],
   "source": [
    "Q1_time_in_hospital = df1['time_in_hospital'].quantile(0.25)\n",
    "Q3_time_in_hospital = df1['time_in_hospital'].quantile(0.75)\n",
    "IQR_time_in_hospital = Q3_time_in_hospital - Q1_time_in_hospital\n",
    "print(IQR_time_in_hospital)"
   ]
  },
  {
   "cell_type": "code",
   "execution_count": 33,
   "id": "3d46d1fe",
   "metadata": {},
   "outputs": [
    {
     "name": "stdout",
     "output_type": "stream",
     "text": [
      "12.0\n",
      "-4.0\n"
     ]
    }
   ],
   "source": [
    "print(Q3_time_in_hospital + 1.5 * IQR_time_in_hospital)\n",
    "print(Q1_time_in_hospital - 1.5 * IQR_time_in_hospital)"
   ]
  },
  {
   "cell_type": "code",
   "execution_count": 34,
   "id": "7c7f0467",
   "metadata": {},
   "outputs": [],
   "source": [
    "df1['time_in_hospital']=np.where(df1['time_in_hospital']<0,0,df1['time_in_hospital'])\n",
    "df1['time_in_hospital']=np.where(df1['time_in_hospital']>12,12,df1['time_in_hospital'])"
   ]
  },
  {
   "cell_type": "code",
   "execution_count": 35,
   "id": "81f5f12d",
   "metadata": {},
   "outputs": [
    {
     "name": "stderr",
     "output_type": "stream",
     "text": [
      "C:\\Users\\nidhi\\anaconda3\\lib\\site-packages\\seaborn\\_decorators.py:36: FutureWarning: Pass the following variable as a keyword arg: x. From version 0.12, the only valid positional argument will be `data`, and passing other arguments without an explicit keyword will result in an error or misinterpretation.\n",
      "  warnings.warn(\n"
     ]
    },
    {
     "data": {
      "text/plain": [
       "<AxesSubplot:xlabel='time_in_hospital'>"
      ]
     },
     "execution_count": 35,
     "metadata": {},
     "output_type": "execute_result"
    },
    {
     "data": {
      "image/png": "[encoded data removed]",
      "text/plain": [
       "<Figure size 640x480 with 1 Axes>"
      ]
     },
     "metadata": {},
     "output_type": "display_data"
    }
   ],
   "source": [
    "sns.boxplot(df1['time_in_hospital']) "
   ]
  },
  {
   "cell_type": "code",
   "execution_count": 36,
   "id": "afad1fe3",
   "metadata": {},
   "outputs": [
    {
     "data": {
      "text/plain": [
       "-0.23515196615930647"
      ]
     },
     "execution_count": 36,
     "metadata": {},
     "output_type": "execute_result"
    }
   ],
   "source": [
    "#num_lab_procedures\n",
    "df1['num_lab_procedures'].skew()"
   ]
  },
  {
   "cell_type": "code",
   "execution_count": 37,
   "id": "6544f52e",
   "metadata": {},
   "outputs": [
    {
     "name": "stdout",
     "output_type": "stream",
     "text": [
      "96.0\n",
      "-8.0\n"
     ]
    }
   ],
   "source": [
    "print(Q3['num_lab_procedures'] + 1.5 * IQR['num_lab_procedures'])\n",
    "print(Q1['num_lab_procedures'] - 1.5 * IQR['num_lab_procedures'])"
   ]
  },
  {
   "cell_type": "code",
   "execution_count": 38,
   "id": "2efbc4f9",
   "metadata": {},
   "outputs": [],
   "source": [
    "df1['num_lab_procedures']=np.where(df1['num_lab_procedures']<0,0,df1['num_lab_procedures'])\n",
    "df1['num_lab_procedures']=np.where(df1['num_lab_procedures']>96,96,df1['num_lab_procedures'])"
   ]
  },
  {
   "cell_type": "code",
   "execution_count": 39,
   "id": "775a6b1a",
   "metadata": {},
   "outputs": [
    {
     "name": "stderr",
     "output_type": "stream",
     "text": [
      "C:\\Users\\nidhi\\anaconda3\\lib\\site-packages\\seaborn\\_decorators.py:36: FutureWarning: Pass the following variable as a keyword arg: x. From version 0.12, the only valid positional argument will be `data`, and passing other arguments without an explicit keyword will result in an error or misinterpretation.\n",
      "  warnings.warn(\n"
     ]
    },
    {
     "data": {
      "text/plain": [
       "<AxesSubplot:xlabel='num_lab_procedures'>"
      ]
     },
     "execution_count": 39,
     "metadata": {},
     "output_type": "execute_result"
    },
    {
     "data": {
      "image/png": "[encoded data removed]",
      "text/plain": [
       "<Figure size 640x480 with 1 Axes>"
      ]
     },
     "metadata": {},
     "output_type": "display_data"
    }
   ],
   "source": [
    "sns.boxplot(df1['num_lab_procedures']) "
   ]
  },
  {
   "cell_type": "code",
   "execution_count": 40,
   "id": "a0d8072a",
   "metadata": {},
   "outputs": [
    {
     "data": {
      "text/plain": [
       "1.3270123859767955"
      ]
     },
     "execution_count": 40,
     "metadata": {},
     "output_type": "execute_result"
    }
   ],
   "source": [
    "#num_procedures\n",
    "df1['num_procedures'].skew()"
   ]
  },
  {
   "cell_type": "code",
   "execution_count": 41,
   "id": "2f339aba",
   "metadata": {},
   "outputs": [
    {
     "name": "stdout",
     "output_type": "stream",
     "text": [
      "5.0\n",
      "-3.0\n"
     ]
    }
   ],
   "source": [
    "print(Q3['num_procedures'] + 1.5 * IQR['num_procedures'])\n",
    "print(Q1['num_procedures'] - 1.5 * IQR['num_procedures'])"
   ]
  },
  {
   "cell_type": "code",
   "execution_count": 42,
   "id": "0250a9c9",
   "metadata": {},
   "outputs": [],
   "source": [
    "df1['num_procedures']=np.where(df1['num_procedures']<0,0,df1['num_procedures'])\n",
    "df1['num_procedures']=np.where(df1['num_procedures']>5,5,df1['num_procedures'])"
   ]
  },
  {
   "cell_type": "code",
   "execution_count": 43,
   "id": "0b9119e2",
   "metadata": {},
   "outputs": [
    {
     "name": "stderr",
     "output_type": "stream",
     "text": [
      "C:\\Users\\nidhi\\anaconda3\\lib\\site-packages\\seaborn\\_decorators.py:36: FutureWarning: Pass the following variable as a keyword arg: x. From version 0.12, the only valid positional argument will be `data`, and passing other arguments without an explicit keyword will result in an error or misinterpretation.\n",
      "  warnings.warn(\n"
     ]
    },
    {
     "data": {
      "text/plain": [
       "<AxesSubplot:xlabel='num_procedures'>"
      ]
     },
     "execution_count": 43,
     "metadata": {},
     "output_type": "execute_result"
    },
    {
     "data": {
      "image/png": "[encoded data removed]",
      "text/plain": [
       "<Figure size 640x480 with 1 Axes>"
      ]
     },
     "metadata": {},
     "output_type": "display_data"
    }
   ],
   "source": [
    "sns.boxplot(df1['num_procedures']) "
   ]
  },
  {
   "cell_type": "code",
   "execution_count": 44,
   "id": "6e659b16",
   "metadata": {},
   "outputs": [
    {
     "data": {
      "text/plain": [
       "1.3277786729485495"
      ]
     },
     "execution_count": 44,
     "metadata": {},
     "output_type": "execute_result"
    }
   ],
   "source": [
    "#num_medications\n",
    "df1['num_medications'].skew()"
   ]
  },
  {
   "cell_type": "code",
   "execution_count": 45,
   "id": "c3c99be1",
   "metadata": {},
   "outputs": [
    {
     "name": "stdout",
     "output_type": "stream",
     "text": [
      "35.0\n",
      "-5.0\n"
     ]
    }
   ],
   "source": [
    "print(Q3['num_medications'] + 1.5 * IQR['num_medications'])\n",
    "print(Q1['num_medications'] - 1.5 * IQR['num_medications'])"
   ]
  },
  {
   "cell_type": "code",
   "execution_count": 46,
   "id": "bbf5941c",
   "metadata": {},
   "outputs": [],
   "source": [
    "df1['num_medications']=np.where(df1['num_medications']<0,0,df1['num_medications'])\n",
    "df1['num_medications']=np.where(df1['num_medications']>35,35,df1['num_medications'])"
   ]
  },
  {
   "cell_type": "code",
   "execution_count": 47,
   "id": "51743dd1",
   "metadata": {},
   "outputs": [
    {
     "name": "stderr",
     "output_type": "stream",
     "text": [
      "C:\\Users\\nidhi\\anaconda3\\lib\\site-packages\\seaborn\\_decorators.py:36: FutureWarning: Pass the following variable as a keyword arg: x. From version 0.12, the only valid positional argument will be `data`, and passing other arguments without an explicit keyword will result in an error or misinterpretation.\n",
      "  warnings.warn(\n"
     ]
    },
    {
     "data": {
      "text/plain": [
       "<AxesSubplot:xlabel='num_medications'>"
      ]
     },
     "execution_count": 47,
     "metadata": {},
     "output_type": "execute_result"
    },
    {
     "data": {
      "image/png": "[encoded data removed]",
      "text/plain": [
       "<Figure size 640x480 with 1 Axes>"
      ]
     },
     "metadata": {},
     "output_type": "display_data"
    }
   ],
   "source": [
    "sns.boxplot(df1['num_medications'])"
   ]
  },
  {
   "cell_type": "code",
   "execution_count": 48,
   "id": "db4ddf5e",
   "metadata": {},
   "outputs": [
    {
     "data": {
      "text/plain": [
       "8.387428274002705"
      ]
     },
     "execution_count": 48,
     "metadata": {},
     "output_type": "execute_result"
    }
   ],
   "source": [
    "#number_outpatient\n",
    "df1['number_outpatient'].skew()"
   ]
  },
  {
   "cell_type": "code",
   "execution_count": 49,
   "id": "d941b057",
   "metadata": {},
   "outputs": [
    {
     "data": {
      "text/plain": [
       "2.6682329524213517"
      ]
     },
     "execution_count": 49,
     "metadata": {},
     "output_type": "execute_result"
    }
   ],
   "source": [
    "sqrt_number_outpatient=df1['number_outpatient']**(1/2)\n",
    "sqrt_number_outpatient.skew()"
   ]
  },
  {
   "cell_type": "code",
   "execution_count": 50,
   "id": "e73799e2",
   "metadata": {},
   "outputs": [],
   "source": [
    "df1['number_outpatient']=sqrt_number_outpatient"
   ]
  },
  {
   "cell_type": "code",
   "execution_count": 51,
   "id": "c4c0838e",
   "metadata": {},
   "outputs": [
    {
     "name": "stderr",
     "output_type": "stream",
     "text": [
      "C:\\Users\\nidhi\\anaconda3\\lib\\site-packages\\seaborn\\_decorators.py:36: FutureWarning: Pass the following variable as a keyword arg: x. From version 0.12, the only valid positional argument will be `data`, and passing other arguments without an explicit keyword will result in an error or misinterpretation.\n",
      "  warnings.warn(\n"
     ]
    },
    {
     "data": {
      "text/plain": [
       "<AxesSubplot:xlabel='number_outpatient'>"
      ]
     },
     "execution_count": 51,
     "metadata": {},
     "output_type": "execute_result"
    },
    {
     "data": {
      "image/png": "[encoded data removed]",
      "text/plain": [
       "<Figure size 640x480 with 1 Axes>"
      ]
     },
     "metadata": {},
     "output_type": "display_data"
    }
   ],
   "source": [
    "sns.boxplot(df1['number_outpatient'])"
   ]
  },
  {
   "cell_type": "code",
   "execution_count": 52,
   "id": "aea4e3fa",
   "metadata": {},
   "outputs": [
    {
     "name": "stdout",
     "output_type": "stream",
     "text": [
      "0.0\n"
     ]
    }
   ],
   "source": [
    "Q1_number_outpatient = df1['number_outpatient'].quantile(0.25)\n",
    "Q3_number_outpatient = df1['number_outpatient'].quantile(0.75)\n",
    "IQR_number_outpatient = Q3_number_outpatient - Q1_number_outpatient\n",
    "print(IQR_number_outpatient)"
   ]
  },
  {
   "cell_type": "code",
   "execution_count": 53,
   "id": "821dbc0f",
   "metadata": {},
   "outputs": [
    {
     "data": {
      "text/plain": [
       "17.313827497205203"
      ]
     },
     "execution_count": 53,
     "metadata": {},
     "output_type": "execute_result"
    }
   ],
   "source": [
    "#number_emergency\n",
    "df1['number_emergency'].skew()"
   ]
  },
  {
   "cell_type": "code",
   "execution_count": 54,
   "id": "0174f768",
   "metadata": {},
   "outputs": [
    {
     "data": {
      "text/plain": [
       "3.6366907376086783"
      ]
     },
     "execution_count": 54,
     "metadata": {},
     "output_type": "execute_result"
    }
   ],
   "source": [
    "sqrt_number_emergency=df1['number_emergency']**(1/2)\n",
    "sqrt_number_emergency.skew()"
   ]
  },
  {
   "cell_type": "code",
   "execution_count": 55,
   "id": "ff9ddbb0",
   "metadata": {},
   "outputs": [],
   "source": [
    "df1['number_emergency']=sqrt_number_emergency"
   ]
  },
  {
   "cell_type": "code",
   "execution_count": 56,
   "id": "1f7fb0dd",
   "metadata": {},
   "outputs": [
    {
     "name": "stdout",
     "output_type": "stream",
     "text": [
      "0.0\n"
     ]
    }
   ],
   "source": [
    "Q1_number_emergency = df1['number_emergency'].quantile(0.25)\n",
    "Q3_number_emergency = df1['number_emergency'].quantile(0.75)\n",
    "IQR_number_emergency = Q3_number_emergency - Q1_number_emergency\n",
    "print(IQR_number_emergency)"
   ]
  },
  {
   "cell_type": "code",
   "execution_count": 57,
   "id": "c6a6d9df",
   "metadata": {},
   "outputs": [
    {
     "name": "stderr",
     "output_type": "stream",
     "text": [
      "C:\\Users\\nidhi\\anaconda3\\lib\\site-packages\\seaborn\\_decorators.py:36: FutureWarning: Pass the following variable as a keyword arg: x. From version 0.12, the only valid positional argument will be `data`, and passing other arguments without an explicit keyword will result in an error or misinterpretation.\n",
      "  warnings.warn(\n"
     ]
    },
    {
     "data": {
      "text/plain": [
       "<AxesSubplot:xlabel='number_emergency'>"
      ]
     },
     "execution_count": 57,
     "metadata": {},
     "output_type": "execute_result"
    },
    {
     "data": {
      "image/png": "[encoded data removed]",
      "text/plain": [
       "<Figure size 640x480 with 1 Axes>"
      ]
     },
     "metadata": {},
     "output_type": "display_data"
    }
   ],
   "source": [
    "sns.boxplot(df1['number_emergency'])"
   ]
  },
  {
   "cell_type": "code",
   "execution_count": 58,
   "id": "5f941e08",
   "metadata": {},
   "outputs": [
    {
     "data": {
      "text/plain": [
       "count    48911.000000\n",
       "mean         0.142366\n",
       "std          0.429957\n",
       "min          0.000000\n",
       "25%          0.000000\n",
       "50%          0.000000\n",
       "75%          0.000000\n",
       "max          7.937254\n",
       "Name: number_emergency, dtype: float64"
      ]
     },
     "execution_count": 58,
     "metadata": {},
     "output_type": "execute_result"
    }
   ],
   "source": [
    "df1['number_emergency'].describe()"
   ]
  },
  {
   "cell_type": "code",
   "execution_count": 59,
   "id": "d72df86f",
   "metadata": {},
   "outputs": [
    {
     "data": {
      "text/plain": [
       "3.5225664365033875"
      ]
     },
     "execution_count": 59,
     "metadata": {},
     "output_type": "execute_result"
    }
   ],
   "source": [
    "#number_inpatient\n",
    "df1['number_inpatient'].skew()"
   ]
  },
  {
   "cell_type": "code",
   "execution_count": 60,
   "id": "cc96c968",
   "metadata": {},
   "outputs": [
    {
     "data": {
      "text/plain": [
       "1.28943723521812"
      ]
     },
     "execution_count": 60,
     "metadata": {},
     "output_type": "execute_result"
    }
   ],
   "source": [
    "sqrt_number_inpatient=df1['number_inpatient']**(1/2)\n",
    "sqrt_number_inpatient.skew()"
   ]
  },
  {
   "cell_type": "code",
   "execution_count": 61,
   "id": "a887bf4c",
   "metadata": {},
   "outputs": [],
   "source": [
    "df1['number_inpatient']=sqrt_number_inpatient"
   ]
  },
  {
   "cell_type": "code",
   "execution_count": 62,
   "id": "29e26ff0",
   "metadata": {},
   "outputs": [
    {
     "name": "stdout",
     "output_type": "stream",
     "text": [
      "1.0\n"
     ]
    }
   ],
   "source": [
    "Q1_number_inpatient = df1['number_inpatient'].quantile(0.25)\n",
    "Q3_number_inpatient = df1['number_inpatient'].quantile(0.75)\n",
    "IQR_number_inpatient = Q3_number_inpatient - Q1_number_inpatient\n",
    "print(IQR_number_inpatient)"
   ]
  },
  {
   "cell_type": "code",
   "execution_count": 63,
   "id": "afc96da7",
   "metadata": {},
   "outputs": [
    {
     "name": "stdout",
     "output_type": "stream",
     "text": [
      "2.5\n",
      "-1.5\n"
     ]
    }
   ],
   "source": [
    "print(Q3_number_inpatient + 1.5 * IQR_number_inpatient)\n",
    "print(Q1_number_inpatient - 1.5 * IQR_number_inpatient)"
   ]
  },
  {
   "cell_type": "code",
   "execution_count": 64,
   "id": "0f538a67",
   "metadata": {},
   "outputs": [],
   "source": [
    "df1['number_inpatient']=np.where(df1['number_inpatient']<-1.5,-1.5,df1['number_inpatient'])\n",
    "df1['number_inpatient']=np.where(df1['number_inpatient']>2.5,2.5,df1['number_inpatient'])"
   ]
  },
  {
   "cell_type": "code",
   "execution_count": 65,
   "id": "a7744ae8",
   "metadata": {},
   "outputs": [
    {
     "name": "stderr",
     "output_type": "stream",
     "text": [
      "C:\\Users\\nidhi\\anaconda3\\lib\\site-packages\\seaborn\\_decorators.py:36: FutureWarning: Pass the following variable as a keyword arg: x. From version 0.12, the only valid positional argument will be `data`, and passing other arguments without an explicit keyword will result in an error or misinterpretation.\n",
      "  warnings.warn(\n"
     ]
    },
    {
     "data": {
      "text/plain": [
       "<AxesSubplot:xlabel='number_inpatient'>"
      ]
     },
     "execution_count": 65,
     "metadata": {},
     "output_type": "execute_result"
    },
    {
     "data": {
      "image/png": "[encoded data removed]",
      "text/plain": [
       "<Figure size 640x480 with 1 Axes>"
      ]
     },
     "metadata": {},
     "output_type": "display_data"
    }
   ],
   "source": [
    "sns.boxplot(df1['number_inpatient'])"
   ]
  },
  {
   "cell_type": "code",
   "execution_count": 66,
   "id": "7a357e66",
   "metadata": {},
   "outputs": [
    {
     "data": {
      "text/plain": [
       "0.2641589367837876"
      ]
     },
     "execution_count": 66,
     "metadata": {},
     "output_type": "execute_result"
    }
   ],
   "source": [
    "#diag_1\n",
    "df1['diag_1'].skew()"
   ]
  },
  {
   "cell_type": "code",
   "execution_count": 67,
   "id": "17be67c5",
   "metadata": {},
   "outputs": [
    {
     "name": "stdout",
     "output_type": "stream",
     "text": [
      "879.0\n",
      "119.0\n"
     ]
    }
   ],
   "source": [
    "print(Q3['diag_1'] + 1.5 * IQR['diag_1'])\n",
    "print(Q1['diag_1'] - 1.5 * IQR['diag_1'])"
   ]
  },
  {
   "cell_type": "code",
   "execution_count": 68,
   "id": "6cc2fa63",
   "metadata": {},
   "outputs": [],
   "source": [
    "df1['diag_1']=np.where(df1['diag_1']<119,119,df1['diag_1'])\n",
    "df1['diag_1']=np.where(df1['diag_1']>879,879,df1['diag_1'])"
   ]
  },
  {
   "cell_type": "code",
   "execution_count": 69,
   "id": "b4098b5d",
   "metadata": {},
   "outputs": [
    {
     "data": {
      "text/plain": [
       "count    48900.000000\n",
       "mean       485.557672\n",
       "std        196.769740\n",
       "min        119.000000\n",
       "25%        404.000000\n",
       "50%        435.000000\n",
       "75%        594.000000\n",
       "max        879.000000\n",
       "Name: diag_1, dtype: float64"
      ]
     },
     "execution_count": 69,
     "metadata": {},
     "output_type": "execute_result"
    }
   ],
   "source": [
    "df1['diag_1'].describe()"
   ]
  },
  {
   "cell_type": "code",
   "execution_count": 70,
   "id": "d2a3f4b1",
   "metadata": {},
   "outputs": [
    {
     "name": "stderr",
     "output_type": "stream",
     "text": [
      "C:\\Users\\nidhi\\anaconda3\\lib\\site-packages\\seaborn\\_decorators.py:36: FutureWarning: Pass the following variable as a keyword arg: x. From version 0.12, the only valid positional argument will be `data`, and passing other arguments without an explicit keyword will result in an error or misinterpretation.\n",
      "  warnings.warn(\n"
     ]
    },
    {
     "data": {
      "text/plain": [
       "<AxesSubplot:xlabel='diag_1'>"
      ]
     },
     "execution_count": 70,
     "metadata": {},
     "output_type": "execute_result"
    },
    {
     "data": {
      "image/png": "[encoded data removed]",
      "text/plain": [
       "<Figure size 640x480 with 1 Axes>"
      ]
     },
     "metadata": {},
     "output_type": "display_data"
    }
   ],
   "source": [
    "sns.boxplot(df1['diag_1'])"
   ]
  },
  {
   "cell_type": "code",
   "execution_count": 71,
   "id": "6e9dbec8",
   "metadata": {},
   "outputs": [
    {
     "data": {
      "text/plain": [
       "0.5843531825261172"
      ]
     },
     "execution_count": 71,
     "metadata": {},
     "output_type": "execute_result"
    }
   ],
   "source": [
    "#diag_2\n",
    "df1['diag_2'].skew()"
   ]
  },
  {
   "cell_type": "code",
   "execution_count": 72,
   "id": "5afa5511",
   "metadata": {},
   "outputs": [
    {
     "name": "stdout",
     "output_type": "stream",
     "text": [
      "911.0\n",
      "-105.0\n"
     ]
    }
   ],
   "source": [
    "print(Q3['diag_2'] + 1.5 * IQR['diag_2'])\n",
    "print(Q1['diag_2'] - 1.5 * IQR['diag_2'])"
   ]
  },
  {
   "cell_type": "code",
   "execution_count": 73,
   "id": "d5ae5114",
   "metadata": {},
   "outputs": [],
   "source": [
    "df1['diag_2']=np.where(df1['diag_2']<-105,-105,df1['diag_2'])\n",
    "df1['diag_2']=np.where(df1['diag_2']>911,911,df1['diag_2'])"
   ]
  },
  {
   "cell_type": "code",
   "execution_count": 74,
   "id": "22f7fc3c",
   "metadata": {},
   "outputs": [
    {
     "name": "stderr",
     "output_type": "stream",
     "text": [
      "C:\\Users\\nidhi\\anaconda3\\lib\\site-packages\\seaborn\\_decorators.py:36: FutureWarning: Pass the following variable as a keyword arg: x. From version 0.12, the only valid positional argument will be `data`, and passing other arguments without an explicit keyword will result in an error or misinterpretation.\n",
      "  warnings.warn(\n"
     ]
    },
    {
     "data": {
      "text/plain": [
       "<AxesSubplot:xlabel='diag_2'>"
      ]
     },
     "execution_count": 74,
     "metadata": {},
     "output_type": "execute_result"
    },
    {
     "data": {
      "image/png": "[encoded data removed]",
      "text/plain": [
       "<Figure size 640x480 with 1 Axes>"
      ]
     },
     "metadata": {},
     "output_type": "display_data"
    }
   ],
   "source": [
    "sns.boxplot(df1['diag_2'])"
   ]
  },
  {
   "cell_type": "code",
   "execution_count": 75,
   "id": "19531b5f",
   "metadata": {},
   "outputs": [
    {
     "data": {
      "text/plain": [
       "0.6585832178680673"
      ]
     },
     "execution_count": 75,
     "metadata": {},
     "output_type": "execute_result"
    }
   ],
   "source": [
    "#diag_3\n",
    "df1['diag_3'].skew()"
   ]
  },
  {
   "cell_type": "code",
   "execution_count": 76,
   "id": "8545628b",
   "metadata": {},
   "outputs": [
    {
     "name": "stdout",
     "output_type": "stream",
     "text": [
      "863.77\n",
      "-116.94999999999999\n"
     ]
    }
   ],
   "source": [
    "print(Q3['diag_3'] + 1.5 * IQR['diag_3'])\n",
    "print(Q1['diag_3'] - 1.5 * IQR['diag_3'])"
   ]
  },
  {
   "cell_type": "code",
   "execution_count": 77,
   "id": "0d1f9e6c",
   "metadata": {},
   "outputs": [],
   "source": [
    "df1['diag_3']=np.where(df1['diag_3']<-116.94999999999999,-116.94999999999999,df1['diag_3'])\n",
    "df1['diag_3']=np.where(df1['diag_3']>863.77,863.77,df1['diag_3'])"
   ]
  },
  {
   "cell_type": "code",
   "execution_count": 78,
   "id": "00eae270",
   "metadata": {},
   "outputs": [
    {
     "name": "stderr",
     "output_type": "stream",
     "text": [
      "C:\\Users\\nidhi\\anaconda3\\lib\\site-packages\\seaborn\\_decorators.py:36: FutureWarning: Pass the following variable as a keyword arg: x. From version 0.12, the only valid positional argument will be `data`, and passing other arguments without an explicit keyword will result in an error or misinterpretation.\n",
      "  warnings.warn(\n"
     ]
    },
    {
     "data": {
      "text/plain": [
       "<AxesSubplot:xlabel='diag_3'>"
      ]
     },
     "execution_count": 78,
     "metadata": {},
     "output_type": "execute_result"
    },
    {
     "data": {
      "image/png": "[encoded data removed]",
      "text/plain": [
       "<Figure size 640x480 with 1 Axes>"
      ]
     },
     "metadata": {},
     "output_type": "display_data"
    }
   ],
   "source": [
    "sns.boxplot(df1['diag_3'])"
   ]
  },
  {
   "cell_type": "code",
   "execution_count": 79,
   "id": "413475a6",
   "metadata": {},
   "outputs": [
    {
     "data": {
      "text/plain": [
       "0.6585832178680673"
      ]
     },
     "execution_count": 79,
     "metadata": {},
     "output_type": "execute_result"
    }
   ],
   "source": [
    "#diag_4\n",
    "df1['diag_4'].skew()"
   ]
  },
  {
   "cell_type": "code",
   "execution_count": 80,
   "id": "d785beec",
   "metadata": {},
   "outputs": [
    {
     "name": "stdout",
     "output_type": "stream",
     "text": [
      "863.77\n",
      "-116.94999999999999\n"
     ]
    }
   ],
   "source": [
    "print(Q3['diag_4'] + 1.5 * IQR['diag_4'])\n",
    "print(Q1['diag_4'] - 1.5 * IQR['diag_4'])"
   ]
  },
  {
   "cell_type": "code",
   "execution_count": 81,
   "id": "b61ed8e4",
   "metadata": {},
   "outputs": [],
   "source": [
    "df1['diag_4']=np.where(df1['diag_4']<-116.94999999999999,-116.94999999999999,df1['diag_4'])\n",
    "df1['diag_4']=np.where(df1['diag_4']>863.77,863.77,df1['diag_4'])"
   ]
  },
  {
   "cell_type": "code",
   "execution_count": 82,
   "id": "49519a35",
   "metadata": {},
   "outputs": [
    {
     "name": "stderr",
     "output_type": "stream",
     "text": [
      "C:\\Users\\nidhi\\anaconda3\\lib\\site-packages\\seaborn\\_decorators.py:36: FutureWarning: Pass the following variable as a keyword arg: x. From version 0.12, the only valid positional argument will be `data`, and passing other arguments without an explicit keyword will result in an error or misinterpretation.\n",
      "  warnings.warn(\n"
     ]
    },
    {
     "data": {
      "text/plain": [
       "<AxesSubplot:xlabel='diag_4'>"
      ]
     },
     "execution_count": 82,
     "metadata": {},
     "output_type": "execute_result"
    },
    {
     "data": {
      "image/png": "[encoded data removed]",
      "text/plain": [
       "<Figure size 640x480 with 1 Axes>"
      ]
     },
     "metadata": {},
     "output_type": "display_data"
    }
   ],
   "source": [
    "sns.boxplot(df1['diag_4'])"
   ]
  },
  {
   "cell_type": "code",
   "execution_count": 83,
   "id": "bfd40dfb",
   "metadata": {},
   "outputs": [],
   "source": [
    "#columns diag_3 and diag_4 are same"
   ]
  },
  {
   "cell_type": "code",
   "execution_count": 84,
   "id": "3060b2c0",
   "metadata": {},
   "outputs": [
    {
     "data": {
      "text/plain": [
       "-0.888036523837932"
      ]
     },
     "execution_count": 84,
     "metadata": {},
     "output_type": "execute_result"
    }
   ],
   "source": [
    "#number_diagnoses\n",
    "df1['number_diagnoses'].skew()"
   ]
  },
  {
   "cell_type": "code",
   "execution_count": 85,
   "id": "23d0546b",
   "metadata": {},
   "outputs": [
    {
     "name": "stdout",
     "output_type": "stream",
     "text": [
      "13.5\n",
      "1.5\n"
     ]
    }
   ],
   "source": [
    "print(Q3['number_diagnoses'] + 1.5 * IQR['number_diagnoses'])\n",
    "print(Q1['number_diagnoses'] - 1.5 * IQR['number_diagnoses'])"
   ]
  },
  {
   "cell_type": "code",
   "execution_count": 86,
   "id": "a3852807",
   "metadata": {},
   "outputs": [],
   "source": [
    "df1['number_diagnoses']=np.where(df1['number_diagnoses']<1.5,1.5,df1['number_diagnoses'])\n",
    "df1['number_diagnoses']=np.where(df1['number_diagnoses']>13.5,13.5,df1['number_diagnoses'])"
   ]
  },
  {
   "cell_type": "code",
   "execution_count": 87,
   "id": "328d06d4",
   "metadata": {},
   "outputs": [
    {
     "name": "stderr",
     "output_type": "stream",
     "text": [
      "C:\\Users\\nidhi\\anaconda3\\lib\\site-packages\\seaborn\\_decorators.py:36: FutureWarning: Pass the following variable as a keyword arg: x. From version 0.12, the only valid positional argument will be `data`, and passing other arguments without an explicit keyword will result in an error or misinterpretation.\n",
      "  warnings.warn(\n"
     ]
    },
    {
     "data": {
      "text/plain": [
       "<AxesSubplot:xlabel='number_diagnoses'>"
      ]
     },
     "execution_count": 87,
     "metadata": {},
     "output_type": "execute_result"
    },
    {
     "data": {
      "image/png": "[encoded data removed]",
      "text/plain": [
       "<Figure size 640x480 with 1 Axes>"
      ]
     },
     "metadata": {},
     "output_type": "display_data"
    }
   ],
   "source": [
    "sns.boxplot(df1['number_diagnoses'])"
   ]
  },
  {
   "cell_type": "markdown",
   "id": "b97c01dc",
   "metadata": {},
   "source": [
    "# Missing Values"
   ]
  },
  {
   "cell_type": "code",
   "execution_count": 88,
   "id": "4744ed32",
   "metadata": {},
   "outputs": [
    {
     "data": {
      "text/plain": [
       "race                   1114\n",
       "gender                    0\n",
       "age                       0\n",
       "time_in_hospital          0\n",
       "medical_specialty     23983\n",
       "num_lab_procedures        0\n",
       "num_procedures            0\n",
       "num_medications           0\n",
       "number_outpatient         0\n",
       "number_emergency          0\n",
       "number_inpatient          0\n",
       "diag_1                   11\n",
       "diag_2                  172\n",
       "diag_3                  685\n",
       "diag_4                  685\n",
       "number_diagnoses          0\n",
       "X1                        0\n",
       "X2                        0\n",
       "X3                        0\n",
       "X4                        0\n",
       "X5                        0\n",
       "X6                        0\n",
       "X7                        0\n",
       "X8                        0\n",
       "X9                        0\n",
       "X10                       0\n",
       "X11                       0\n",
       "X12                       0\n",
       "X13                       0\n",
       "X14                       0\n",
       "X15                       0\n",
       "X16                       0\n",
       "X17                       0\n",
       "X18                       0\n",
       "X19                       0\n",
       "X20                       0\n",
       "X21                       0\n",
       "X22                       0\n",
       "X23                       0\n",
       "X24                       0\n",
       "X25                       0\n",
       "change                    0\n",
       "diabetesMed               0\n",
       "readmitted                0\n",
       "dtype: int64"
      ]
     },
     "execution_count": 88,
     "metadata": {},
     "output_type": "execute_result"
    }
   ],
   "source": [
    "df1.isnull().sum()"
   ]
  },
  {
   "cell_type": "code",
   "execution_count": 89,
   "id": "7404cda2",
   "metadata": {},
   "outputs": [
    {
     "data": {
      "text/plain": [
       "Caucasian          36637\n",
       "AfricanAmerican     9136\n",
       "Hispanic             970\n",
       "Other                754\n",
       "Asian                300\n",
       "Name: race, dtype: int64"
      ]
     },
     "execution_count": 89,
     "metadata": {},
     "output_type": "execute_result"
    }
   ],
   "source": [
    "df1['race'].value_counts()"
   ]
  },
  {
   "cell_type": "code",
   "execution_count": 90,
   "id": "4786bf34",
   "metadata": {},
   "outputs": [
    {
     "data": {
      "text/plain": [
       "0    Caucasian\n",
       "Name: race, dtype: object"
      ]
     },
     "execution_count": 90,
     "metadata": {},
     "output_type": "execute_result"
    }
   ],
   "source": [
    "df1['race'].mode()"
   ]
  },
  {
   "cell_type": "code",
   "execution_count": 91,
   "id": "ef855d15",
   "metadata": {},
   "outputs": [],
   "source": [
    "df1['race'].fillna(df1['race'].mode()[0], inplace = True)"
   ]
  },
  {
   "cell_type": "code",
   "execution_count": 92,
   "id": "4bfd3eb2",
   "metadata": {},
   "outputs": [
    {
     "data": {
      "text/plain": [
       "0"
      ]
     },
     "execution_count": 92,
     "metadata": {},
     "output_type": "execute_result"
    }
   ],
   "source": [
    "df1['race'].isnull().sum()"
   ]
  },
  {
   "cell_type": "code",
   "execution_count": 93,
   "id": "0fdbd36f",
   "metadata": {},
   "outputs": [
    {
     "data": {
      "text/plain": [
       "Caucasian          37751\n",
       "AfricanAmerican     9136\n",
       "Hispanic             970\n",
       "Other                754\n",
       "Asian                300\n",
       "Name: race, dtype: int64"
      ]
     },
     "execution_count": 93,
     "metadata": {},
     "output_type": "execute_result"
    }
   ],
   "source": [
    "df1['race'].value_counts()"
   ]
  },
  {
   "cell_type": "code",
   "execution_count": 94,
   "id": "41e8665d",
   "metadata": {},
   "outputs": [
    {
     "data": {
      "text/plain": [
       "InternalMedicine                  6977\n",
       "Emergency/Trauma                  3642\n",
       "Family/GeneralPractice            3636\n",
       "Cardiology                        2551\n",
       "Surgery-General                   1521\n",
       "                                  ... \n",
       "Pediatrics-EmergencyMedicine         1\n",
       "Speech                               1\n",
       "Psychiatry-Addictive                 1\n",
       "Proctology                           1\n",
       "Pediatrics-Hematology-Oncology       1\n",
       "Name: medical_specialty, Length: 64, dtype: int64"
      ]
     },
     "execution_count": 94,
     "metadata": {},
     "output_type": "execute_result"
    }
   ],
   "source": [
    "df1['medical_specialty'].value_counts()"
   ]
  },
  {
   "cell_type": "code",
   "execution_count": 95,
   "id": "4da72ea0",
   "metadata": {},
   "outputs": [],
   "source": [
    "df2=df1.drop(['medical_specialty'],axis=1)"
   ]
  },
  {
   "cell_type": "code",
   "execution_count": 96,
   "id": "12ab006d",
   "metadata": {},
   "outputs": [
    {
     "data": {
      "text/html": [
       "<div>\n",
       "<style scoped>\n",
       "    .dataframe tbody tr th:only-of-type {\n",
       "        vertical-align: middle;\n",
       "    }\n",
       "\n",
       "    .dataframe tbody tr th {\n",
       "        vertical-align: top;\n",
       "    }\n",
       "\n",
       "    .dataframe thead th {\n",
       "        text-align: right;\n",
       "    }\n",
       "</style>\n",
       "<table border=\"1\" class=\"dataframe\">\n",
       "  <thead>\n",
       "    <tr style=\"text-align: right;\">\n",
       "      <th></th>\n",
       "      <th>race</th>\n",
       "      <th>gender</th>\n",
       "      <th>age</th>\n",
       "      <th>time_in_hospital</th>\n",
       "      <th>num_lab_procedures</th>\n",
       "      <th>num_procedures</th>\n",
       "      <th>num_medications</th>\n",
       "      <th>number_outpatient</th>\n",
       "      <th>number_emergency</th>\n",
       "      <th>number_inpatient</th>\n",
       "      <th>diag_1</th>\n",
       "      <th>diag_2</th>\n",
       "      <th>diag_3</th>\n",
       "      <th>diag_4</th>\n",
       "      <th>number_diagnoses</th>\n",
       "      <th>X1</th>\n",
       "      <th>X2</th>\n",
       "      <th>X3</th>\n",
       "      <th>X4</th>\n",
       "      <th>X5</th>\n",
       "      <th>X6</th>\n",
       "      <th>X7</th>\n",
       "      <th>X8</th>\n",
       "      <th>X9</th>\n",
       "      <th>X10</th>\n",
       "      <th>X11</th>\n",
       "      <th>X12</th>\n",
       "      <th>X13</th>\n",
       "      <th>X14</th>\n",
       "      <th>X15</th>\n",
       "      <th>X16</th>\n",
       "      <th>X17</th>\n",
       "      <th>X18</th>\n",
       "      <th>X19</th>\n",
       "      <th>X20</th>\n",
       "      <th>X21</th>\n",
       "      <th>X22</th>\n",
       "      <th>X23</th>\n",
       "      <th>X24</th>\n",
       "      <th>X25</th>\n",
       "      <th>change</th>\n",
       "      <th>diabetesMed</th>\n",
       "      <th>readmitted</th>\n",
       "    </tr>\n",
       "  </thead>\n",
       "  <tbody>\n",
       "    <tr>\n",
       "      <th>0</th>\n",
       "      <td>Hispanic</td>\n",
       "      <td>Male</td>\n",
       "      <td>[80-90)</td>\n",
       "      <td>4</td>\n",
       "      <td>39</td>\n",
       "      <td>1</td>\n",
       "      <td>9</td>\n",
       "      <td>1.0</td>\n",
       "      <td>1.0</td>\n",
       "      <td>2.000000</td>\n",
       "      <td>783.0</td>\n",
       "      <td>403.0</td>\n",
       "      <td>585.0</td>\n",
       "      <td>585.0</td>\n",
       "      <td>9.0</td>\n",
       "      <td>None</td>\n",
       "      <td>None</td>\n",
       "      <td>No</td>\n",
       "      <td>No</td>\n",
       "      <td>No</td>\n",
       "      <td>No</td>\n",
       "      <td>No</td>\n",
       "      <td>No</td>\n",
       "      <td>No</td>\n",
       "      <td>No</td>\n",
       "      <td>No</td>\n",
       "      <td>No</td>\n",
       "      <td>Steady</td>\n",
       "      <td>No</td>\n",
       "      <td>No</td>\n",
       "      <td>No</td>\n",
       "      <td>No</td>\n",
       "      <td>No</td>\n",
       "      <td>No</td>\n",
       "      <td>No</td>\n",
       "      <td>No</td>\n",
       "      <td>No</td>\n",
       "      <td>No</td>\n",
       "      <td>No</td>\n",
       "      <td>No</td>\n",
       "      <td>No</td>\n",
       "      <td>Yes</td>\n",
       "      <td>1</td>\n",
       "    </tr>\n",
       "    <tr>\n",
       "      <th>1</th>\n",
       "      <td>Caucasian</td>\n",
       "      <td>Male</td>\n",
       "      <td>[60-70)</td>\n",
       "      <td>3</td>\n",
       "      <td>34</td>\n",
       "      <td>1</td>\n",
       "      <td>12</td>\n",
       "      <td>0.0</td>\n",
       "      <td>0.0</td>\n",
       "      <td>0.000000</td>\n",
       "      <td>564.0</td>\n",
       "      <td>788.0</td>\n",
       "      <td>569.0</td>\n",
       "      <td>569.0</td>\n",
       "      <td>6.0</td>\n",
       "      <td>None</td>\n",
       "      <td>None</td>\n",
       "      <td>No</td>\n",
       "      <td>No</td>\n",
       "      <td>No</td>\n",
       "      <td>No</td>\n",
       "      <td>No</td>\n",
       "      <td>No</td>\n",
       "      <td>No</td>\n",
       "      <td>No</td>\n",
       "      <td>No</td>\n",
       "      <td>No</td>\n",
       "      <td>No</td>\n",
       "      <td>No</td>\n",
       "      <td>No</td>\n",
       "      <td>No</td>\n",
       "      <td>No</td>\n",
       "      <td>No</td>\n",
       "      <td>No</td>\n",
       "      <td>No</td>\n",
       "      <td>No</td>\n",
       "      <td>No</td>\n",
       "      <td>No</td>\n",
       "      <td>No</td>\n",
       "      <td>No</td>\n",
       "      <td>No</td>\n",
       "      <td>No</td>\n",
       "      <td>0</td>\n",
       "    </tr>\n",
       "    <tr>\n",
       "      <th>2</th>\n",
       "      <td>Caucasian</td>\n",
       "      <td>Female</td>\n",
       "      <td>[50-60)</td>\n",
       "      <td>6</td>\n",
       "      <td>50</td>\n",
       "      <td>2</td>\n",
       "      <td>24</td>\n",
       "      <td>0.0</td>\n",
       "      <td>0.0</td>\n",
       "      <td>2.236068</td>\n",
       "      <td>574.0</td>\n",
       "      <td>403.0</td>\n",
       "      <td>585.0</td>\n",
       "      <td>585.0</td>\n",
       "      <td>9.0</td>\n",
       "      <td>None</td>\n",
       "      <td>None</td>\n",
       "      <td>No</td>\n",
       "      <td>No</td>\n",
       "      <td>No</td>\n",
       "      <td>No</td>\n",
       "      <td>No</td>\n",
       "      <td>No</td>\n",
       "      <td>No</td>\n",
       "      <td>No</td>\n",
       "      <td>No</td>\n",
       "      <td>No</td>\n",
       "      <td>No</td>\n",
       "      <td>No</td>\n",
       "      <td>No</td>\n",
       "      <td>No</td>\n",
       "      <td>No</td>\n",
       "      <td>No</td>\n",
       "      <td>No</td>\n",
       "      <td>Down</td>\n",
       "      <td>No</td>\n",
       "      <td>No</td>\n",
       "      <td>No</td>\n",
       "      <td>No</td>\n",
       "      <td>No</td>\n",
       "      <td>Ch</td>\n",
       "      <td>Yes</td>\n",
       "      <td>1</td>\n",
       "    </tr>\n",
       "    <tr>\n",
       "      <th>3</th>\n",
       "      <td>AfricanAmerican</td>\n",
       "      <td>Female</td>\n",
       "      <td>[70-80)</td>\n",
       "      <td>5</td>\n",
       "      <td>63</td>\n",
       "      <td>0</td>\n",
       "      <td>14</td>\n",
       "      <td>0.0</td>\n",
       "      <td>0.0</td>\n",
       "      <td>0.000000</td>\n",
       "      <td>401.0</td>\n",
       "      <td>783.0</td>\n",
       "      <td>250.0</td>\n",
       "      <td>250.0</td>\n",
       "      <td>7.0</td>\n",
       "      <td>None</td>\n",
       "      <td>Norm</td>\n",
       "      <td>No</td>\n",
       "      <td>No</td>\n",
       "      <td>No</td>\n",
       "      <td>No</td>\n",
       "      <td>No</td>\n",
       "      <td>No</td>\n",
       "      <td>No</td>\n",
       "      <td>No</td>\n",
       "      <td>No</td>\n",
       "      <td>No</td>\n",
       "      <td>No</td>\n",
       "      <td>No</td>\n",
       "      <td>No</td>\n",
       "      <td>No</td>\n",
       "      <td>No</td>\n",
       "      <td>No</td>\n",
       "      <td>No</td>\n",
       "      <td>Down</td>\n",
       "      <td>No</td>\n",
       "      <td>No</td>\n",
       "      <td>No</td>\n",
       "      <td>No</td>\n",
       "      <td>No</td>\n",
       "      <td>Ch</td>\n",
       "      <td>Yes</td>\n",
       "      <td>1</td>\n",
       "    </tr>\n",
       "    <tr>\n",
       "      <th>4</th>\n",
       "      <td>Caucasian</td>\n",
       "      <td>Male</td>\n",
       "      <td>[70-80)</td>\n",
       "      <td>9</td>\n",
       "      <td>17</td>\n",
       "      <td>1</td>\n",
       "      <td>11</td>\n",
       "      <td>0.0</td>\n",
       "      <td>0.0</td>\n",
       "      <td>0.000000</td>\n",
       "      <td>311.0</td>\n",
       "      <td>276.0</td>\n",
       "      <td>300.0</td>\n",
       "      <td>300.0</td>\n",
       "      <td>9.0</td>\n",
       "      <td>&gt;200</td>\n",
       "      <td>None</td>\n",
       "      <td>No</td>\n",
       "      <td>No</td>\n",
       "      <td>No</td>\n",
       "      <td>No</td>\n",
       "      <td>No</td>\n",
       "      <td>No</td>\n",
       "      <td>No</td>\n",
       "      <td>No</td>\n",
       "      <td>No</td>\n",
       "      <td>No</td>\n",
       "      <td>No</td>\n",
       "      <td>No</td>\n",
       "      <td>No</td>\n",
       "      <td>No</td>\n",
       "      <td>No</td>\n",
       "      <td>No</td>\n",
       "      <td>No</td>\n",
       "      <td>No</td>\n",
       "      <td>No</td>\n",
       "      <td>No</td>\n",
       "      <td>No</td>\n",
       "      <td>No</td>\n",
       "      <td>No</td>\n",
       "      <td>No</td>\n",
       "      <td>No</td>\n",
       "      <td>1</td>\n",
       "    </tr>\n",
       "  </tbody>\n",
       "</table>\n",
       "</div>"
      ],
      "text/plain": [
       "              race  gender      age  time_in_hospital  num_lab_procedures  \\\n",
       "0         Hispanic    Male  [80-90)                 4                  39   \n",
       "1        Caucasian    Male  [60-70)                 3                  34   \n",
       "2        Caucasian  Female  [50-60)                 6                  50   \n",
       "3  AfricanAmerican  Female  [70-80)                 5                  63   \n",
       "4        Caucasian    Male  [70-80)                 9                  17   \n",
       "\n",
       "   num_procedures  num_medications  number_outpatient  number_emergency  \\\n",
       "0               1                9                1.0               1.0   \n",
       "1               1               12                0.0               0.0   \n",
       "2               2               24                0.0               0.0   \n",
       "3               0               14                0.0               0.0   \n",
       "4               1               11                0.0               0.0   \n",
       "\n",
       "   number_inpatient  diag_1  diag_2  diag_3  diag_4  number_diagnoses    X1  \\\n",
       "0          2.000000   783.0   403.0   585.0   585.0               9.0  None   \n",
       "1          0.000000   564.0   788.0   569.0   569.0               6.0  None   \n",
       "2          2.236068   574.0   403.0   585.0   585.0               9.0  None   \n",
       "3          0.000000   401.0   783.0   250.0   250.0               7.0  None   \n",
       "4          0.000000   311.0   276.0   300.0   300.0               9.0  >200   \n",
       "\n",
       "     X2  X3  X4  X5  X6  X7  X8  X9 X10 X11 X12     X13 X14 X15 X16 X17 X18  \\\n",
       "0  None  No  No  No  No  No  No  No  No  No  No  Steady  No  No  No  No  No   \n",
       "1  None  No  No  No  No  No  No  No  No  No  No      No  No  No  No  No  No   \n",
       "2  None  No  No  No  No  No  No  No  No  No  No      No  No  No  No  No  No   \n",
       "3  Norm  No  No  No  No  No  No  No  No  No  No      No  No  No  No  No  No   \n",
       "4  None  No  No  No  No  No  No  No  No  No  No      No  No  No  No  No  No   \n",
       "\n",
       "  X19   X20 X21 X22 X23 X24 X25 change diabetesMed  readmitted  \n",
       "0  No    No  No  No  No  No  No     No         Yes           1  \n",
       "1  No    No  No  No  No  No  No     No          No           0  \n",
       "2  No  Down  No  No  No  No  No     Ch         Yes           1  \n",
       "3  No  Down  No  No  No  No  No     Ch         Yes           1  \n",
       "4  No    No  No  No  No  No  No     No          No           1  "
      ]
     },
     "execution_count": 96,
     "metadata": {},
     "output_type": "execute_result"
    }
   ],
   "source": [
    "df2.head()"
   ]
  },
  {
   "cell_type": "code",
   "execution_count": 97,
   "id": "e4d724c7",
   "metadata": {},
   "outputs": [
    {
     "data": {
      "text/plain": [
       "race                    0\n",
       "gender                  0\n",
       "age                     0\n",
       "time_in_hospital        0\n",
       "num_lab_procedures      0\n",
       "num_procedures          0\n",
       "num_medications         0\n",
       "number_outpatient       0\n",
       "number_emergency        0\n",
       "number_inpatient        0\n",
       "diag_1                 11\n",
       "diag_2                172\n",
       "diag_3                685\n",
       "diag_4                685\n",
       "number_diagnoses        0\n",
       "X1                      0\n",
       "X2                      0\n",
       "X3                      0\n",
       "X4                      0\n",
       "X5                      0\n",
       "X6                      0\n",
       "X7                      0\n",
       "X8                      0\n",
       "X9                      0\n",
       "X10                     0\n",
       "X11                     0\n",
       "X12                     0\n",
       "X13                     0\n",
       "X14                     0\n",
       "X15                     0\n",
       "X16                     0\n",
       "X17                     0\n",
       "X18                     0\n",
       "X19                     0\n",
       "X20                     0\n",
       "X21                     0\n",
       "X22                     0\n",
       "X23                     0\n",
       "X24                     0\n",
       "X25                     0\n",
       "change                  0\n",
       "diabetesMed             0\n",
       "readmitted              0\n",
       "dtype: int64"
      ]
     },
     "execution_count": 97,
     "metadata": {},
     "output_type": "execute_result"
    }
   ],
   "source": [
    "df2.isnull().sum()"
   ]
  },
  {
   "cell_type": "code",
   "execution_count": 98,
   "id": "c8fb8247",
   "metadata": {},
   "outputs": [
    {
     "data": {
      "text/plain": [
       "428.0    3335\n",
       "414.0    3137\n",
       "119.0    2134\n",
       "786.0    1949\n",
       "879.0    1892\n",
       "         ... \n",
       "377.0       1\n",
       "299.0       1\n",
       "422.0       1\n",
       "164.0       1\n",
       "862.0       1\n",
       "Name: diag_1, Length: 543, dtype: int64"
      ]
     },
     "execution_count": 98,
     "metadata": {},
     "output_type": "execute_result"
    }
   ],
   "source": [
    "df2['diag_1'].value_counts()"
   ]
  },
  {
   "cell_type": "code",
   "execution_count": 99,
   "id": "99015553",
   "metadata": {},
   "outputs": [
    {
     "data": {
      "text/plain": [
       "276.0    3245\n",
       "428.0    3194\n",
       "250.0    3031\n",
       "427.0    2351\n",
       "401.0    1726\n",
       "         ... \n",
       "145.0       1\n",
       "193.0       1\n",
       "900.0       1\n",
       "742.0       1\n",
       "78.0        1\n",
       "Name: diag_2, Length: 580, dtype: int64"
      ]
     },
     "execution_count": 99,
     "metadata": {},
     "output_type": "execute_result"
    }
   ],
   "source": [
    "df2['diag_2'].value_counts()"
   ]
  },
  {
   "cell_type": "code",
   "execution_count": 100,
   "id": "868bd35d",
   "metadata": {},
   "outputs": [
    {
     "data": {
      "text/plain": [
       "250.00    5508\n",
       "401.00    4020\n",
       "276.00    2484\n",
       "428.00    2210\n",
       "427.00    1948\n",
       "          ... \n",
       "387.00       1\n",
       "417.00       1\n",
       "13.00        1\n",
       "250.91       1\n",
       "828.00       1\n",
       "Name: diag_3, Length: 579, dtype: int64"
      ]
     },
     "execution_count": 100,
     "metadata": {},
     "output_type": "execute_result"
    }
   ],
   "source": [
    "df2['diag_3'].value_counts()"
   ]
  },
  {
   "cell_type": "code",
   "execution_count": 101,
   "id": "5b53a360",
   "metadata": {},
   "outputs": [
    {
     "data": {
      "text/plain": [
       "250.00    5508\n",
       "401.00    4020\n",
       "276.00    2484\n",
       "428.00    2210\n",
       "427.00    1948\n",
       "          ... \n",
       "387.00       1\n",
       "417.00       1\n",
       "13.00        1\n",
       "250.91       1\n",
       "828.00       1\n",
       "Name: diag_4, Length: 579, dtype: int64"
      ]
     },
     "execution_count": 101,
     "metadata": {},
     "output_type": "execute_result"
    }
   ],
   "source": [
    "df2['diag_4'].value_counts()"
   ]
  },
  {
   "cell_type": "code",
   "execution_count": 102,
   "id": "7eb4bea1",
   "metadata": {},
   "outputs": [],
   "source": [
    "#dropping diag_4\n",
    "df3=df2.drop(['diag_4'],axis=1)"
   ]
  },
  {
   "cell_type": "code",
   "execution_count": 103,
   "id": "afdd83f3",
   "metadata": {},
   "outputs": [
    {
     "data": {
      "text/html": [
       "<div>\n",
       "<style scoped>\n",
       "    .dataframe tbody tr th:only-of-type {\n",
       "        vertical-align: middle;\n",
       "    }\n",
       "\n",
       "    .dataframe tbody tr th {\n",
       "        vertical-align: top;\n",
       "    }\n",
       "\n",
       "    .dataframe thead th {\n",
       "        text-align: right;\n",
       "    }\n",
       "</style>\n",
       "<table border=\"1\" class=\"dataframe\">\n",
       "  <thead>\n",
       "    <tr style=\"text-align: right;\">\n",
       "      <th></th>\n",
       "      <th>race</th>\n",
       "      <th>gender</th>\n",
       "      <th>age</th>\n",
       "      <th>time_in_hospital</th>\n",
       "      <th>num_lab_procedures</th>\n",
       "      <th>num_procedures</th>\n",
       "      <th>num_medications</th>\n",
       "      <th>number_outpatient</th>\n",
       "      <th>number_emergency</th>\n",
       "      <th>number_inpatient</th>\n",
       "      <th>diag_1</th>\n",
       "      <th>diag_2</th>\n",
       "      <th>diag_3</th>\n",
       "      <th>number_diagnoses</th>\n",
       "      <th>X1</th>\n",
       "      <th>X2</th>\n",
       "      <th>X3</th>\n",
       "      <th>X4</th>\n",
       "      <th>X5</th>\n",
       "      <th>X6</th>\n",
       "      <th>X7</th>\n",
       "      <th>X8</th>\n",
       "      <th>X9</th>\n",
       "      <th>X10</th>\n",
       "      <th>X11</th>\n",
       "      <th>X12</th>\n",
       "      <th>X13</th>\n",
       "      <th>X14</th>\n",
       "      <th>X15</th>\n",
       "      <th>X16</th>\n",
       "      <th>X17</th>\n",
       "      <th>X18</th>\n",
       "      <th>X19</th>\n",
       "      <th>X20</th>\n",
       "      <th>X21</th>\n",
       "      <th>X22</th>\n",
       "      <th>X23</th>\n",
       "      <th>X24</th>\n",
       "      <th>X25</th>\n",
       "      <th>change</th>\n",
       "      <th>diabetesMed</th>\n",
       "      <th>readmitted</th>\n",
       "    </tr>\n",
       "  </thead>\n",
       "  <tbody>\n",
       "    <tr>\n",
       "      <th>0</th>\n",
       "      <td>Hispanic</td>\n",
       "      <td>Male</td>\n",
       "      <td>[80-90)</td>\n",
       "      <td>4</td>\n",
       "      <td>39</td>\n",
       "      <td>1</td>\n",
       "      <td>9</td>\n",
       "      <td>1.0</td>\n",
       "      <td>1.0</td>\n",
       "      <td>2.000000</td>\n",
       "      <td>783.0</td>\n",
       "      <td>403.0</td>\n",
       "      <td>585.0</td>\n",
       "      <td>9.0</td>\n",
       "      <td>None</td>\n",
       "      <td>None</td>\n",
       "      <td>No</td>\n",
       "      <td>No</td>\n",
       "      <td>No</td>\n",
       "      <td>No</td>\n",
       "      <td>No</td>\n",
       "      <td>No</td>\n",
       "      <td>No</td>\n",
       "      <td>No</td>\n",
       "      <td>No</td>\n",
       "      <td>No</td>\n",
       "      <td>Steady</td>\n",
       "      <td>No</td>\n",
       "      <td>No</td>\n",
       "      <td>No</td>\n",
       "      <td>No</td>\n",
       "      <td>No</td>\n",
       "      <td>No</td>\n",
       "      <td>No</td>\n",
       "      <td>No</td>\n",
       "      <td>No</td>\n",
       "      <td>No</td>\n",
       "      <td>No</td>\n",
       "      <td>No</td>\n",
       "      <td>No</td>\n",
       "      <td>Yes</td>\n",
       "      <td>1</td>\n",
       "    </tr>\n",
       "    <tr>\n",
       "      <th>1</th>\n",
       "      <td>Caucasian</td>\n",
       "      <td>Male</td>\n",
       "      <td>[60-70)</td>\n",
       "      <td>3</td>\n",
       "      <td>34</td>\n",
       "      <td>1</td>\n",
       "      <td>12</td>\n",
       "      <td>0.0</td>\n",
       "      <td>0.0</td>\n",
       "      <td>0.000000</td>\n",
       "      <td>564.0</td>\n",
       "      <td>788.0</td>\n",
       "      <td>569.0</td>\n",
       "      <td>6.0</td>\n",
       "      <td>None</td>\n",
       "      <td>None</td>\n",
       "      <td>No</td>\n",
       "      <td>No</td>\n",
       "      <td>No</td>\n",
       "      <td>No</td>\n",
       "      <td>No</td>\n",
       "      <td>No</td>\n",
       "      <td>No</td>\n",
       "      <td>No</td>\n",
       "      <td>No</td>\n",
       "      <td>No</td>\n",
       "      <td>No</td>\n",
       "      <td>No</td>\n",
       "      <td>No</td>\n",
       "      <td>No</td>\n",
       "      <td>No</td>\n",
       "      <td>No</td>\n",
       "      <td>No</td>\n",
       "      <td>No</td>\n",
       "      <td>No</td>\n",
       "      <td>No</td>\n",
       "      <td>No</td>\n",
       "      <td>No</td>\n",
       "      <td>No</td>\n",
       "      <td>No</td>\n",
       "      <td>No</td>\n",
       "      <td>0</td>\n",
       "    </tr>\n",
       "    <tr>\n",
       "      <th>2</th>\n",
       "      <td>Caucasian</td>\n",
       "      <td>Female</td>\n",
       "      <td>[50-60)</td>\n",
       "      <td>6</td>\n",
       "      <td>50</td>\n",
       "      <td>2</td>\n",
       "      <td>24</td>\n",
       "      <td>0.0</td>\n",
       "      <td>0.0</td>\n",
       "      <td>2.236068</td>\n",
       "      <td>574.0</td>\n",
       "      <td>403.0</td>\n",
       "      <td>585.0</td>\n",
       "      <td>9.0</td>\n",
       "      <td>None</td>\n",
       "      <td>None</td>\n",
       "      <td>No</td>\n",
       "      <td>No</td>\n",
       "      <td>No</td>\n",
       "      <td>No</td>\n",
       "      <td>No</td>\n",
       "      <td>No</td>\n",
       "      <td>No</td>\n",
       "      <td>No</td>\n",
       "      <td>No</td>\n",
       "      <td>No</td>\n",
       "      <td>No</td>\n",
       "      <td>No</td>\n",
       "      <td>No</td>\n",
       "      <td>No</td>\n",
       "      <td>No</td>\n",
       "      <td>No</td>\n",
       "      <td>No</td>\n",
       "      <td>Down</td>\n",
       "      <td>No</td>\n",
       "      <td>No</td>\n",
       "      <td>No</td>\n",
       "      <td>No</td>\n",
       "      <td>No</td>\n",
       "      <td>Ch</td>\n",
       "      <td>Yes</td>\n",
       "      <td>1</td>\n",
       "    </tr>\n",
       "    <tr>\n",
       "      <th>3</th>\n",
       "      <td>AfricanAmerican</td>\n",
       "      <td>Female</td>\n",
       "      <td>[70-80)</td>\n",
       "      <td>5</td>\n",
       "      <td>63</td>\n",
       "      <td>0</td>\n",
       "      <td>14</td>\n",
       "      <td>0.0</td>\n",
       "      <td>0.0</td>\n",
       "      <td>0.000000</td>\n",
       "      <td>401.0</td>\n",
       "      <td>783.0</td>\n",
       "      <td>250.0</td>\n",
       "      <td>7.0</td>\n",
       "      <td>None</td>\n",
       "      <td>Norm</td>\n",
       "      <td>No</td>\n",
       "      <td>No</td>\n",
       "      <td>No</td>\n",
       "      <td>No</td>\n",
       "      <td>No</td>\n",
       "      <td>No</td>\n",
       "      <td>No</td>\n",
       "      <td>No</td>\n",
       "      <td>No</td>\n",
       "      <td>No</td>\n",
       "      <td>No</td>\n",
       "      <td>No</td>\n",
       "      <td>No</td>\n",
       "      <td>No</td>\n",
       "      <td>No</td>\n",
       "      <td>No</td>\n",
       "      <td>No</td>\n",
       "      <td>Down</td>\n",
       "      <td>No</td>\n",
       "      <td>No</td>\n",
       "      <td>No</td>\n",
       "      <td>No</td>\n",
       "      <td>No</td>\n",
       "      <td>Ch</td>\n",
       "      <td>Yes</td>\n",
       "      <td>1</td>\n",
       "    </tr>\n",
       "    <tr>\n",
       "      <th>4</th>\n",
       "      <td>Caucasian</td>\n",
       "      <td>Male</td>\n",
       "      <td>[70-80)</td>\n",
       "      <td>9</td>\n",
       "      <td>17</td>\n",
       "      <td>1</td>\n",
       "      <td>11</td>\n",
       "      <td>0.0</td>\n",
       "      <td>0.0</td>\n",
       "      <td>0.000000</td>\n",
       "      <td>311.0</td>\n",
       "      <td>276.0</td>\n",
       "      <td>300.0</td>\n",
       "      <td>9.0</td>\n",
       "      <td>&gt;200</td>\n",
       "      <td>None</td>\n",
       "      <td>No</td>\n",
       "      <td>No</td>\n",
       "      <td>No</td>\n",
       "      <td>No</td>\n",
       "      <td>No</td>\n",
       "      <td>No</td>\n",
       "      <td>No</td>\n",
       "      <td>No</td>\n",
       "      <td>No</td>\n",
       "      <td>No</td>\n",
       "      <td>No</td>\n",
       "      <td>No</td>\n",
       "      <td>No</td>\n",
       "      <td>No</td>\n",
       "      <td>No</td>\n",
       "      <td>No</td>\n",
       "      <td>No</td>\n",
       "      <td>No</td>\n",
       "      <td>No</td>\n",
       "      <td>No</td>\n",
       "      <td>No</td>\n",
       "      <td>No</td>\n",
       "      <td>No</td>\n",
       "      <td>No</td>\n",
       "      <td>No</td>\n",
       "      <td>1</td>\n",
       "    </tr>\n",
       "  </tbody>\n",
       "</table>\n",
       "</div>"
      ],
      "text/plain": [
       "              race  gender      age  time_in_hospital  num_lab_procedures  \\\n",
       "0         Hispanic    Male  [80-90)                 4                  39   \n",
       "1        Caucasian    Male  [60-70)                 3                  34   \n",
       "2        Caucasian  Female  [50-60)                 6                  50   \n",
       "3  AfricanAmerican  Female  [70-80)                 5                  63   \n",
       "4        Caucasian    Male  [70-80)                 9                  17   \n",
       "\n",
       "   num_procedures  num_medications  number_outpatient  number_emergency  \\\n",
       "0               1                9                1.0               1.0   \n",
       "1               1               12                0.0               0.0   \n",
       "2               2               24                0.0               0.0   \n",
       "3               0               14                0.0               0.0   \n",
       "4               1               11                0.0               0.0   \n",
       "\n",
       "   number_inpatient  diag_1  diag_2  diag_3  number_diagnoses    X1    X2  X3  \\\n",
       "0          2.000000   783.0   403.0   585.0               9.0  None  None  No   \n",
       "1          0.000000   564.0   788.0   569.0               6.0  None  None  No   \n",
       "2          2.236068   574.0   403.0   585.0               9.0  None  None  No   \n",
       "3          0.000000   401.0   783.0   250.0               7.0  None  Norm  No   \n",
       "4          0.000000   311.0   276.0   300.0               9.0  >200  None  No   \n",
       "\n",
       "   X4  X5  X6  X7  X8  X9 X10 X11 X12     X13 X14 X15 X16 X17 X18 X19   X20  \\\n",
       "0  No  No  No  No  No  No  No  No  No  Steady  No  No  No  No  No  No    No   \n",
       "1  No  No  No  No  No  No  No  No  No      No  No  No  No  No  No  No    No   \n",
       "2  No  No  No  No  No  No  No  No  No      No  No  No  No  No  No  No  Down   \n",
       "3  No  No  No  No  No  No  No  No  No      No  No  No  No  No  No  No  Down   \n",
       "4  No  No  No  No  No  No  No  No  No      No  No  No  No  No  No  No    No   \n",
       "\n",
       "  X21 X22 X23 X24 X25 change diabetesMed  readmitted  \n",
       "0  No  No  No  No  No     No         Yes           1  \n",
       "1  No  No  No  No  No     No          No           0  \n",
       "2  No  No  No  No  No     Ch         Yes           1  \n",
       "3  No  No  No  No  No     Ch         Yes           1  \n",
       "4  No  No  No  No  No     No          No           1  "
      ]
     },
     "execution_count": 103,
     "metadata": {},
     "output_type": "execute_result"
    }
   ],
   "source": [
    "df3.head()"
   ]
  },
  {
   "cell_type": "code",
   "execution_count": 104,
   "id": "7184a746",
   "metadata": {},
   "outputs": [
    {
     "data": {
      "text/plain": [
       "race                    0\n",
       "gender                  0\n",
       "age                     0\n",
       "time_in_hospital        0\n",
       "num_lab_procedures      0\n",
       "num_procedures          0\n",
       "num_medications         0\n",
       "number_outpatient       0\n",
       "number_emergency        0\n",
       "number_inpatient        0\n",
       "diag_1                 11\n",
       "diag_2                172\n",
       "diag_3                685\n",
       "number_diagnoses        0\n",
       "X1                      0\n",
       "X2                      0\n",
       "X3                      0\n",
       "X4                      0\n",
       "X5                      0\n",
       "X6                      0\n",
       "X7                      0\n",
       "X8                      0\n",
       "X9                      0\n",
       "X10                     0\n",
       "X11                     0\n",
       "X12                     0\n",
       "X13                     0\n",
       "X14                     0\n",
       "X15                     0\n",
       "X16                     0\n",
       "X17                     0\n",
       "X18                     0\n",
       "X19                     0\n",
       "X20                     0\n",
       "X21                     0\n",
       "X22                     0\n",
       "X23                     0\n",
       "X24                     0\n",
       "X25                     0\n",
       "change                  0\n",
       "diabetesMed             0\n",
       "readmitted              0\n",
       "dtype: int64"
      ]
     },
     "execution_count": 104,
     "metadata": {},
     "output_type": "execute_result"
    }
   ],
   "source": [
    "df3.isnull().sum()"
   ]
  },
  {
   "cell_type": "code",
   "execution_count": 105,
   "id": "3ea93b43",
   "metadata": {},
   "outputs": [
    {
     "data": {
      "text/plain": [
       "count    48900.000000\n",
       "mean       485.557672\n",
       "std        196.769740\n",
       "min        119.000000\n",
       "25%        404.000000\n",
       "50%        435.000000\n",
       "75%        594.000000\n",
       "max        879.000000\n",
       "Name: diag_1, dtype: float64"
      ]
     },
     "execution_count": 105,
     "metadata": {},
     "output_type": "execute_result"
    }
   ],
   "source": [
    "#diag_1\n",
    "df3['diag_1'].describe()"
   ]
  },
  {
   "cell_type": "code",
   "execution_count": 106,
   "id": "8d8107e9",
   "metadata": {},
   "outputs": [
    {
     "data": {
      "text/plain": [
       "485.5576719836401"
      ]
     },
     "execution_count": 106,
     "metadata": {},
     "output_type": "execute_result"
    }
   ],
   "source": [
    "df3['diag_1'].mean()"
   ]
  },
  {
   "cell_type": "code",
   "execution_count": 107,
   "id": "94e7f302",
   "metadata": {},
   "outputs": [
    {
     "data": {
      "text/plain": [
       "0    428.0\n",
       "Name: diag_1, dtype: float64"
      ]
     },
     "execution_count": 107,
     "metadata": {},
     "output_type": "execute_result"
    }
   ],
   "source": [
    "df3['diag_1'].mode()"
   ]
  },
  {
   "cell_type": "code",
   "execution_count": 108,
   "id": "09fb5f60",
   "metadata": {},
   "outputs": [],
   "source": [
    "df3['diag_1'].fillna(df3['diag_1'].mode()[0],inplace=True)"
   ]
  },
  {
   "cell_type": "code",
   "execution_count": 109,
   "id": "83a0f3ad",
   "metadata": {},
   "outputs": [
    {
     "data": {
      "text/plain": [
       "0"
      ]
     },
     "execution_count": 109,
     "metadata": {},
     "output_type": "execute_result"
    }
   ],
   "source": [
    "df3['diag_1'].isnull().sum()"
   ]
  },
  {
   "cell_type": "code",
   "execution_count": 110,
   "id": "51ed2830",
   "metadata": {},
   "outputs": [
    {
     "data": {
      "text/plain": [
       "count    48739.000000\n",
       "mean       433.088466\n",
       "std        183.908549\n",
       "min          2.000000\n",
       "25%        276.000000\n",
       "50%        425.000000\n",
       "75%        530.000000\n",
       "max        911.000000\n",
       "Name: diag_2, dtype: float64"
      ]
     },
     "execution_count": 110,
     "metadata": {},
     "output_type": "execute_result"
    }
   ],
   "source": [
    "#diag_2\n",
    "df3['diag_2'].describe()"
   ]
  },
  {
   "cell_type": "code",
   "execution_count": 111,
   "id": "49edc764",
   "metadata": {},
   "outputs": [],
   "source": [
    "df3['diag_2'].fillna(df3['diag_2'].mode()[0],inplace=True)"
   ]
  },
  {
   "cell_type": "code",
   "execution_count": 112,
   "id": "460b517d",
   "metadata": {},
   "outputs": [
    {
     "data": {
      "text/plain": [
       "0"
      ]
     },
     "execution_count": 112,
     "metadata": {},
     "output_type": "execute_result"
    }
   ],
   "source": [
    "df3['diag_2'].isnull().sum()"
   ]
  },
  {
   "cell_type": "code",
   "execution_count": 113,
   "id": "bd6bd5c6",
   "metadata": {},
   "outputs": [
    {
     "data": {
      "text/plain": [
       "count    48226.000000\n",
       "mean       407.564176\n",
       "std        189.496625\n",
       "min          2.000000\n",
       "25%        250.820000\n",
       "50%        402.000000\n",
       "75%        496.000000\n",
       "max        863.770000\n",
       "Name: diag_3, dtype: float64"
      ]
     },
     "execution_count": 113,
     "metadata": {},
     "output_type": "execute_result"
    }
   ],
   "source": [
    "#diag_3\n",
    "df3['diag_3'].describe()"
   ]
  },
  {
   "cell_type": "code",
   "execution_count": 114,
   "id": "2b17e18a",
   "metadata": {},
   "outputs": [],
   "source": [
    "df3['diag_3'].fillna(df3['diag_3'].mode()[0],inplace=True)"
   ]
  },
  {
   "cell_type": "code",
   "execution_count": 115,
   "id": "1f86c396",
   "metadata": {},
   "outputs": [
    {
     "data": {
      "text/plain": [
       "0"
      ]
     },
     "execution_count": 115,
     "metadata": {},
     "output_type": "execute_result"
    }
   ],
   "source": [
    "df3['diag_3'].isnull().sum()"
   ]
  },
  {
   "cell_type": "code",
   "execution_count": 116,
   "id": "69611b27",
   "metadata": {},
   "outputs": [
    {
     "data": {
      "text/plain": [
       "race                  0\n",
       "gender                0\n",
       "age                   0\n",
       "time_in_hospital      0\n",
       "num_lab_procedures    0\n",
       "num_procedures        0\n",
       "num_medications       0\n",
       "number_outpatient     0\n",
       "number_emergency      0\n",
       "number_inpatient      0\n",
       "diag_1                0\n",
       "diag_2                0\n",
       "diag_3                0\n",
       "number_diagnoses      0\n",
       "X1                    0\n",
       "X2                    0\n",
       "X3                    0\n",
       "X4                    0\n",
       "X5                    0\n",
       "X6                    0\n",
       "X7                    0\n",
       "X8                    0\n",
       "X9                    0\n",
       "X10                   0\n",
       "X11                   0\n",
       "X12                   0\n",
       "X13                   0\n",
       "X14                   0\n",
       "X15                   0\n",
       "X16                   0\n",
       "X17                   0\n",
       "X18                   0\n",
       "X19                   0\n",
       "X20                   0\n",
       "X21                   0\n",
       "X22                   0\n",
       "X23                   0\n",
       "X24                   0\n",
       "X25                   0\n",
       "change                0\n",
       "diabetesMed           0\n",
       "readmitted            0\n",
       "dtype: int64"
      ]
     },
     "execution_count": 116,
     "metadata": {},
     "output_type": "execute_result"
    }
   ],
   "source": [
    "df3.isnull().sum()"
   ]
  },
  {
   "cell_type": "code",
   "execution_count": 117,
   "id": "7894d5bb",
   "metadata": {},
   "outputs": [
    {
     "data": {
      "text/html": [
       "<div>\n",
       "<style scoped>\n",
       "    .dataframe tbody tr th:only-of-type {\n",
       "        vertical-align: middle;\n",
       "    }\n",
       "\n",
       "    .dataframe tbody tr th {\n",
       "        vertical-align: top;\n",
       "    }\n",
       "\n",
       "    .dataframe thead th {\n",
       "        text-align: right;\n",
       "    }\n",
       "</style>\n",
       "<table border=\"1\" class=\"dataframe\">\n",
       "  <thead>\n",
       "    <tr style=\"text-align: right;\">\n",
       "      <th></th>\n",
       "      <th>race</th>\n",
       "      <th>gender</th>\n",
       "      <th>age</th>\n",
       "      <th>X1</th>\n",
       "      <th>X2</th>\n",
       "      <th>X3</th>\n",
       "      <th>X4</th>\n",
       "      <th>X5</th>\n",
       "      <th>X6</th>\n",
       "      <th>X7</th>\n",
       "      <th>X8</th>\n",
       "      <th>X9</th>\n",
       "      <th>X10</th>\n",
       "      <th>X11</th>\n",
       "      <th>X12</th>\n",
       "      <th>X13</th>\n",
       "      <th>X14</th>\n",
       "      <th>X15</th>\n",
       "      <th>X16</th>\n",
       "      <th>X17</th>\n",
       "      <th>X18</th>\n",
       "      <th>X19</th>\n",
       "      <th>X20</th>\n",
       "      <th>X21</th>\n",
       "      <th>X22</th>\n",
       "      <th>X23</th>\n",
       "      <th>X24</th>\n",
       "      <th>X25</th>\n",
       "      <th>change</th>\n",
       "      <th>diabetesMed</th>\n",
       "    </tr>\n",
       "  </thead>\n",
       "  <tbody>\n",
       "    <tr>\n",
       "      <th>0</th>\n",
       "      <td>Hispanic</td>\n",
       "      <td>Male</td>\n",
       "      <td>[80-90)</td>\n",
       "      <td>None</td>\n",
       "      <td>None</td>\n",
       "      <td>No</td>\n",
       "      <td>No</td>\n",
       "      <td>No</td>\n",
       "      <td>No</td>\n",
       "      <td>No</td>\n",
       "      <td>No</td>\n",
       "      <td>No</td>\n",
       "      <td>No</td>\n",
       "      <td>No</td>\n",
       "      <td>No</td>\n",
       "      <td>Steady</td>\n",
       "      <td>No</td>\n",
       "      <td>No</td>\n",
       "      <td>No</td>\n",
       "      <td>No</td>\n",
       "      <td>No</td>\n",
       "      <td>No</td>\n",
       "      <td>No</td>\n",
       "      <td>No</td>\n",
       "      <td>No</td>\n",
       "      <td>No</td>\n",
       "      <td>No</td>\n",
       "      <td>No</td>\n",
       "      <td>No</td>\n",
       "      <td>Yes</td>\n",
       "    </tr>\n",
       "    <tr>\n",
       "      <th>1</th>\n",
       "      <td>Caucasian</td>\n",
       "      <td>Male</td>\n",
       "      <td>[60-70)</td>\n",
       "      <td>None</td>\n",
       "      <td>None</td>\n",
       "      <td>No</td>\n",
       "      <td>No</td>\n",
       "      <td>No</td>\n",
       "      <td>No</td>\n",
       "      <td>No</td>\n",
       "      <td>No</td>\n",
       "      <td>No</td>\n",
       "      <td>No</td>\n",
       "      <td>No</td>\n",
       "      <td>No</td>\n",
       "      <td>No</td>\n",
       "      <td>No</td>\n",
       "      <td>No</td>\n",
       "      <td>No</td>\n",
       "      <td>No</td>\n",
       "      <td>No</td>\n",
       "      <td>No</td>\n",
       "      <td>No</td>\n",
       "      <td>No</td>\n",
       "      <td>No</td>\n",
       "      <td>No</td>\n",
       "      <td>No</td>\n",
       "      <td>No</td>\n",
       "      <td>No</td>\n",
       "      <td>No</td>\n",
       "    </tr>\n",
       "    <tr>\n",
       "      <th>2</th>\n",
       "      <td>Caucasian</td>\n",
       "      <td>Female</td>\n",
       "      <td>[50-60)</td>\n",
       "      <td>None</td>\n",
       "      <td>None</td>\n",
       "      <td>No</td>\n",
       "      <td>No</td>\n",
       "      <td>No</td>\n",
       "      <td>No</td>\n",
       "      <td>No</td>\n",
       "      <td>No</td>\n",
       "      <td>No</td>\n",
       "      <td>No</td>\n",
       "      <td>No</td>\n",
       "      <td>No</td>\n",
       "      <td>No</td>\n",
       "      <td>No</td>\n",
       "      <td>No</td>\n",
       "      <td>No</td>\n",
       "      <td>No</td>\n",
       "      <td>No</td>\n",
       "      <td>No</td>\n",
       "      <td>Down</td>\n",
       "      <td>No</td>\n",
       "      <td>No</td>\n",
       "      <td>No</td>\n",
       "      <td>No</td>\n",
       "      <td>No</td>\n",
       "      <td>Ch</td>\n",
       "      <td>Yes</td>\n",
       "    </tr>\n",
       "    <tr>\n",
       "      <th>3</th>\n",
       "      <td>AfricanAmerican</td>\n",
       "      <td>Female</td>\n",
       "      <td>[70-80)</td>\n",
       "      <td>None</td>\n",
       "      <td>Norm</td>\n",
       "      <td>No</td>\n",
       "      <td>No</td>\n",
       "      <td>No</td>\n",
       "      <td>No</td>\n",
       "      <td>No</td>\n",
       "      <td>No</td>\n",
       "      <td>No</td>\n",
       "      <td>No</td>\n",
       "      <td>No</td>\n",
       "      <td>No</td>\n",
       "      <td>No</td>\n",
       "      <td>No</td>\n",
       "      <td>No</td>\n",
       "      <td>No</td>\n",
       "      <td>No</td>\n",
       "      <td>No</td>\n",
       "      <td>No</td>\n",
       "      <td>Down</td>\n",
       "      <td>No</td>\n",
       "      <td>No</td>\n",
       "      <td>No</td>\n",
       "      <td>No</td>\n",
       "      <td>No</td>\n",
       "      <td>Ch</td>\n",
       "      <td>Yes</td>\n",
       "    </tr>\n",
       "    <tr>\n",
       "      <th>4</th>\n",
       "      <td>Caucasian</td>\n",
       "      <td>Male</td>\n",
       "      <td>[70-80)</td>\n",
       "      <td>&gt;200</td>\n",
       "      <td>None</td>\n",
       "      <td>No</td>\n",
       "      <td>No</td>\n",
       "      <td>No</td>\n",
       "      <td>No</td>\n",
       "      <td>No</td>\n",
       "      <td>No</td>\n",
       "      <td>No</td>\n",
       "      <td>No</td>\n",
       "      <td>No</td>\n",
       "      <td>No</td>\n",
       "      <td>No</td>\n",
       "      <td>No</td>\n",
       "      <td>No</td>\n",
       "      <td>No</td>\n",
       "      <td>No</td>\n",
       "      <td>No</td>\n",
       "      <td>No</td>\n",
       "      <td>No</td>\n",
       "      <td>No</td>\n",
       "      <td>No</td>\n",
       "      <td>No</td>\n",
       "      <td>No</td>\n",
       "      <td>No</td>\n",
       "      <td>No</td>\n",
       "      <td>No</td>\n",
       "    </tr>\n",
       "  </tbody>\n",
       "</table>\n",
       "</div>"
      ],
      "text/plain": [
       "              race  gender      age    X1    X2  X3  X4  X5  X6  X7  X8  X9  \\\n",
       "0         Hispanic    Male  [80-90)  None  None  No  No  No  No  No  No  No   \n",
       "1        Caucasian    Male  [60-70)  None  None  No  No  No  No  No  No  No   \n",
       "2        Caucasian  Female  [50-60)  None  None  No  No  No  No  No  No  No   \n",
       "3  AfricanAmerican  Female  [70-80)  None  Norm  No  No  No  No  No  No  No   \n",
       "4        Caucasian    Male  [70-80)  >200  None  No  No  No  No  No  No  No   \n",
       "\n",
       "  X10 X11 X12     X13 X14 X15 X16 X17 X18 X19   X20 X21 X22 X23 X24 X25  \\\n",
       "0  No  No  No  Steady  No  No  No  No  No  No    No  No  No  No  No  No   \n",
       "1  No  No  No      No  No  No  No  No  No  No    No  No  No  No  No  No   \n",
       "2  No  No  No      No  No  No  No  No  No  No  Down  No  No  No  No  No   \n",
       "3  No  No  No      No  No  No  No  No  No  No  Down  No  No  No  No  No   \n",
       "4  No  No  No      No  No  No  No  No  No  No    No  No  No  No  No  No   \n",
       "\n",
       "  change diabetesMed  \n",
       "0     No         Yes  \n",
       "1     No          No  \n",
       "2     Ch         Yes  \n",
       "3     Ch         Yes  \n",
       "4     No          No  "
      ]
     },
     "execution_count": 117,
     "metadata": {},
     "output_type": "execute_result"
    }
   ],
   "source": [
    "#categorical columns\n",
    "catdf = df3.select_dtypes(include='object')\n",
    "catdf.head()"
   ]
  },
  {
   "cell_type": "code",
   "execution_count": 118,
   "id": "27c7b76b",
   "metadata": {},
   "outputs": [
    {
     "data": {
      "text/plain": [
       "race            5\n",
       "gender          3\n",
       "age            10\n",
       "X1              4\n",
       "X2              4\n",
       "X3              4\n",
       "X4              4\n",
       "X5              4\n",
       "X6              3\n",
       "X7              4\n",
       "X8              1\n",
       "X9              4\n",
       "X10             4\n",
       "X11             2\n",
       "X12             4\n",
       "X13             4\n",
       "X14             4\n",
       "X15             3\n",
       "X16             2\n",
       "X17             2\n",
       "X18             1\n",
       "X19             1\n",
       "X20             4\n",
       "X21             4\n",
       "X22             2\n",
       "X23             2\n",
       "X24             2\n",
       "X25             1\n",
       "change          2\n",
       "diabetesMed     2\n",
       "dtype: int64"
      ]
     },
     "execution_count": 118,
     "metadata": {},
     "output_type": "execute_result"
    }
   ],
   "source": [
    "catdf.nunique()"
   ]
  },
  {
   "cell_type": "code",
   "execution_count": 119,
   "id": "83b373f3",
   "metadata": {},
   "outputs": [],
   "source": [
    "#X8, X18, X19, X25 has only one value"
   ]
  },
  {
   "cell_type": "code",
   "execution_count": 120,
   "id": "6410f48c",
   "metadata": {},
   "outputs": [
    {
     "data": {
      "text/plain": [
       "(48911, 42)"
      ]
     },
     "execution_count": 120,
     "metadata": {},
     "output_type": "execute_result"
    }
   ],
   "source": [
    "df3.shape"
   ]
  },
  {
   "cell_type": "code",
   "execution_count": 121,
   "id": "af0673ea",
   "metadata": {},
   "outputs": [
    {
     "name": "stdout",
     "output_type": "stream",
     "text": [
      "Caucasian          37751\n",
      "AfricanAmerican     9136\n",
      "Hispanic             970\n",
      "Other                754\n",
      "Asian                300\n",
      "Name: race, dtype: int64\n",
      "Female             26378\n",
      "Male               22531\n",
      "Unknown/Invalid        2\n",
      "Name: gender, dtype: int64\n",
      "[70-80)     12478\n",
      "[60-70)     10964\n",
      "[50-60)      8421\n",
      "[80-90)      8103\n",
      "[40-50)      4619\n",
      "[30-40)      1766\n",
      "[90-100)     1353\n",
      "[20-30)       817\n",
      "[10-20)       313\n",
      "[0-10)         77\n",
      "Name: age, dtype: int64\n",
      "None    46340\n",
      "Norm     1231\n",
      ">200      722\n",
      ">300      618\n",
      "Name: X1, dtype: int64\n",
      "None    40722\n",
      ">8       3926\n",
      "Norm     2397\n",
      ">7       1866\n",
      "Name: X2, dtype: int64\n",
      "No        39298\n",
      "Steady     8789\n",
      "Up          527\n",
      "Down        297\n",
      "Name: X3, dtype: int64\n",
      "No        48153\n",
      "Steady      695\n",
      "Up           42\n",
      "Down         21\n",
      "Name: X4, dtype: int64\n",
      "No        48554\n",
      "Steady      334\n",
      "Up           14\n",
      "Down          9\n",
      "Name: X5, dtype: int64\n",
      "No        48861\n",
      "Steady       46\n",
      "Up            4\n",
      "Name: X6, dtype: int64\n",
      "No        46423\n",
      "Steady     2246\n",
      "Up          147\n",
      "Down         95\n",
      "Name: X7, dtype: int64\n",
      "No    48911\n",
      "Name: X8, dtype: int64\n",
      "No        42840\n",
      "Steady     5445\n",
      "Up          364\n",
      "Down        262\n",
      "Name: X9, dtype: int64\n",
      "No        43832\n",
      "Steady     4419\n",
      "Up          385\n",
      "Down        275\n",
      "Name: X10, dtype: int64\n",
      "No        48900\n",
      "Steady       11\n",
      "Name: X11, dtype: int64\n",
      "No        45360\n",
      "Steady     3382\n",
      "Up          113\n",
      "Down         56\n",
      "Name: X12, dtype: int64\n",
      "No        45853\n",
      "Steady     2932\n",
      "Up           80\n",
      "Down         46\n",
      "Name: X13, dtype: int64\n",
      "No        48752\n",
      "Steady      152\n",
      "Up            6\n",
      "Down          1\n",
      "Name: X14, dtype: int64\n",
      "No        48899\n",
      "Steady       10\n",
      "Down          2\n",
      "Name: X15, dtype: int64\n",
      "No        48909\n",
      "Steady        2\n",
      "Name: X16, dtype: int64\n",
      "No        48888\n",
      "Steady       23\n",
      "Name: X17, dtype: int64\n",
      "No    48911\n",
      "Name: X18, dtype: int64\n",
      "No    48911\n",
      "Name: X19, dtype: int64\n",
      "No        22854\n",
      "Steady    14722\n",
      "Down       5868\n",
      "Up         5467\n",
      "Name: X20, dtype: int64\n",
      "No        48561\n",
      "Steady      342\n",
      "Down          4\n",
      "Up            4\n",
      "Name: X21, dtype: int64\n",
      "No        48903\n",
      "Steady        8\n",
      "Name: X22, dtype: int64\n",
      "No        48910\n",
      "Steady        1\n",
      "Name: X23, dtype: int64\n",
      "No        48909\n",
      "Steady        2\n",
      "Name: X24, dtype: int64\n",
      "No    48911\n",
      "Name: X25, dtype: int64\n",
      "No    26364\n",
      "Ch    22547\n",
      "Name: change, dtype: int64\n",
      "Yes    37640\n",
      "No     11271\n",
      "Name: diabetesMed, dtype: int64\n"
     ]
    }
   ],
   "source": [
    "for column in catdf:\n",
    "    print(catdf[column].value_counts()) "
   ]
  },
  {
   "cell_type": "code",
   "execution_count": 122,
   "id": "d32e29eb",
   "metadata": {},
   "outputs": [],
   "source": [
    "#in gender only 2 values are Unknown/Invalid\n",
    "#replace age bins\n",
    "#X1-almost 95% is 'None'\n",
    "#X2-almost 84% is 'None'\n",
    "#X3-almost 81% is 'No'\n",
    "#X4-almost 99% is 'No'\n",
    "#X5-almost 100% is 'No'\n",
    "#X6-almost 100% is'No'\n",
    "#X7-almost 95% is 'No'\n",
    "#X8-drop\n",
    "#X9-almost 88% is 'No'\n",
    "#X10-almost 90% is'No'\n",
    "#X11-almost 100% is'No'\n",
    "#X12-almost 93% is 'No'\n",
    "#X13-almost 94% is 'No'\n",
    "#X14-almost 100% is 'No'\n",
    "#X15-almost 100% is 'No'\n",
    "#X16-almost 100% is 'No'\n",
    "#X17-almost 100% is 'No'\n",
    "#X18-drop\n",
    "#X19-drop\n",
    "#X20-47% is 'No'\n",
    "#X21-almost 100% is 'No'\n",
    "#X22-almost 100% is 'No'\n",
    "#X23-almost 100% is 'No'\n",
    "#X24-almost 100% is 'No'\n",
    "#X25-drop\n",
    "#change and diabetesMed- OK\n"
   ]
  },
  {
   "cell_type": "code",
   "execution_count": 123,
   "id": "9856acb7",
   "metadata": {},
   "outputs": [
    {
     "data": {
      "text/html": [
       "<div>\n",
       "<style scoped>\n",
       "    .dataframe tbody tr th:only-of-type {\n",
       "        vertical-align: middle;\n",
       "    }\n",
       "\n",
       "    .dataframe tbody tr th {\n",
       "        vertical-align: top;\n",
       "    }\n",
       "\n",
       "    .dataframe thead th {\n",
       "        text-align: right;\n",
       "    }\n",
       "</style>\n",
       "<table border=\"1\" class=\"dataframe\">\n",
       "  <thead>\n",
       "    <tr style=\"text-align: right;\">\n",
       "      <th></th>\n",
       "      <th>race</th>\n",
       "      <th>gender</th>\n",
       "      <th>age</th>\n",
       "      <th>time_in_hospital</th>\n",
       "      <th>num_lab_procedures</th>\n",
       "      <th>num_procedures</th>\n",
       "      <th>num_medications</th>\n",
       "      <th>number_outpatient</th>\n",
       "      <th>number_emergency</th>\n",
       "      <th>number_inpatient</th>\n",
       "      <th>diag_1</th>\n",
       "      <th>diag_2</th>\n",
       "      <th>diag_3</th>\n",
       "      <th>number_diagnoses</th>\n",
       "      <th>X1</th>\n",
       "      <th>X2</th>\n",
       "      <th>X3</th>\n",
       "      <th>X4</th>\n",
       "      <th>X5</th>\n",
       "      <th>X6</th>\n",
       "      <th>X7</th>\n",
       "      <th>X8</th>\n",
       "      <th>X9</th>\n",
       "      <th>X10</th>\n",
       "      <th>X11</th>\n",
       "      <th>X12</th>\n",
       "      <th>X13</th>\n",
       "      <th>X14</th>\n",
       "      <th>X15</th>\n",
       "      <th>X16</th>\n",
       "      <th>X17</th>\n",
       "      <th>X18</th>\n",
       "      <th>X19</th>\n",
       "      <th>X20</th>\n",
       "      <th>X21</th>\n",
       "      <th>X22</th>\n",
       "      <th>X23</th>\n",
       "      <th>X24</th>\n",
       "      <th>X25</th>\n",
       "      <th>change</th>\n",
       "      <th>diabetesMed</th>\n",
       "      <th>readmitted</th>\n",
       "    </tr>\n",
       "  </thead>\n",
       "  <tbody>\n",
       "    <tr>\n",
       "      <th>39358</th>\n",
       "      <td>Caucasian</td>\n",
       "      <td>Unknown/Invalid</td>\n",
       "      <td>[60-70)</td>\n",
       "      <td>1</td>\n",
       "      <td>38</td>\n",
       "      <td>1</td>\n",
       "      <td>6</td>\n",
       "      <td>0.0</td>\n",
       "      <td>0.0</td>\n",
       "      <td>0.0</td>\n",
       "      <td>808.0</td>\n",
       "      <td>873.0</td>\n",
       "      <td>813.0</td>\n",
       "      <td>5.0</td>\n",
       "      <td>None</td>\n",
       "      <td>None</td>\n",
       "      <td>No</td>\n",
       "      <td>No</td>\n",
       "      <td>No</td>\n",
       "      <td>No</td>\n",
       "      <td>No</td>\n",
       "      <td>No</td>\n",
       "      <td>No</td>\n",
       "      <td>No</td>\n",
       "      <td>No</td>\n",
       "      <td>No</td>\n",
       "      <td>No</td>\n",
       "      <td>No</td>\n",
       "      <td>No</td>\n",
       "      <td>No</td>\n",
       "      <td>No</td>\n",
       "      <td>No</td>\n",
       "      <td>No</td>\n",
       "      <td>No</td>\n",
       "      <td>No</td>\n",
       "      <td>No</td>\n",
       "      <td>No</td>\n",
       "      <td>No</td>\n",
       "      <td>No</td>\n",
       "      <td>No</td>\n",
       "      <td>No</td>\n",
       "      <td>0</td>\n",
       "    </tr>\n",
       "    <tr>\n",
       "      <th>58707</th>\n",
       "      <td>Other</td>\n",
       "      <td>Unknown/Invalid</td>\n",
       "      <td>[70-80)</td>\n",
       "      <td>1</td>\n",
       "      <td>5</td>\n",
       "      <td>5</td>\n",
       "      <td>22</td>\n",
       "      <td>0.0</td>\n",
       "      <td>0.0</td>\n",
       "      <td>0.0</td>\n",
       "      <td>414.0</td>\n",
       "      <td>411.0</td>\n",
       "      <td>401.0</td>\n",
       "      <td>4.0</td>\n",
       "      <td>None</td>\n",
       "      <td>None</td>\n",
       "      <td>No</td>\n",
       "      <td>No</td>\n",
       "      <td>No</td>\n",
       "      <td>No</td>\n",
       "      <td>No</td>\n",
       "      <td>No</td>\n",
       "      <td>Steady</td>\n",
       "      <td>No</td>\n",
       "      <td>No</td>\n",
       "      <td>Steady</td>\n",
       "      <td>No</td>\n",
       "      <td>No</td>\n",
       "      <td>No</td>\n",
       "      <td>No</td>\n",
       "      <td>No</td>\n",
       "      <td>No</td>\n",
       "      <td>No</td>\n",
       "      <td>No</td>\n",
       "      <td>No</td>\n",
       "      <td>No</td>\n",
       "      <td>No</td>\n",
       "      <td>No</td>\n",
       "      <td>No</td>\n",
       "      <td>Ch</td>\n",
       "      <td>Yes</td>\n",
       "      <td>0</td>\n",
       "    </tr>\n",
       "  </tbody>\n",
       "</table>\n",
       "</div>"
      ],
      "text/plain": [
       "            race           gender      age  time_in_hospital  \\\n",
       "39358  Caucasian  Unknown/Invalid  [60-70)                 1   \n",
       "58707      Other  Unknown/Invalid  [70-80)                 1   \n",
       "\n",
       "       num_lab_procedures  num_procedures  num_medications  number_outpatient  \\\n",
       "39358                  38               1                6                0.0   \n",
       "58707                   5               5               22                0.0   \n",
       "\n",
       "       number_emergency  number_inpatient  diag_1  diag_2  diag_3  \\\n",
       "39358               0.0               0.0   808.0   873.0   813.0   \n",
       "58707               0.0               0.0   414.0   411.0   401.0   \n",
       "\n",
       "       number_diagnoses    X1    X2  X3  X4  X5  X6  X7  X8      X9 X10 X11  \\\n",
       "39358               5.0  None  None  No  No  No  No  No  No      No  No  No   \n",
       "58707               4.0  None  None  No  No  No  No  No  No  Steady  No  No   \n",
       "\n",
       "          X12 X13 X14 X15 X16 X17 X18 X19 X20 X21 X22 X23 X24 X25 change  \\\n",
       "39358      No  No  No  No  No  No  No  No  No  No  No  No  No  No     No   \n",
       "58707  Steady  No  No  No  No  No  No  No  No  No  No  No  No  No     Ch   \n",
       "\n",
       "      diabetesMed  readmitted  \n",
       "39358          No           0  \n",
       "58707         Yes           0  "
      ]
     },
     "execution_count": 123,
     "metadata": {},
     "output_type": "execute_result"
    }
   ],
   "source": [
    "#dropping the rows with 'Unknown/Invalid for' gender\n",
    "df3[df3['gender']=='Unknown/Invalid']"
   ]
  },
  {
   "cell_type": "code",
   "execution_count": 124,
   "id": "786b2439",
   "metadata": {},
   "outputs": [
    {
     "data": {
      "text/plain": [
       "(48911, 42)"
      ]
     },
     "execution_count": 124,
     "metadata": {},
     "output_type": "execute_result"
    }
   ],
   "source": [
    "df3.shape"
   ]
  },
  {
   "cell_type": "code",
   "execution_count": 125,
   "id": "e6d6f535",
   "metadata": {},
   "outputs": [],
   "source": [
    "df3=df3.drop([39358,58707], axis=0)"
   ]
  },
  {
   "cell_type": "code",
   "execution_count": 126,
   "id": "fb95a826",
   "metadata": {},
   "outputs": [
    {
     "data": {
      "text/plain": [
       "(48909, 42)"
      ]
     },
     "execution_count": 126,
     "metadata": {},
     "output_type": "execute_result"
    }
   ],
   "source": [
    "df3.shape"
   ]
  },
  {
   "cell_type": "code",
   "execution_count": 127,
   "id": "3f5d7c0f",
   "metadata": {},
   "outputs": [
    {
     "data": {
      "text/html": [
       "<div>\n",
       "<style scoped>\n",
       "    .dataframe tbody tr th:only-of-type {\n",
       "        vertical-align: middle;\n",
       "    }\n",
       "\n",
       "    .dataframe tbody tr th {\n",
       "        vertical-align: top;\n",
       "    }\n",
       "\n",
       "    .dataframe thead th {\n",
       "        text-align: right;\n",
       "    }\n",
       "</style>\n",
       "<table border=\"1\" class=\"dataframe\">\n",
       "  <thead>\n",
       "    <tr style=\"text-align: right;\">\n",
       "      <th></th>\n",
       "      <th>race</th>\n",
       "      <th>gender</th>\n",
       "      <th>age</th>\n",
       "      <th>time_in_hospital</th>\n",
       "      <th>num_lab_procedures</th>\n",
       "      <th>num_procedures</th>\n",
       "      <th>num_medications</th>\n",
       "      <th>number_outpatient</th>\n",
       "      <th>number_emergency</th>\n",
       "      <th>number_inpatient</th>\n",
       "      <th>diag_1</th>\n",
       "      <th>diag_2</th>\n",
       "      <th>diag_3</th>\n",
       "      <th>number_diagnoses</th>\n",
       "      <th>X1</th>\n",
       "      <th>X2</th>\n",
       "      <th>X3</th>\n",
       "      <th>X4</th>\n",
       "      <th>X5</th>\n",
       "      <th>X6</th>\n",
       "      <th>X7</th>\n",
       "      <th>X8</th>\n",
       "      <th>X9</th>\n",
       "      <th>X10</th>\n",
       "      <th>X11</th>\n",
       "      <th>X12</th>\n",
       "      <th>X13</th>\n",
       "      <th>X14</th>\n",
       "      <th>X15</th>\n",
       "      <th>X16</th>\n",
       "      <th>X17</th>\n",
       "      <th>X18</th>\n",
       "      <th>X19</th>\n",
       "      <th>X20</th>\n",
       "      <th>X21</th>\n",
       "      <th>X22</th>\n",
       "      <th>X23</th>\n",
       "      <th>X24</th>\n",
       "      <th>X25</th>\n",
       "      <th>change</th>\n",
       "      <th>diabetesMed</th>\n",
       "      <th>readmitted</th>\n",
       "    </tr>\n",
       "  </thead>\n",
       "  <tbody>\n",
       "  </tbody>\n",
       "</table>\n",
       "</div>"
      ],
      "text/plain": [
       "Empty DataFrame\n",
       "Columns: [race, gender, age, time_in_hospital, num_lab_procedures, num_procedures, num_medications, number_outpatient, number_emergency, number_inpatient, diag_1, diag_2, diag_3, number_diagnoses, X1, X2, X3, X4, X5, X6, X7, X8, X9, X10, X11, X12, X13, X14, X15, X16, X17, X18, X19, X20, X21, X22, X23, X24, X25, change, diabetesMed, readmitted]\n",
       "Index: []"
      ]
     },
     "execution_count": 127,
     "metadata": {},
     "output_type": "execute_result"
    }
   ],
   "source": [
    "df3[df3['gender']=='Unknown/Invalid']"
   ]
  },
  {
   "cell_type": "code",
   "execution_count": 128,
   "id": "55110bd1",
   "metadata": {},
   "outputs": [],
   "source": [
    "#reducing number of age bins to 2\n",
    "df3['age'] = ['>=50' if x in ['[70-80)','[60-70)','[50-60)','[80-90)','[90-100)'] else '<50' for x in df3['age']]"
   ]
  },
  {
   "cell_type": "code",
   "execution_count": 129,
   "id": "bc8b4fba",
   "metadata": {},
   "outputs": [
    {
     "data": {
      "text/html": [
       "<div>\n",
       "<style scoped>\n",
       "    .dataframe tbody tr th:only-of-type {\n",
       "        vertical-align: middle;\n",
       "    }\n",
       "\n",
       "    .dataframe tbody tr th {\n",
       "        vertical-align: top;\n",
       "    }\n",
       "\n",
       "    .dataframe thead th {\n",
       "        text-align: right;\n",
       "    }\n",
       "</style>\n",
       "<table border=\"1\" class=\"dataframe\">\n",
       "  <thead>\n",
       "    <tr style=\"text-align: right;\">\n",
       "      <th></th>\n",
       "      <th>race</th>\n",
       "      <th>gender</th>\n",
       "      <th>age</th>\n",
       "      <th>time_in_hospital</th>\n",
       "      <th>num_lab_procedures</th>\n",
       "      <th>num_procedures</th>\n",
       "      <th>num_medications</th>\n",
       "      <th>number_outpatient</th>\n",
       "      <th>number_emergency</th>\n",
       "      <th>number_inpatient</th>\n",
       "      <th>diag_1</th>\n",
       "      <th>diag_2</th>\n",
       "      <th>diag_3</th>\n",
       "      <th>number_diagnoses</th>\n",
       "      <th>X1</th>\n",
       "      <th>X2</th>\n",
       "      <th>X3</th>\n",
       "      <th>X4</th>\n",
       "      <th>X5</th>\n",
       "      <th>X6</th>\n",
       "      <th>X7</th>\n",
       "      <th>X8</th>\n",
       "      <th>X9</th>\n",
       "      <th>X10</th>\n",
       "      <th>X11</th>\n",
       "      <th>X12</th>\n",
       "      <th>X13</th>\n",
       "      <th>X14</th>\n",
       "      <th>X15</th>\n",
       "      <th>X16</th>\n",
       "      <th>X17</th>\n",
       "      <th>X18</th>\n",
       "      <th>X19</th>\n",
       "      <th>X20</th>\n",
       "      <th>X21</th>\n",
       "      <th>X22</th>\n",
       "      <th>X23</th>\n",
       "      <th>X24</th>\n",
       "      <th>X25</th>\n",
       "      <th>change</th>\n",
       "      <th>diabetesMed</th>\n",
       "      <th>readmitted</th>\n",
       "    </tr>\n",
       "  </thead>\n",
       "  <tbody>\n",
       "    <tr>\n",
       "      <th>0</th>\n",
       "      <td>Hispanic</td>\n",
       "      <td>Male</td>\n",
       "      <td>&gt;=50</td>\n",
       "      <td>4</td>\n",
       "      <td>39</td>\n",
       "      <td>1</td>\n",
       "      <td>9</td>\n",
       "      <td>1.0</td>\n",
       "      <td>1.0</td>\n",
       "      <td>2.000000</td>\n",
       "      <td>783.0</td>\n",
       "      <td>403.0</td>\n",
       "      <td>585.0</td>\n",
       "      <td>9.0</td>\n",
       "      <td>None</td>\n",
       "      <td>None</td>\n",
       "      <td>No</td>\n",
       "      <td>No</td>\n",
       "      <td>No</td>\n",
       "      <td>No</td>\n",
       "      <td>No</td>\n",
       "      <td>No</td>\n",
       "      <td>No</td>\n",
       "      <td>No</td>\n",
       "      <td>No</td>\n",
       "      <td>No</td>\n",
       "      <td>Steady</td>\n",
       "      <td>No</td>\n",
       "      <td>No</td>\n",
       "      <td>No</td>\n",
       "      <td>No</td>\n",
       "      <td>No</td>\n",
       "      <td>No</td>\n",
       "      <td>No</td>\n",
       "      <td>No</td>\n",
       "      <td>No</td>\n",
       "      <td>No</td>\n",
       "      <td>No</td>\n",
       "      <td>No</td>\n",
       "      <td>No</td>\n",
       "      <td>Yes</td>\n",
       "      <td>1</td>\n",
       "    </tr>\n",
       "    <tr>\n",
       "      <th>1</th>\n",
       "      <td>Caucasian</td>\n",
       "      <td>Male</td>\n",
       "      <td>&gt;=50</td>\n",
       "      <td>3</td>\n",
       "      <td>34</td>\n",
       "      <td>1</td>\n",
       "      <td>12</td>\n",
       "      <td>0.0</td>\n",
       "      <td>0.0</td>\n",
       "      <td>0.000000</td>\n",
       "      <td>564.0</td>\n",
       "      <td>788.0</td>\n",
       "      <td>569.0</td>\n",
       "      <td>6.0</td>\n",
       "      <td>None</td>\n",
       "      <td>None</td>\n",
       "      <td>No</td>\n",
       "      <td>No</td>\n",
       "      <td>No</td>\n",
       "      <td>No</td>\n",
       "      <td>No</td>\n",
       "      <td>No</td>\n",
       "      <td>No</td>\n",
       "      <td>No</td>\n",
       "      <td>No</td>\n",
       "      <td>No</td>\n",
       "      <td>No</td>\n",
       "      <td>No</td>\n",
       "      <td>No</td>\n",
       "      <td>No</td>\n",
       "      <td>No</td>\n",
       "      <td>No</td>\n",
       "      <td>No</td>\n",
       "      <td>No</td>\n",
       "      <td>No</td>\n",
       "      <td>No</td>\n",
       "      <td>No</td>\n",
       "      <td>No</td>\n",
       "      <td>No</td>\n",
       "      <td>No</td>\n",
       "      <td>No</td>\n",
       "      <td>0</td>\n",
       "    </tr>\n",
       "    <tr>\n",
       "      <th>2</th>\n",
       "      <td>Caucasian</td>\n",
       "      <td>Female</td>\n",
       "      <td>&gt;=50</td>\n",
       "      <td>6</td>\n",
       "      <td>50</td>\n",
       "      <td>2</td>\n",
       "      <td>24</td>\n",
       "      <td>0.0</td>\n",
       "      <td>0.0</td>\n",
       "      <td>2.236068</td>\n",
       "      <td>574.0</td>\n",
       "      <td>403.0</td>\n",
       "      <td>585.0</td>\n",
       "      <td>9.0</td>\n",
       "      <td>None</td>\n",
       "      <td>None</td>\n",
       "      <td>No</td>\n",
       "      <td>No</td>\n",
       "      <td>No</td>\n",
       "      <td>No</td>\n",
       "      <td>No</td>\n",
       "      <td>No</td>\n",
       "      <td>No</td>\n",
       "      <td>No</td>\n",
       "      <td>No</td>\n",
       "      <td>No</td>\n",
       "      <td>No</td>\n",
       "      <td>No</td>\n",
       "      <td>No</td>\n",
       "      <td>No</td>\n",
       "      <td>No</td>\n",
       "      <td>No</td>\n",
       "      <td>No</td>\n",
       "      <td>Down</td>\n",
       "      <td>No</td>\n",
       "      <td>No</td>\n",
       "      <td>No</td>\n",
       "      <td>No</td>\n",
       "      <td>No</td>\n",
       "      <td>Ch</td>\n",
       "      <td>Yes</td>\n",
       "      <td>1</td>\n",
       "    </tr>\n",
       "    <tr>\n",
       "      <th>3</th>\n",
       "      <td>AfricanAmerican</td>\n",
       "      <td>Female</td>\n",
       "      <td>&gt;=50</td>\n",
       "      <td>5</td>\n",
       "      <td>63</td>\n",
       "      <td>0</td>\n",
       "      <td>14</td>\n",
       "      <td>0.0</td>\n",
       "      <td>0.0</td>\n",
       "      <td>0.000000</td>\n",
       "      <td>401.0</td>\n",
       "      <td>783.0</td>\n",
       "      <td>250.0</td>\n",
       "      <td>7.0</td>\n",
       "      <td>None</td>\n",
       "      <td>Norm</td>\n",
       "      <td>No</td>\n",
       "      <td>No</td>\n",
       "      <td>No</td>\n",
       "      <td>No</td>\n",
       "      <td>No</td>\n",
       "      <td>No</td>\n",
       "      <td>No</td>\n",
       "      <td>No</td>\n",
       "      <td>No</td>\n",
       "      <td>No</td>\n",
       "      <td>No</td>\n",
       "      <td>No</td>\n",
       "      <td>No</td>\n",
       "      <td>No</td>\n",
       "      <td>No</td>\n",
       "      <td>No</td>\n",
       "      <td>No</td>\n",
       "      <td>Down</td>\n",
       "      <td>No</td>\n",
       "      <td>No</td>\n",
       "      <td>No</td>\n",
       "      <td>No</td>\n",
       "      <td>No</td>\n",
       "      <td>Ch</td>\n",
       "      <td>Yes</td>\n",
       "      <td>1</td>\n",
       "    </tr>\n",
       "    <tr>\n",
       "      <th>4</th>\n",
       "      <td>Caucasian</td>\n",
       "      <td>Male</td>\n",
       "      <td>&gt;=50</td>\n",
       "      <td>9</td>\n",
       "      <td>17</td>\n",
       "      <td>1</td>\n",
       "      <td>11</td>\n",
       "      <td>0.0</td>\n",
       "      <td>0.0</td>\n",
       "      <td>0.000000</td>\n",
       "      <td>311.0</td>\n",
       "      <td>276.0</td>\n",
       "      <td>300.0</td>\n",
       "      <td>9.0</td>\n",
       "      <td>&gt;200</td>\n",
       "      <td>None</td>\n",
       "      <td>No</td>\n",
       "      <td>No</td>\n",
       "      <td>No</td>\n",
       "      <td>No</td>\n",
       "      <td>No</td>\n",
       "      <td>No</td>\n",
       "      <td>No</td>\n",
       "      <td>No</td>\n",
       "      <td>No</td>\n",
       "      <td>No</td>\n",
       "      <td>No</td>\n",
       "      <td>No</td>\n",
       "      <td>No</td>\n",
       "      <td>No</td>\n",
       "      <td>No</td>\n",
       "      <td>No</td>\n",
       "      <td>No</td>\n",
       "      <td>No</td>\n",
       "      <td>No</td>\n",
       "      <td>No</td>\n",
       "      <td>No</td>\n",
       "      <td>No</td>\n",
       "      <td>No</td>\n",
       "      <td>No</td>\n",
       "      <td>No</td>\n",
       "      <td>1</td>\n",
       "    </tr>\n",
       "  </tbody>\n",
       "</table>\n",
       "</div>"
      ],
      "text/plain": [
       "              race  gender   age  time_in_hospital  num_lab_procedures  \\\n",
       "0         Hispanic    Male  >=50                 4                  39   \n",
       "1        Caucasian    Male  >=50                 3                  34   \n",
       "2        Caucasian  Female  >=50                 6                  50   \n",
       "3  AfricanAmerican  Female  >=50                 5                  63   \n",
       "4        Caucasian    Male  >=50                 9                  17   \n",
       "\n",
       "   num_procedures  num_medications  number_outpatient  number_emergency  \\\n",
       "0               1                9                1.0               1.0   \n",
       "1               1               12                0.0               0.0   \n",
       "2               2               24                0.0               0.0   \n",
       "3               0               14                0.0               0.0   \n",
       "4               1               11                0.0               0.0   \n",
       "\n",
       "   number_inpatient  diag_1  diag_2  diag_3  number_diagnoses    X1    X2  X3  \\\n",
       "0          2.000000   783.0   403.0   585.0               9.0  None  None  No   \n",
       "1          0.000000   564.0   788.0   569.0               6.0  None  None  No   \n",
       "2          2.236068   574.0   403.0   585.0               9.0  None  None  No   \n",
       "3          0.000000   401.0   783.0   250.0               7.0  None  Norm  No   \n",
       "4          0.000000   311.0   276.0   300.0               9.0  >200  None  No   \n",
       "\n",
       "   X4  X5  X6  X7  X8  X9 X10 X11 X12     X13 X14 X15 X16 X17 X18 X19   X20  \\\n",
       "0  No  No  No  No  No  No  No  No  No  Steady  No  No  No  No  No  No    No   \n",
       "1  No  No  No  No  No  No  No  No  No      No  No  No  No  No  No  No    No   \n",
       "2  No  No  No  No  No  No  No  No  No      No  No  No  No  No  No  No  Down   \n",
       "3  No  No  No  No  No  No  No  No  No      No  No  No  No  No  No  No  Down   \n",
       "4  No  No  No  No  No  No  No  No  No      No  No  No  No  No  No  No    No   \n",
       "\n",
       "  X21 X22 X23 X24 X25 change diabetesMed  readmitted  \n",
       "0  No  No  No  No  No     No         Yes           1  \n",
       "1  No  No  No  No  No     No          No           0  \n",
       "2  No  No  No  No  No     Ch         Yes           1  \n",
       "3  No  No  No  No  No     Ch         Yes           1  \n",
       "4  No  No  No  No  No     No          No           1  "
      ]
     },
     "execution_count": 129,
     "metadata": {},
     "output_type": "execute_result"
    }
   ],
   "source": [
    "df3.head()"
   ]
  },
  {
   "cell_type": "code",
   "execution_count": 130,
   "id": "c7ea7e22",
   "metadata": {},
   "outputs": [
    {
     "data": {
      "text/plain": [
       ">=50    41317\n",
       "<50      7592\n",
       "Name: age, dtype: int64"
      ]
     },
     "execution_count": 130,
     "metadata": {},
     "output_type": "execute_result"
    }
   ],
   "source": [
    "df3.age.value_counts()"
   ]
  },
  {
   "cell_type": "code",
   "execution_count": 131,
   "id": "d21a88f9",
   "metadata": {},
   "outputs": [],
   "source": [
    "#dropping columns X1-X25 where the 'None'/'No' values are more than 85%\n",
    "df4=df3.drop(['X1','X4','X5','X6','X7','X8','X9','X10','X11','X12','X13','X14','X15','X16','X17','X18','X19','X21','X22',\n",
    "             'X23','X24','X25'],axis=1)"
   ]
  },
  {
   "cell_type": "code",
   "execution_count": 132,
   "id": "8c3d5dc5",
   "metadata": {},
   "outputs": [
    {
     "data": {
      "text/html": [
       "<div>\n",
       "<style scoped>\n",
       "    .dataframe tbody tr th:only-of-type {\n",
       "        vertical-align: middle;\n",
       "    }\n",
       "\n",
       "    .dataframe tbody tr th {\n",
       "        vertical-align: top;\n",
       "    }\n",
       "\n",
       "    .dataframe thead th {\n",
       "        text-align: right;\n",
       "    }\n",
       "</style>\n",
       "<table border=\"1\" class=\"dataframe\">\n",
       "  <thead>\n",
       "    <tr style=\"text-align: right;\">\n",
       "      <th></th>\n",
       "      <th>race</th>\n",
       "      <th>gender</th>\n",
       "      <th>age</th>\n",
       "      <th>time_in_hospital</th>\n",
       "      <th>num_lab_procedures</th>\n",
       "      <th>num_procedures</th>\n",
       "      <th>num_medications</th>\n",
       "      <th>number_outpatient</th>\n",
       "      <th>number_emergency</th>\n",
       "      <th>number_inpatient</th>\n",
       "      <th>diag_1</th>\n",
       "      <th>diag_2</th>\n",
       "      <th>diag_3</th>\n",
       "      <th>number_diagnoses</th>\n",
       "      <th>X2</th>\n",
       "      <th>X3</th>\n",
       "      <th>X20</th>\n",
       "      <th>change</th>\n",
       "      <th>diabetesMed</th>\n",
       "      <th>readmitted</th>\n",
       "    </tr>\n",
       "  </thead>\n",
       "  <tbody>\n",
       "    <tr>\n",
       "      <th>0</th>\n",
       "      <td>Hispanic</td>\n",
       "      <td>Male</td>\n",
       "      <td>&gt;=50</td>\n",
       "      <td>4</td>\n",
       "      <td>39</td>\n",
       "      <td>1</td>\n",
       "      <td>9</td>\n",
       "      <td>1.0</td>\n",
       "      <td>1.0</td>\n",
       "      <td>2.000000</td>\n",
       "      <td>783.0</td>\n",
       "      <td>403.0</td>\n",
       "      <td>585.0</td>\n",
       "      <td>9.0</td>\n",
       "      <td>None</td>\n",
       "      <td>No</td>\n",
       "      <td>No</td>\n",
       "      <td>No</td>\n",
       "      <td>Yes</td>\n",
       "      <td>1</td>\n",
       "    </tr>\n",
       "    <tr>\n",
       "      <th>1</th>\n",
       "      <td>Caucasian</td>\n",
       "      <td>Male</td>\n",
       "      <td>&gt;=50</td>\n",
       "      <td>3</td>\n",
       "      <td>34</td>\n",
       "      <td>1</td>\n",
       "      <td>12</td>\n",
       "      <td>0.0</td>\n",
       "      <td>0.0</td>\n",
       "      <td>0.000000</td>\n",
       "      <td>564.0</td>\n",
       "      <td>788.0</td>\n",
       "      <td>569.0</td>\n",
       "      <td>6.0</td>\n",
       "      <td>None</td>\n",
       "      <td>No</td>\n",
       "      <td>No</td>\n",
       "      <td>No</td>\n",
       "      <td>No</td>\n",
       "      <td>0</td>\n",
       "    </tr>\n",
       "    <tr>\n",
       "      <th>2</th>\n",
       "      <td>Caucasian</td>\n",
       "      <td>Female</td>\n",
       "      <td>&gt;=50</td>\n",
       "      <td>6</td>\n",
       "      <td>50</td>\n",
       "      <td>2</td>\n",
       "      <td>24</td>\n",
       "      <td>0.0</td>\n",
       "      <td>0.0</td>\n",
       "      <td>2.236068</td>\n",
       "      <td>574.0</td>\n",
       "      <td>403.0</td>\n",
       "      <td>585.0</td>\n",
       "      <td>9.0</td>\n",
       "      <td>None</td>\n",
       "      <td>No</td>\n",
       "      <td>Down</td>\n",
       "      <td>Ch</td>\n",
       "      <td>Yes</td>\n",
       "      <td>1</td>\n",
       "    </tr>\n",
       "    <tr>\n",
       "      <th>3</th>\n",
       "      <td>AfricanAmerican</td>\n",
       "      <td>Female</td>\n",
       "      <td>&gt;=50</td>\n",
       "      <td>5</td>\n",
       "      <td>63</td>\n",
       "      <td>0</td>\n",
       "      <td>14</td>\n",
       "      <td>0.0</td>\n",
       "      <td>0.0</td>\n",
       "      <td>0.000000</td>\n",
       "      <td>401.0</td>\n",
       "      <td>783.0</td>\n",
       "      <td>250.0</td>\n",
       "      <td>7.0</td>\n",
       "      <td>Norm</td>\n",
       "      <td>No</td>\n",
       "      <td>Down</td>\n",
       "      <td>Ch</td>\n",
       "      <td>Yes</td>\n",
       "      <td>1</td>\n",
       "    </tr>\n",
       "    <tr>\n",
       "      <th>4</th>\n",
       "      <td>Caucasian</td>\n",
       "      <td>Male</td>\n",
       "      <td>&gt;=50</td>\n",
       "      <td>9</td>\n",
       "      <td>17</td>\n",
       "      <td>1</td>\n",
       "      <td>11</td>\n",
       "      <td>0.0</td>\n",
       "      <td>0.0</td>\n",
       "      <td>0.000000</td>\n",
       "      <td>311.0</td>\n",
       "      <td>276.0</td>\n",
       "      <td>300.0</td>\n",
       "      <td>9.0</td>\n",
       "      <td>None</td>\n",
       "      <td>No</td>\n",
       "      <td>No</td>\n",
       "      <td>No</td>\n",
       "      <td>No</td>\n",
       "      <td>1</td>\n",
       "    </tr>\n",
       "  </tbody>\n",
       "</table>\n",
       "</div>"
      ],
      "text/plain": [
       "              race  gender   age  time_in_hospital  num_lab_procedures  \\\n",
       "0         Hispanic    Male  >=50                 4                  39   \n",
       "1        Caucasian    Male  >=50                 3                  34   \n",
       "2        Caucasian  Female  >=50                 6                  50   \n",
       "3  AfricanAmerican  Female  >=50                 5                  63   \n",
       "4        Caucasian    Male  >=50                 9                  17   \n",
       "\n",
       "   num_procedures  num_medications  number_outpatient  number_emergency  \\\n",
       "0               1                9                1.0               1.0   \n",
       "1               1               12                0.0               0.0   \n",
       "2               2               24                0.0               0.0   \n",
       "3               0               14                0.0               0.0   \n",
       "4               1               11                0.0               0.0   \n",
       "\n",
       "   number_inpatient  diag_1  diag_2  diag_3  number_diagnoses    X2  X3   X20  \\\n",
       "0          2.000000   783.0   403.0   585.0               9.0  None  No    No   \n",
       "1          0.000000   564.0   788.0   569.0               6.0  None  No    No   \n",
       "2          2.236068   574.0   403.0   585.0               9.0  None  No  Down   \n",
       "3          0.000000   401.0   783.0   250.0               7.0  Norm  No  Down   \n",
       "4          0.000000   311.0   276.0   300.0               9.0  None  No    No   \n",
       "\n",
       "  change diabetesMed  readmitted  \n",
       "0     No         Yes           1  \n",
       "1     No          No           0  \n",
       "2     Ch         Yes           1  \n",
       "3     Ch         Yes           1  \n",
       "4     No          No           1  "
      ]
     },
     "execution_count": 132,
     "metadata": {},
     "output_type": "execute_result"
    }
   ],
   "source": [
    "df4.head()"
   ]
  },
  {
   "cell_type": "code",
   "execution_count": 133,
   "id": "79fb194e",
   "metadata": {},
   "outputs": [],
   "source": [
    "#X and y split\n",
    "X=df4.drop(['readmitted'],axis=1)\n",
    "y=df4['readmitted']"
   ]
  },
  {
   "cell_type": "code",
   "execution_count": 134,
   "id": "f369cff3",
   "metadata": {},
   "outputs": [
    {
     "data": {
      "text/plain": [
       "(48909, 19)"
      ]
     },
     "execution_count": 134,
     "metadata": {},
     "output_type": "execute_result"
    }
   ],
   "source": [
    "X.shape"
   ]
  },
  {
   "cell_type": "code",
   "execution_count": 135,
   "id": "e95e086d",
   "metadata": {},
   "outputs": [
    {
     "data": {
      "text/plain": [
       "(48909,)"
      ]
     },
     "execution_count": 135,
     "metadata": {},
     "output_type": "execute_result"
    }
   ],
   "source": [
    "y.shape"
   ]
  },
  {
   "cell_type": "code",
   "execution_count": 136,
   "id": "398e4291",
   "metadata": {},
   "outputs": [],
   "source": [
    "#dummification"
   ]
  },
  {
   "cell_type": "code",
   "execution_count": 137,
   "id": "308c26bd",
   "metadata": {},
   "outputs": [
    {
     "data": {
      "text/html": [
       "<div>\n",
       "<style scoped>\n",
       "    .dataframe tbody tr th:only-of-type {\n",
       "        vertical-align: middle;\n",
       "    }\n",
       "\n",
       "    .dataframe tbody tr th {\n",
       "        vertical-align: top;\n",
       "    }\n",
       "\n",
       "    .dataframe thead th {\n",
       "        text-align: right;\n",
       "    }\n",
       "</style>\n",
       "<table border=\"1\" class=\"dataframe\">\n",
       "  <thead>\n",
       "    <tr style=\"text-align: right;\">\n",
       "      <th></th>\n",
       "      <th>race</th>\n",
       "      <th>gender</th>\n",
       "      <th>age</th>\n",
       "      <th>X2</th>\n",
       "      <th>X3</th>\n",
       "      <th>X20</th>\n",
       "      <th>change</th>\n",
       "      <th>diabetesMed</th>\n",
       "    </tr>\n",
       "  </thead>\n",
       "  <tbody>\n",
       "    <tr>\n",
       "      <th>0</th>\n",
       "      <td>Hispanic</td>\n",
       "      <td>Male</td>\n",
       "      <td>&gt;=50</td>\n",
       "      <td>None</td>\n",
       "      <td>No</td>\n",
       "      <td>No</td>\n",
       "      <td>No</td>\n",
       "      <td>Yes</td>\n",
       "    </tr>\n",
       "    <tr>\n",
       "      <th>1</th>\n",
       "      <td>Caucasian</td>\n",
       "      <td>Male</td>\n",
       "      <td>&gt;=50</td>\n",
       "      <td>None</td>\n",
       "      <td>No</td>\n",
       "      <td>No</td>\n",
       "      <td>No</td>\n",
       "      <td>No</td>\n",
       "    </tr>\n",
       "    <tr>\n",
       "      <th>2</th>\n",
       "      <td>Caucasian</td>\n",
       "      <td>Female</td>\n",
       "      <td>&gt;=50</td>\n",
       "      <td>None</td>\n",
       "      <td>No</td>\n",
       "      <td>Down</td>\n",
       "      <td>Ch</td>\n",
       "      <td>Yes</td>\n",
       "    </tr>\n",
       "    <tr>\n",
       "      <th>3</th>\n",
       "      <td>AfricanAmerican</td>\n",
       "      <td>Female</td>\n",
       "      <td>&gt;=50</td>\n",
       "      <td>Norm</td>\n",
       "      <td>No</td>\n",
       "      <td>Down</td>\n",
       "      <td>Ch</td>\n",
       "      <td>Yes</td>\n",
       "    </tr>\n",
       "    <tr>\n",
       "      <th>4</th>\n",
       "      <td>Caucasian</td>\n",
       "      <td>Male</td>\n",
       "      <td>&gt;=50</td>\n",
       "      <td>None</td>\n",
       "      <td>No</td>\n",
       "      <td>No</td>\n",
       "      <td>No</td>\n",
       "      <td>No</td>\n",
       "    </tr>\n",
       "  </tbody>\n",
       "</table>\n",
       "</div>"
      ],
      "text/plain": [
       "              race  gender   age    X2  X3   X20 change diabetesMed\n",
       "0         Hispanic    Male  >=50  None  No    No     No         Yes\n",
       "1        Caucasian    Male  >=50  None  No    No     No          No\n",
       "2        Caucasian  Female  >=50  None  No  Down     Ch         Yes\n",
       "3  AfricanAmerican  Female  >=50  Norm  No  Down     Ch         Yes\n",
       "4        Caucasian    Male  >=50  None  No    No     No          No"
      ]
     },
     "execution_count": 137,
     "metadata": {},
     "output_type": "execute_result"
    }
   ],
   "source": [
    "catdf4 = df4.select_dtypes(include='object')\n",
    "catdf4.head()"
   ]
  },
  {
   "cell_type": "code",
   "execution_count": 138,
   "id": "8ea13cef",
   "metadata": {},
   "outputs": [
    {
     "data": {
      "text/plain": [
       "Index(['race', 'gender', 'age', 'X2', 'X3', 'X20', 'change', 'diabetesMed'], dtype='object')"
      ]
     },
     "execution_count": 138,
     "metadata": {},
     "output_type": "execute_result"
    }
   ],
   "source": [
    "catdf4.columns"
   ]
  },
  {
   "cell_type": "code",
   "execution_count": 139,
   "id": "fc94134b",
   "metadata": {},
   "outputs": [],
   "source": [
    "X=pd.get_dummies(X,columns=catdf4.columns,drop_first=True)"
   ]
  },
  {
   "cell_type": "code",
   "execution_count": 140,
   "id": "f6bcb6f2",
   "metadata": {},
   "outputs": [
    {
     "data": {
      "text/plain": [
       "(48909, 28)"
      ]
     },
     "execution_count": 140,
     "metadata": {},
     "output_type": "execute_result"
    }
   ],
   "source": [
    "X.shape"
   ]
  },
  {
   "cell_type": "code",
   "execution_count": 141,
   "id": "e0c43032",
   "metadata": {},
   "outputs": [
    {
     "data": {
      "text/html": [
       "<div>\n",
       "<style scoped>\n",
       "    .dataframe tbody tr th:only-of-type {\n",
       "        vertical-align: middle;\n",
       "    }\n",
       "\n",
       "    .dataframe tbody tr th {\n",
       "        vertical-align: top;\n",
       "    }\n",
       "\n",
       "    .dataframe thead th {\n",
       "        text-align: right;\n",
       "    }\n",
       "</style>\n",
       "<table border=\"1\" class=\"dataframe\">\n",
       "  <thead>\n",
       "    <tr style=\"text-align: right;\">\n",
       "      <th></th>\n",
       "      <th>time_in_hospital</th>\n",
       "      <th>num_lab_procedures</th>\n",
       "      <th>num_procedures</th>\n",
       "      <th>num_medications</th>\n",
       "      <th>number_outpatient</th>\n",
       "      <th>number_emergency</th>\n",
       "      <th>number_inpatient</th>\n",
       "      <th>diag_1</th>\n",
       "      <th>diag_2</th>\n",
       "      <th>diag_3</th>\n",
       "      <th>number_diagnoses</th>\n",
       "      <th>race_Asian</th>\n",
       "      <th>race_Caucasian</th>\n",
       "      <th>race_Hispanic</th>\n",
       "      <th>race_Other</th>\n",
       "      <th>gender_Male</th>\n",
       "      <th>age_&gt;=50</th>\n",
       "      <th>X2_&gt;8</th>\n",
       "      <th>X2_None</th>\n",
       "      <th>X2_Norm</th>\n",
       "      <th>X3_No</th>\n",
       "      <th>X3_Steady</th>\n",
       "      <th>X3_Up</th>\n",
       "      <th>X20_No</th>\n",
       "      <th>X20_Steady</th>\n",
       "      <th>X20_Up</th>\n",
       "      <th>change_No</th>\n",
       "      <th>diabetesMed_Yes</th>\n",
       "    </tr>\n",
       "  </thead>\n",
       "  <tbody>\n",
       "    <tr>\n",
       "      <th>0</th>\n",
       "      <td>4</td>\n",
       "      <td>39</td>\n",
       "      <td>1</td>\n",
       "      <td>9</td>\n",
       "      <td>1.0</td>\n",
       "      <td>1.0</td>\n",
       "      <td>2.000000</td>\n",
       "      <td>783.0</td>\n",
       "      <td>403.0</td>\n",
       "      <td>585.0</td>\n",
       "      <td>9.0</td>\n",
       "      <td>0</td>\n",
       "      <td>0</td>\n",
       "      <td>1</td>\n",
       "      <td>0</td>\n",
       "      <td>1</td>\n",
       "      <td>1</td>\n",
       "      <td>0</td>\n",
       "      <td>1</td>\n",
       "      <td>0</td>\n",
       "      <td>1</td>\n",
       "      <td>0</td>\n",
       "      <td>0</td>\n",
       "      <td>1</td>\n",
       "      <td>0</td>\n",
       "      <td>0</td>\n",
       "      <td>1</td>\n",
       "      <td>1</td>\n",
       "    </tr>\n",
       "    <tr>\n",
       "      <th>1</th>\n",
       "      <td>3</td>\n",
       "      <td>34</td>\n",
       "      <td>1</td>\n",
       "      <td>12</td>\n",
       "      <td>0.0</td>\n",
       "      <td>0.0</td>\n",
       "      <td>0.000000</td>\n",
       "      <td>564.0</td>\n",
       "      <td>788.0</td>\n",
       "      <td>569.0</td>\n",
       "      <td>6.0</td>\n",
       "      <td>0</td>\n",
       "      <td>1</td>\n",
       "      <td>0</td>\n",
       "      <td>0</td>\n",
       "      <td>1</td>\n",
       "      <td>1</td>\n",
       "      <td>0</td>\n",
       "      <td>1</td>\n",
       "      <td>0</td>\n",
       "      <td>1</td>\n",
       "      <td>0</td>\n",
       "      <td>0</td>\n",
       "      <td>1</td>\n",
       "      <td>0</td>\n",
       "      <td>0</td>\n",
       "      <td>1</td>\n",
       "      <td>0</td>\n",
       "    </tr>\n",
       "    <tr>\n",
       "      <th>2</th>\n",
       "      <td>6</td>\n",
       "      <td>50</td>\n",
       "      <td>2</td>\n",
       "      <td>24</td>\n",
       "      <td>0.0</td>\n",
       "      <td>0.0</td>\n",
       "      <td>2.236068</td>\n",
       "      <td>574.0</td>\n",
       "      <td>403.0</td>\n",
       "      <td>585.0</td>\n",
       "      <td>9.0</td>\n",
       "      <td>0</td>\n",
       "      <td>1</td>\n",
       "      <td>0</td>\n",
       "      <td>0</td>\n",
       "      <td>0</td>\n",
       "      <td>1</td>\n",
       "      <td>0</td>\n",
       "      <td>1</td>\n",
       "      <td>0</td>\n",
       "      <td>1</td>\n",
       "      <td>0</td>\n",
       "      <td>0</td>\n",
       "      <td>0</td>\n",
       "      <td>0</td>\n",
       "      <td>0</td>\n",
       "      <td>0</td>\n",
       "      <td>1</td>\n",
       "    </tr>\n",
       "    <tr>\n",
       "      <th>3</th>\n",
       "      <td>5</td>\n",
       "      <td>63</td>\n",
       "      <td>0</td>\n",
       "      <td>14</td>\n",
       "      <td>0.0</td>\n",
       "      <td>0.0</td>\n",
       "      <td>0.000000</td>\n",
       "      <td>401.0</td>\n",
       "      <td>783.0</td>\n",
       "      <td>250.0</td>\n",
       "      <td>7.0</td>\n",
       "      <td>0</td>\n",
       "      <td>0</td>\n",
       "      <td>0</td>\n",
       "      <td>0</td>\n",
       "      <td>0</td>\n",
       "      <td>1</td>\n",
       "      <td>0</td>\n",
       "      <td>0</td>\n",
       "      <td>1</td>\n",
       "      <td>1</td>\n",
       "      <td>0</td>\n",
       "      <td>0</td>\n",
       "      <td>0</td>\n",
       "      <td>0</td>\n",
       "      <td>0</td>\n",
       "      <td>0</td>\n",
       "      <td>1</td>\n",
       "    </tr>\n",
       "    <tr>\n",
       "      <th>4</th>\n",
       "      <td>9</td>\n",
       "      <td>17</td>\n",
       "      <td>1</td>\n",
       "      <td>11</td>\n",
       "      <td>0.0</td>\n",
       "      <td>0.0</td>\n",
       "      <td>0.000000</td>\n",
       "      <td>311.0</td>\n",
       "      <td>276.0</td>\n",
       "      <td>300.0</td>\n",
       "      <td>9.0</td>\n",
       "      <td>0</td>\n",
       "      <td>1</td>\n",
       "      <td>0</td>\n",
       "      <td>0</td>\n",
       "      <td>1</td>\n",
       "      <td>1</td>\n",
       "      <td>0</td>\n",
       "      <td>1</td>\n",
       "      <td>0</td>\n",
       "      <td>1</td>\n",
       "      <td>0</td>\n",
       "      <td>0</td>\n",
       "      <td>1</td>\n",
       "      <td>0</td>\n",
       "      <td>0</td>\n",
       "      <td>1</td>\n",
       "      <td>0</td>\n",
       "    </tr>\n",
       "  </tbody>\n",
       "</table>\n",
       "</div>"
      ],
      "text/plain": [
       "   time_in_hospital  num_lab_procedures  num_procedures  num_medications  \\\n",
       "0                 4                  39               1                9   \n",
       "1                 3                  34               1               12   \n",
       "2                 6                  50               2               24   \n",
       "3                 5                  63               0               14   \n",
       "4                 9                  17               1               11   \n",
       "\n",
       "   number_outpatient  number_emergency  number_inpatient  diag_1  diag_2  \\\n",
       "0                1.0               1.0          2.000000   783.0   403.0   \n",
       "1                0.0               0.0          0.000000   564.0   788.0   \n",
       "2                0.0               0.0          2.236068   574.0   403.0   \n",
       "3                0.0               0.0          0.000000   401.0   783.0   \n",
       "4                0.0               0.0          0.000000   311.0   276.0   \n",
       "\n",
       "   diag_3  number_diagnoses  race_Asian  race_Caucasian  race_Hispanic  \\\n",
       "0   585.0               9.0           0               0              1   \n",
       "1   569.0               6.0           0               1              0   \n",
       "2   585.0               9.0           0               1              0   \n",
       "3   250.0               7.0           0               0              0   \n",
       "4   300.0               9.0           0               1              0   \n",
       "\n",
       "   race_Other  gender_Male  age_>=50  X2_>8  X2_None  X2_Norm  X3_No  \\\n",
       "0           0            1         1      0        1        0      1   \n",
       "1           0            1         1      0        1        0      1   \n",
       "2           0            0         1      0        1        0      1   \n",
       "3           0            0         1      0        0        1      1   \n",
       "4           0            1         1      0        1        0      1   \n",
       "\n",
       "   X3_Steady  X3_Up  X20_No  X20_Steady  X20_Up  change_No  diabetesMed_Yes  \n",
       "0          0      0       1           0       0          1                1  \n",
       "1          0      0       1           0       0          1                0  \n",
       "2          0      0       0           0       0          0                1  \n",
       "3          0      0       0           0       0          0                1  \n",
       "4          0      0       1           0       0          1                0  "
      ]
     },
     "execution_count": 141,
     "metadata": {},
     "output_type": "execute_result"
    }
   ],
   "source": [
    "X.head()"
   ]
  },
  {
   "cell_type": "code",
   "execution_count": 142,
   "id": "9daf388d",
   "metadata": {},
   "outputs": [],
   "source": [
    "#train test split\n",
    "from sklearn.model_selection import train_test_split\n",
    "X_train, X_test, y_train, y_test = train_test_split(X, y, test_size=0.20,stratify=y,random_state=123)"
   ]
  },
  {
   "cell_type": "code",
   "execution_count": 143,
   "id": "98358566",
   "metadata": {},
   "outputs": [
    {
     "name": "stdout",
     "output_type": "stream",
     "text": [
      "(39127, 28)\n",
      "(9782, 28)\n",
      "(39127,)\n",
      "(9782,)\n"
     ]
    }
   ],
   "source": [
    "print(X_train.shape)\n",
    "print(X_test.shape)\n",
    "print(y_train.shape)\n",
    "print(y_test.shape)"
   ]
  },
  {
   "cell_type": "code",
   "execution_count": 144,
   "id": "23b86f30",
   "metadata": {},
   "outputs": [],
   "source": [
    "#standarization\n",
    "from sklearn.preprocessing import StandardScaler\n",
    "sc = StandardScaler().fit(X_train)\n",
    "X_train_std = sc.transform(X_train)\n",
    "X_test_std = sc.transform(X_test)"
   ]
  },
  {
   "cell_type": "code",
   "execution_count": 145,
   "id": "fac1872b",
   "metadata": {},
   "outputs": [
    {
     "name": "stdout",
     "output_type": "stream",
     "text": [
      "(39127, 28)\n",
      "(9782, 28)\n",
      "(39127,)\n",
      "(9782,)\n"
     ]
    }
   ],
   "source": [
    "print(X_train_std.shape)\n",
    "print(X_test_std.shape)\n",
    "print(y_train.shape)\n",
    "print(y_test.shape)"
   ]
  },
  {
   "cell_type": "markdown",
   "id": "1cc78163",
   "metadata": {},
   "source": [
    "# Model Building"
   ]
  },
  {
   "cell_type": "code",
   "execution_count": 146,
   "id": "878686ad",
   "metadata": {},
   "outputs": [],
   "source": [
    "from sklearn.model_selection import cross_validate, GridSearchCV, cross_val_score\n",
    "from sklearn.neighbors import KNeighborsClassifier\n",
    "from sklearn.linear_model import LogisticRegression\n",
    "from sklearn.tree import DecisionTreeClassifier\n",
    "from sklearn.ensemble import RandomForestClassifier\n",
    "from sklearn.svm import SVC\n",
    "from sklearn.neural_network import MLPClassifier\n",
    "from xgboost import XGBClassifier\n",
    "from sklearn.metrics import classification_report, accuracy_score, f1_score, confusion_matrix, recall_score, precision_score"
   ]
  },
  {
   "cell_type": "markdown",
   "id": "95c3ff12",
   "metadata": {},
   "source": [
    "# Defining error metrics"
   ]
  },
  {
   "cell_type": "code",
   "execution_count": 147,
   "id": "371783e1",
   "metadata": {},
   "outputs": [],
   "source": [
    "def get_CR_CM(train_actual,train_predicted,test_actual,test_predicted):\n",
    "    print('''\n",
    "         ========================================\n",
    "           CLASSIFICATION REPORT FOR TRAIN DATA\n",
    "         ========================================\n",
    "        ''')\n",
    "    print(classification_report(train_actual, train_predicted, digits=4))\n",
    "\n",
    "    print('''\n",
    "             =============================================\n",
    "               CLASSIFICATION REPORT FOR VALIDATION DATA\n",
    "             =============================================\n",
    "            ''')\n",
    "    print(classification_report(test_actual, test_predicted, digits=4))\n",
    "\n",
    "    print('''\n",
    "             ========================================\n",
    "               Confusion Matrix FOR TRAIN DATA\n",
    "             ========================================\n",
    "            ''')\n",
    "    print(confusion_matrix(train_actual, train_predicted))\n",
    "\n",
    "    print('''\n",
    "             =============================================\n",
    "               Confusion matrix FOR VALIDATION DATA\n",
    "             =============================================\n",
    "            ''')\n",
    "    print(confusion_matrix(test_actual, test_predicted))\n",
    "    "
   ]
  },
  {
   "cell_type": "code",
   "execution_count": 148,
   "id": "1ed0be84",
   "metadata": {},
   "outputs": [],
   "source": [
    "scores = pd.DataFrame(columns=['Model','Train_Accuracy','Train_Recall','Train_Precision','Train_F1_Score','Test_Accuracy','Test_Recall','Test_Precision','Test_F1_Score'])\n",
    "\n",
    "def get_metrics(train_actual,train_predicted,test_actual,test_predicted,model_description,dataframe):\n",
    "    get_CR_CM(train_actual,train_predicted,test_actual,test_predicted)\n",
    "    train_accuracy = accuracy_score(train_actual,train_predicted)\n",
    "    train_recall   = recall_score(train_actual,train_predicted)\n",
    "    train_precision= precision_score(train_actual,train_predicted)\n",
    "    train_f1score  = f1_score(train_actual,train_predicted)\n",
    "    test_accuracy = accuracy_score(test_actual,test_predicted)\n",
    "    test_recall   = recall_score(test_actual,test_predicted)\n",
    "    test_precision= precision_score(test_actual,test_predicted)\n",
    "    test_f1score  = f1_score(test_actual,test_predicted)\n",
    "    dataframe = dataframe.concat(pd.Series([model_description, train_accuracy,train_recall,train_precision,train_f1score,\n",
    "                                            test_accuracy,test_recall,test_precision,test_f1score],\n",
    "                                           index=scores.columns ), ignore_index=True)\n",
    "    return(dataframe)"
   ]
  },
  {
   "cell_type": "markdown",
   "id": "7bfbdbca",
   "metadata": {},
   "source": [
    "### Logistic regression"
   ]
  },
  {
   "cell_type": "code",
   "execution_count": 149,
   "id": "53977d3e",
   "metadata": {},
   "outputs": [],
   "source": [
    "#logistic regression\n",
    "log_mod = LogisticRegression(random_state=123)"
   ]
  },
  {
   "cell_type": "code",
   "execution_count": 150,
   "id": "8e785360",
   "metadata": {},
   "outputs": [
    {
     "data": {
      "text/plain": [
       "LogisticRegression(random_state=123)"
      ]
     },
     "execution_count": 150,
     "metadata": {},
     "output_type": "execute_result"
    }
   ],
   "source": [
    "log_mod.fit(X_train_std, y_train)"
   ]
  },
  {
   "cell_type": "code",
   "execution_count": 151,
   "id": "74816d34",
   "metadata": {},
   "outputs": [],
   "source": [
    "y_pred_train = log_mod.predict(X_train_std)\n",
    "y_pred_test = log_mod.predict(X_test_std)"
   ]
  },
  {
   "cell_type": "code",
   "execution_count": 152,
   "id": "c3e2b5f3",
   "metadata": {},
   "outputs": [
    {
     "name": "stdout",
     "output_type": "stream",
     "text": [
      "\n",
      "         ========================================\n",
      "           CLASSIFICATION REPORT FOR TRAIN DATA\n",
      "         ========================================\n",
      "        \n",
      "              precision    recall  f1-score   support\n",
      "\n",
      "           0     0.6212    0.7654    0.6858     21040\n",
      "           1     0.6262    0.4570    0.5284     18087\n",
      "\n",
      "    accuracy                         0.6229     39127\n",
      "   macro avg     0.6237    0.6112    0.6071     39127\n",
      "weighted avg     0.6235    0.6229    0.6130     39127\n",
      "\n",
      "\n",
      "             =============================================\n",
      "               CLASSIFICATION REPORT FOR VALIDATION DATA\n",
      "             =============================================\n",
      "            \n",
      "              precision    recall  f1-score   support\n",
      "\n",
      "           0     0.6187    0.7627    0.6832      5260\n",
      "           1     0.6215    0.4531    0.5241      4522\n",
      "\n",
      "    accuracy                         0.6196      9782\n",
      "   macro avg     0.6201    0.6079    0.6036      9782\n",
      "weighted avg     0.6200    0.6196    0.6096      9782\n",
      "\n",
      "\n",
      "             ========================================\n",
      "               Confusion Matrix FOR TRAIN DATA\n",
      "             ========================================\n",
      "            \n",
      "[[16105  4935]\n",
      " [ 9821  8266]]\n",
      "\n",
      "             =============================================\n",
      "               Confusion matrix FOR VALIDATION DATA\n",
      "             =============================================\n",
      "            \n",
      "[[4012 1248]\n",
      " [2473 2049]]\n"
     ]
    },
    {
     "name": "stderr",
     "output_type": "stream",
     "text": [
      "C:\\Users\\nidhi\\AppData\\Local\\Temp\\ipykernel_16048\\1741766506.py:13: FutureWarning: The frame.append method is deprecated and will be removed from pandas in a future version. Use pandas.concat instead.\n",
      "  dataframe = dataframe.append(pd.Series([model_description, train_accuracy,train_recall,train_precision,train_f1score,\n"
     ]
    },
    {
     "data": {
      "text/html": [
       "<div>\n",
       "<style scoped>\n",
       "    .dataframe tbody tr th:only-of-type {\n",
       "        vertical-align: middle;\n",
       "    }\n",
       "\n",
       "    .dataframe tbody tr th {\n",
       "        vertical-align: top;\n",
       "    }\n",
       "\n",
       "    .dataframe thead th {\n",
       "        text-align: right;\n",
       "    }\n",
       "</style>\n",
       "<table border=\"1\" class=\"dataframe\">\n",
       "  <thead>\n",
       "    <tr style=\"text-align: right;\">\n",
       "      <th></th>\n",
       "      <th>Model</th>\n",
       "      <th>Train_Accuracy</th>\n",
       "      <th>Train_Recall</th>\n",
       "      <th>Train_Precision</th>\n",
       "      <th>Train_F1_Score</th>\n",
       "      <th>Test_Accuracy</th>\n",
       "      <th>Test_Recall</th>\n",
       "      <th>Test_Precision</th>\n",
       "      <th>Test_F1_Score</th>\n",
       "    </tr>\n",
       "  </thead>\n",
       "  <tbody>\n",
       "    <tr>\n",
       "      <th>0</th>\n",
       "      <td>LogisticRegression</td>\n",
       "      <td>0.622869</td>\n",
       "      <td>0.457013</td>\n",
       "      <td>0.626165</td>\n",
       "      <td>0.528381</td>\n",
       "      <td>0.619607</td>\n",
       "      <td>0.453118</td>\n",
       "      <td>0.621474</td>\n",
       "      <td>0.524108</td>\n",
       "    </tr>\n",
       "  </tbody>\n",
       "</table>\n",
       "</div>"
      ],
      "text/plain": [
       "                Model  Train_Accuracy  Train_Recall  Train_Precision  \\\n",
       "0  LogisticRegression        0.622869      0.457013         0.626165   \n",
       "\n",
       "   Train_F1_Score  Test_Accuracy  Test_Recall  Test_Precision  Test_F1_Score  \n",
       "0        0.528381       0.619607     0.453118        0.621474       0.524108  "
      ]
     },
     "execution_count": 152,
     "metadata": {},
     "output_type": "execute_result"
    }
   ],
   "source": [
    "scores = get_metrics(y_train,y_pred_train,y_test,y_pred_test,\"LogisticRegression\",scores)\n",
    "scores"
   ]
  },
  {
   "cell_type": "markdown",
   "id": "88273b94",
   "metadata": {},
   "source": [
    "### Logistic Regression with class_weight='balanced'"
   ]
  },
  {
   "cell_type": "code",
   "execution_count": 153,
   "id": "705e0db1",
   "metadata": {},
   "outputs": [],
   "source": [
    "log_mod = LogisticRegression(class_weight='balanced', random_state=123)"
   ]
  },
  {
   "cell_type": "code",
   "execution_count": 154,
   "id": "8da86044",
   "metadata": {},
   "outputs": [
    {
     "data": {
      "text/plain": [
       "LogisticRegression(class_weight='balanced', random_state=123)"
      ]
     },
     "execution_count": 154,
     "metadata": {},
     "output_type": "execute_result"
    }
   ],
   "source": [
    "log_mod.fit(X_train_std, y_train)"
   ]
  },
  {
   "cell_type": "code",
   "execution_count": 155,
   "id": "95606822",
   "metadata": {},
   "outputs": [],
   "source": [
    "y_pred_train = log_mod.predict(X_train_std)\n",
    "y_pred_test = log_mod.predict(X_test_std)"
   ]
  },
  {
   "cell_type": "code",
   "execution_count": 156,
   "id": "c974641c",
   "metadata": {
    "scrolled": true
   },
   "outputs": [
    {
     "name": "stdout",
     "output_type": "stream",
     "text": [
      "\n",
      "         ========================================\n",
      "           CLASSIFICATION REPORT FOR TRAIN DATA\n",
      "         ========================================\n",
      "        \n",
      "              precision    recall  f1-score   support\n",
      "\n",
      "           0     0.6323    0.7057    0.6670     21040\n",
      "           1     0.6042    0.5226    0.5605     18087\n",
      "\n",
      "    accuracy                         0.6211     39127\n",
      "   macro avg     0.6182    0.6141    0.6137     39127\n",
      "weighted avg     0.6193    0.6211    0.6177     39127\n",
      "\n",
      "\n",
      "             =============================================\n",
      "               CLASSIFICATION REPORT FOR VALIDATION DATA\n",
      "             =============================================\n",
      "            \n",
      "              precision    recall  f1-score   support\n",
      "\n",
      "           0     0.6333    0.7086    0.6688      5260\n",
      "           1     0.6066    0.5228    0.5616      4522\n",
      "\n",
      "    accuracy                         0.6227      9782\n",
      "   macro avg     0.6200    0.6157    0.6152      9782\n",
      "weighted avg     0.6210    0.6227    0.6192      9782\n",
      "\n",
      "\n",
      "             ========================================\n",
      "               Confusion Matrix FOR TRAIN DATA\n",
      "             ========================================\n",
      "            \n",
      "[[14847  6193]\n",
      " [ 8634  9453]]\n",
      "\n",
      "             =============================================\n",
      "               Confusion matrix FOR VALIDATION DATA\n",
      "             =============================================\n",
      "            \n",
      "[[3727 1533]\n",
      " [2158 2364]]\n"
     ]
    },
    {
     "name": "stderr",
     "output_type": "stream",
     "text": [
      "C:\\Users\\nidhi\\AppData\\Local\\Temp\\ipykernel_16048\\1741766506.py:13: FutureWarning: The frame.append method is deprecated and will be removed from pandas in a future version. Use pandas.concat instead.\n",
      "  dataframe = dataframe.append(pd.Series([model_description, train_accuracy,train_recall,train_precision,train_f1score,\n"
     ]
    },
    {
     "data": {
      "text/html": [
       "<div>\n",
       "<style scoped>\n",
       "    .dataframe tbody tr th:only-of-type {\n",
       "        vertical-align: middle;\n",
       "    }\n",
       "\n",
       "    .dataframe tbody tr th {\n",
       "        vertical-align: top;\n",
       "    }\n",
       "\n",
       "    .dataframe thead th {\n",
       "        text-align: right;\n",
       "    }\n",
       "</style>\n",
       "<table border=\"1\" class=\"dataframe\">\n",
       "  <thead>\n",
       "    <tr style=\"text-align: right;\">\n",
       "      <th></th>\n",
       "      <th>Model</th>\n",
       "      <th>Train_Accuracy</th>\n",
       "      <th>Train_Recall</th>\n",
       "      <th>Train_Precision</th>\n",
       "      <th>Train_F1_Score</th>\n",
       "      <th>Test_Accuracy</th>\n",
       "      <th>Test_Recall</th>\n",
       "      <th>Test_Precision</th>\n",
       "      <th>Test_F1_Score</th>\n",
       "    </tr>\n",
       "  </thead>\n",
       "  <tbody>\n",
       "    <tr>\n",
       "      <th>0</th>\n",
       "      <td>LogisticRegression</td>\n",
       "      <td>0.622869</td>\n",
       "      <td>0.457013</td>\n",
       "      <td>0.626165</td>\n",
       "      <td>0.528381</td>\n",
       "      <td>0.619607</td>\n",
       "      <td>0.453118</td>\n",
       "      <td>0.621474</td>\n",
       "      <td>0.524108</td>\n",
       "    </tr>\n",
       "    <tr>\n",
       "      <th>1</th>\n",
       "      <td>LogisticRegression_Balanced</td>\n",
       "      <td>0.621055</td>\n",
       "      <td>0.522641</td>\n",
       "      <td>0.604180</td>\n",
       "      <td>0.560460</td>\n",
       "      <td>0.622674</td>\n",
       "      <td>0.522778</td>\n",
       "      <td>0.606620</td>\n",
       "      <td>0.561587</td>\n",
       "    </tr>\n",
       "  </tbody>\n",
       "</table>\n",
       "</div>"
      ],
      "text/plain": [
       "                         Model  Train_Accuracy  Train_Recall  Train_Precision  \\\n",
       "0           LogisticRegression        0.622869      0.457013         0.626165   \n",
       "1  LogisticRegression_Balanced        0.621055      0.522641         0.604180   \n",
       "\n",
       "   Train_F1_Score  Test_Accuracy  Test_Recall  Test_Precision  Test_F1_Score  \n",
       "0        0.528381       0.619607     0.453118        0.621474       0.524108  \n",
       "1        0.560460       0.622674     0.522778        0.606620       0.561587  "
      ]
     },
     "execution_count": 156,
     "metadata": {},
     "output_type": "execute_result"
    }
   ],
   "source": [
    "scores = get_metrics(y_train,y_pred_train,y_test,y_pred_test,\"LogisticRegression_Balanced\",scores)\n",
    "scores"
   ]
  },
  {
   "cell_type": "markdown",
   "id": "0b4f52c0",
   "metadata": {},
   "source": [
    "### Decision tree classifier"
   ]
  },
  {
   "cell_type": "code",
   "execution_count": 157,
   "id": "f103c4c9",
   "metadata": {},
   "outputs": [
    {
     "data": {
      "text/plain": [
       "DecisionTreeClassifier(random_state=123)"
      ]
     },
     "execution_count": 157,
     "metadata": {},
     "output_type": "execute_result"
    }
   ],
   "source": [
    "clf_dt = DecisionTreeClassifier(random_state=123)\n",
    "clf_dt.fit(X_train_std,y_train)"
   ]
  },
  {
   "cell_type": "code",
   "execution_count": 158,
   "id": "f486df74",
   "metadata": {},
   "outputs": [],
   "source": [
    "y_pred_train = clf_dt.predict(X_train_std)\n",
    "y_pred_test = clf_dt.predict(X_test_std)"
   ]
  },
  {
   "cell_type": "code",
   "execution_count": 159,
   "id": "d2792486",
   "metadata": {},
   "outputs": [
    {
     "name": "stdout",
     "output_type": "stream",
     "text": [
      "\n",
      "         ========================================\n",
      "           CLASSIFICATION REPORT FOR TRAIN DATA\n",
      "         ========================================\n",
      "        \n",
      "              precision    recall  f1-score   support\n",
      "\n",
      "           0     1.0000    1.0000    1.0000     21040\n",
      "           1     1.0000    1.0000    1.0000     18087\n",
      "\n",
      "    accuracy                         1.0000     39127\n",
      "   macro avg     1.0000    1.0000    1.0000     39127\n",
      "weighted avg     1.0000    1.0000    1.0000     39127\n",
      "\n",
      "\n",
      "             =============================================\n",
      "               CLASSIFICATION REPORT FOR VALIDATION DATA\n",
      "             =============================================\n",
      "            \n",
      "              precision    recall  f1-score   support\n",
      "\n",
      "           0     0.5810    0.5833    0.5821      5260\n",
      "           1     0.5130    0.5106    0.5118      4522\n",
      "\n",
      "    accuracy                         0.5497      9782\n",
      "   macro avg     0.5470    0.5469    0.5470      9782\n",
      "weighted avg     0.5495    0.5497    0.5496      9782\n",
      "\n",
      "\n",
      "             ========================================\n",
      "               Confusion Matrix FOR TRAIN DATA\n",
      "             ========================================\n",
      "            \n",
      "[[21040     0]\n",
      " [    0 18087]]\n",
      "\n",
      "             =============================================\n",
      "               Confusion matrix FOR VALIDATION DATA\n",
      "             =============================================\n",
      "            \n",
      "[[3068 2192]\n",
      " [2213 2309]]\n"
     ]
    },
    {
     "name": "stderr",
     "output_type": "stream",
     "text": [
      "C:\\Users\\nidhi\\AppData\\Local\\Temp\\ipykernel_16048\\1741766506.py:13: FutureWarning: The frame.append method is deprecated and will be removed from pandas in a future version. Use pandas.concat instead.\n",
      "  dataframe = dataframe.append(pd.Series([model_description, train_accuracy,train_recall,train_precision,train_f1score,\n"
     ]
    },
    {
     "data": {
      "text/html": [
       "<div>\n",
       "<style scoped>\n",
       "    .dataframe tbody tr th:only-of-type {\n",
       "        vertical-align: middle;\n",
       "    }\n",
       "\n",
       "    .dataframe tbody tr th {\n",
       "        vertical-align: top;\n",
       "    }\n",
       "\n",
       "    .dataframe thead th {\n",
       "        text-align: right;\n",
       "    }\n",
       "</style>\n",
       "<table border=\"1\" class=\"dataframe\">\n",
       "  <thead>\n",
       "    <tr style=\"text-align: right;\">\n",
       "      <th></th>\n",
       "      <th>Model</th>\n",
       "      <th>Train_Accuracy</th>\n",
       "      <th>Train_Recall</th>\n",
       "      <th>Train_Precision</th>\n",
       "      <th>Train_F1_Score</th>\n",
       "      <th>Test_Accuracy</th>\n",
       "      <th>Test_Recall</th>\n",
       "      <th>Test_Precision</th>\n",
       "      <th>Test_F1_Score</th>\n",
       "    </tr>\n",
       "  </thead>\n",
       "  <tbody>\n",
       "    <tr>\n",
       "      <th>0</th>\n",
       "      <td>LogisticRegression</td>\n",
       "      <td>0.622869</td>\n",
       "      <td>0.457013</td>\n",
       "      <td>0.626165</td>\n",
       "      <td>0.528381</td>\n",
       "      <td>0.619607</td>\n",
       "      <td>0.453118</td>\n",
       "      <td>0.621474</td>\n",
       "      <td>0.524108</td>\n",
       "    </tr>\n",
       "    <tr>\n",
       "      <th>1</th>\n",
       "      <td>LogisticRegression_Balanced</td>\n",
       "      <td>0.621055</td>\n",
       "      <td>0.522641</td>\n",
       "      <td>0.604180</td>\n",
       "      <td>0.560460</td>\n",
       "      <td>0.622674</td>\n",
       "      <td>0.522778</td>\n",
       "      <td>0.606620</td>\n",
       "      <td>0.561587</td>\n",
       "    </tr>\n",
       "    <tr>\n",
       "      <th>2</th>\n",
       "      <td>DecisionTree</td>\n",
       "      <td>1.000000</td>\n",
       "      <td>1.000000</td>\n",
       "      <td>1.000000</td>\n",
       "      <td>1.000000</td>\n",
       "      <td>0.549683</td>\n",
       "      <td>0.510615</td>\n",
       "      <td>0.512997</td>\n",
       "      <td>0.511803</td>\n",
       "    </tr>\n",
       "  </tbody>\n",
       "</table>\n",
       "</div>"
      ],
      "text/plain": [
       "                         Model  Train_Accuracy  Train_Recall  Train_Precision  \\\n",
       "0           LogisticRegression        0.622869      0.457013         0.626165   \n",
       "1  LogisticRegression_Balanced        0.621055      0.522641         0.604180   \n",
       "2                 DecisionTree        1.000000      1.000000         1.000000   \n",
       "\n",
       "   Train_F1_Score  Test_Accuracy  Test_Recall  Test_Precision  Test_F1_Score  \n",
       "0        0.528381       0.619607     0.453118        0.621474       0.524108  \n",
       "1        0.560460       0.622674     0.522778        0.606620       0.561587  \n",
       "2        1.000000       0.549683     0.510615        0.512997       0.511803  "
      ]
     },
     "execution_count": 159,
     "metadata": {},
     "output_type": "execute_result"
    }
   ],
   "source": [
    "scores = get_metrics(y_train,y_pred_train,y_test,y_pred_test,\"DecisionTree\",scores)\n",
    "scores"
   ]
  },
  {
   "cell_type": "markdown",
   "id": "41aa0c3d",
   "metadata": {},
   "source": [
    "### Decision Tree with Grid-Search CV - Hyper-parameter Tuning"
   ]
  },
  {
   "cell_type": "code",
   "execution_count": 160,
   "id": "ded6381d",
   "metadata": {},
   "outputs": [],
   "source": [
    "# set of parameters to test\n",
    "param_grid = {\"class_weight\":['balanced', None],\n",
    "              \"criterion\": [\"gini\", \"entropy\"],\n",
    "              \"max_depth\": [3, 5, 6],\n",
    "              \"min_samples_leaf\": [2, 5, 10],\n",
    "               \"max_leaf_nodes\": [None, 5, 10, 20]\n",
    "              }"
   ]
  },
  {
   "cell_type": "code",
   "execution_count": 161,
   "id": "37067ca1",
   "metadata": {},
   "outputs": [
    {
     "data": {
      "text/plain": [
       "GridSearchCV(cv=5, estimator=DecisionTreeClassifier(random_state=123),\n",
       "             param_grid={'class_weight': ['balanced', None],\n",
       "                         'criterion': ['gini', 'entropy'],\n",
       "                         'max_depth': [3, 5, 6],\n",
       "                         'max_leaf_nodes': [None, 5, 10, 20],\n",
       "                         'min_samples_leaf': [2, 5, 10]},\n",
       "             scoring='recall')"
      ]
     },
     "execution_count": 161,
     "metadata": {},
     "output_type": "execute_result"
    }
   ],
   "source": [
    "dt = DecisionTreeClassifier(random_state=123)\n",
    "clf_dt_grid = GridSearchCV(dt, param_grid,cv=5,scoring='recall')\n",
    "clf_dt_grid.fit(X_train_std, y_train)"
   ]
  },
  {
   "cell_type": "code",
   "execution_count": 162,
   "id": "f66e1f66",
   "metadata": {},
   "outputs": [
    {
     "data": {
      "text/plain": [
       "{'class_weight': 'balanced',\n",
       " 'criterion': 'entropy',\n",
       " 'max_depth': 5,\n",
       " 'max_leaf_nodes': 10,\n",
       " 'min_samples_leaf': 2}"
      ]
     },
     "execution_count": 162,
     "metadata": {},
     "output_type": "execute_result"
    }
   ],
   "source": [
    "clf_dt_grid.best_params_"
   ]
  },
  {
   "cell_type": "code",
   "execution_count": 163,
   "id": "30df5e3a",
   "metadata": {},
   "outputs": [],
   "source": [
    "y_pred_train = clf_dt_grid.predict(X_train_std)\n",
    "y_pred_test = clf_dt_grid.predict(X_test_std)"
   ]
  },
  {
   "cell_type": "code",
   "execution_count": 164,
   "id": "7fe6eeb8",
   "metadata": {},
   "outputs": [
    {
     "name": "stdout",
     "output_type": "stream",
     "text": [
      "\n",
      "         ========================================\n",
      "           CLASSIFICATION REPORT FOR TRAIN DATA\n",
      "         ========================================\n",
      "        \n",
      "              precision    recall  f1-score   support\n",
      "\n",
      "           0     0.6357    0.6726    0.6537     21040\n",
      "           1     0.5916    0.5517    0.5709     18087\n",
      "\n",
      "    accuracy                         0.6167     39127\n",
      "   macro avg     0.6137    0.6121    0.6123     39127\n",
      "weighted avg     0.6153    0.6167    0.6154     39127\n",
      "\n",
      "\n",
      "             =============================================\n",
      "               CLASSIFICATION REPORT FOR VALIDATION DATA\n",
      "             =============================================\n",
      "            \n",
      "              precision    recall  f1-score   support\n",
      "\n",
      "           0     0.6355    0.6755    0.6549      5260\n",
      "           1     0.5927    0.5493    0.5702      4522\n",
      "\n",
      "    accuracy                         0.6172      9782\n",
      "   macro avg     0.6141    0.6124    0.6125      9782\n",
      "weighted avg     0.6157    0.6172    0.6157      9782\n",
      "\n",
      "\n",
      "             ========================================\n",
      "               Confusion Matrix FOR TRAIN DATA\n",
      "             ========================================\n",
      "            \n",
      "[[14152  6888]\n",
      " [ 8109  9978]]\n",
      "\n",
      "             =============================================\n",
      "               Confusion matrix FOR VALIDATION DATA\n",
      "             =============================================\n",
      "            \n",
      "[[3553 1707]\n",
      " [2038 2484]]\n"
     ]
    },
    {
     "name": "stderr",
     "output_type": "stream",
     "text": [
      "C:\\Users\\nidhi\\AppData\\Local\\Temp\\ipykernel_16048\\1741766506.py:13: FutureWarning: The frame.append method is deprecated and will be removed from pandas in a future version. Use pandas.concat instead.\n",
      "  dataframe = dataframe.append(pd.Series([model_description, train_accuracy,train_recall,train_precision,train_f1score,\n"
     ]
    },
    {
     "data": {
      "text/html": [
       "<div>\n",
       "<style scoped>\n",
       "    .dataframe tbody tr th:only-of-type {\n",
       "        vertical-align: middle;\n",
       "    }\n",
       "\n",
       "    .dataframe tbody tr th {\n",
       "        vertical-align: top;\n",
       "    }\n",
       "\n",
       "    .dataframe thead th {\n",
       "        text-align: right;\n",
       "    }\n",
       "</style>\n",
       "<table border=\"1\" class=\"dataframe\">\n",
       "  <thead>\n",
       "    <tr style=\"text-align: right;\">\n",
       "      <th></th>\n",
       "      <th>Model</th>\n",
       "      <th>Train_Accuracy</th>\n",
       "      <th>Train_Recall</th>\n",
       "      <th>Train_Precision</th>\n",
       "      <th>Train_F1_Score</th>\n",
       "      <th>Test_Accuracy</th>\n",
       "      <th>Test_Recall</th>\n",
       "      <th>Test_Precision</th>\n",
       "      <th>Test_F1_Score</th>\n",
       "    </tr>\n",
       "  </thead>\n",
       "  <tbody>\n",
       "    <tr>\n",
       "      <th>0</th>\n",
       "      <td>LogisticRegression</td>\n",
       "      <td>0.622869</td>\n",
       "      <td>0.457013</td>\n",
       "      <td>0.626165</td>\n",
       "      <td>0.528381</td>\n",
       "      <td>0.619607</td>\n",
       "      <td>0.453118</td>\n",
       "      <td>0.621474</td>\n",
       "      <td>0.524108</td>\n",
       "    </tr>\n",
       "    <tr>\n",
       "      <th>1</th>\n",
       "      <td>LogisticRegression_Balanced</td>\n",
       "      <td>0.621055</td>\n",
       "      <td>0.522641</td>\n",
       "      <td>0.604180</td>\n",
       "      <td>0.560460</td>\n",
       "      <td>0.622674</td>\n",
       "      <td>0.522778</td>\n",
       "      <td>0.606620</td>\n",
       "      <td>0.561587</td>\n",
       "    </tr>\n",
       "    <tr>\n",
       "      <th>2</th>\n",
       "      <td>DecisionTree</td>\n",
       "      <td>1.000000</td>\n",
       "      <td>1.000000</td>\n",
       "      <td>1.000000</td>\n",
       "      <td>1.000000</td>\n",
       "      <td>0.549683</td>\n",
       "      <td>0.510615</td>\n",
       "      <td>0.512997</td>\n",
       "      <td>0.511803</td>\n",
       "    </tr>\n",
       "    <tr>\n",
       "      <th>3</th>\n",
       "      <td>DecisionTree_BestParameters</td>\n",
       "      <td>0.616710</td>\n",
       "      <td>0.551667</td>\n",
       "      <td>0.591604</td>\n",
       "      <td>0.570938</td>\n",
       "      <td>0.617154</td>\n",
       "      <td>0.549314</td>\n",
       "      <td>0.592699</td>\n",
       "      <td>0.570182</td>\n",
       "    </tr>\n",
       "  </tbody>\n",
       "</table>\n",
       "</div>"
      ],
      "text/plain": [
       "                         Model  Train_Accuracy  Train_Recall  Train_Precision  \\\n",
       "0           LogisticRegression        0.622869      0.457013         0.626165   \n",
       "1  LogisticRegression_Balanced        0.621055      0.522641         0.604180   \n",
       "2                 DecisionTree        1.000000      1.000000         1.000000   \n",
       "3  DecisionTree_BestParameters        0.616710      0.551667         0.591604   \n",
       "\n",
       "   Train_F1_Score  Test_Accuracy  Test_Recall  Test_Precision  Test_F1_Score  \n",
       "0        0.528381       0.619607     0.453118        0.621474       0.524108  \n",
       "1        0.560460       0.622674     0.522778        0.606620       0.561587  \n",
       "2        1.000000       0.549683     0.510615        0.512997       0.511803  \n",
       "3        0.570938       0.617154     0.549314        0.592699       0.570182  "
      ]
     },
     "execution_count": 164,
     "metadata": {},
     "output_type": "execute_result"
    }
   ],
   "source": [
    "scores = get_metrics(y_train,y_pred_train,y_test,y_pred_test,\"DecisionTree_BestParameters\",scores)\n",
    "scores"
   ]
  },
  {
   "cell_type": "markdown",
   "id": "4501f76f",
   "metadata": {},
   "source": [
    "### Decision Tree with RandomizedSearchCV - Hyper-parameter Tuning"
   ]
  },
  {
   "cell_type": "code",
   "execution_count": 165,
   "id": "1a1c3d77",
   "metadata": {},
   "outputs": [],
   "source": [
    "from sklearn.model_selection import RandomizedSearchCV\n",
    "from scipy.stats import uniform, truncnorm, randint\n",
    "\n",
    "clf3_dt = DecisionTreeClassifier(random_state=123, class_weight='balanced') "
   ]
  },
  {
   "cell_type": "code",
   "execution_count": 166,
   "id": "19b6b539",
   "metadata": {},
   "outputs": [
    {
     "name": "stdout",
     "output_type": "stream",
     "text": [
      "[5 4 4 6 4]\n",
      "[4 4 4 3]\n",
      "[3 3 3 2 5]\n"
     ]
    }
   ],
   "source": [
    "max_leaf_nodes = np.random.normal(loc=5, scale=1, size=5).astype(int)\n",
    "max_leaf_nodes[max_leaf_nodes <1] = 1\n",
    "print(max_leaf_nodes)\n",
    "max_depth = np.random.uniform(2,5,4).astype(int)\n",
    "print(max_depth)\n",
    "min_samples_split = np.random.uniform(2, 6, 5).astype(int)\n",
    "print(min_samples_split)"
   ]
  },
  {
   "cell_type": "code",
   "execution_count": 167,
   "id": "eae99801",
   "metadata": {},
   "outputs": [],
   "source": [
    "## Set Up Hyperparameter Distributions\n",
    "\n",
    "# normally distributed max_leaf_nodes, with mean 5 stddev 1\n",
    "max_leaf_nodes = np.random.normal(loc=5, scale=1, size=5).astype(int)\n",
    "\n",
    "# uniform distribution from 2 to 5 \n",
    "max_depth = np.random.uniform(2,5,4).astype(int)\n",
    "\n",
    "# uniform distribution from 2 to 6\n",
    "min_samples_split = np.random.uniform(2, 6, 5).astype(int)\n",
    "\n",
    "model_params = {\n",
    "    'max_depth': list(max_depth),\n",
    "    'max_leaf_nodes': list(max_leaf_nodes),\n",
    "    'min_samples_split': list(min_samples_split)\n",
    "}"
   ]
  },
  {
   "cell_type": "code",
   "execution_count": 168,
   "id": "e2697a2d",
   "metadata": {},
   "outputs": [
    {
     "name": "stderr",
     "output_type": "stream",
     "text": [
      "C:\\Users\\nidhi\\anaconda3\\lib\\site-packages\\sklearn\\model_selection\\_search.py:292: UserWarning: The total space of parameters 100 is smaller than n_iter=600. Running 100 iterations. For exhaustive searches, use GridSearchCV.\n",
      "  warnings.warn(\n"
     ]
    },
    {
     "data": {
      "text/plain": [
       "RandomizedSearchCV(cv=5,\n",
       "                   estimator=DecisionTreeClassifier(class_weight='balanced',\n",
       "                                                    random_state=123),\n",
       "                   n_iter=600, n_jobs=-1,\n",
       "                   param_distributions={'max_depth': [2, 3, 3, 3],\n",
       "                                        'max_leaf_nodes': [4, 4, 4, 5, 5],\n",
       "                                        'min_samples_split': [3, 5, 2, 4, 3]},\n",
       "                   scoring='recall')"
      ]
     },
     "execution_count": 168,
     "metadata": {},
     "output_type": "execute_result"
    }
   ],
   "source": [
    "clf_random = RandomizedSearchCV(estimator=clf3_dt, param_distributions=model_params, n_iter=600, cv=5, scoring='recall', n_jobs=-1)\n",
    "clf_random.fit(X_train_std, y_train)"
   ]
  },
  {
   "cell_type": "code",
   "execution_count": 169,
   "id": "c3d825a1",
   "metadata": {},
   "outputs": [
    {
     "name": "stdout",
     "output_type": "stream",
     "text": [
      "0.517387809821962 {'min_samples_split': 3, 'max_leaf_nodes': 5, 'max_depth': 3}\n"
     ]
    }
   ],
   "source": [
    "print(clf_random.best_score_, clf_random.best_params_)"
   ]
  },
  {
   "cell_type": "code",
   "execution_count": 170,
   "id": "0bdf8d5a",
   "metadata": {},
   "outputs": [
    {
     "name": "stdout",
     "output_type": "stream",
     "text": [
      "DecisionTreeClassifier(class_weight='balanced', max_depth=3, max_leaf_nodes=5,\n",
      "                       min_samples_split=3, random_state=123)\n"
     ]
    }
   ],
   "source": [
    "clf_dt_random = clf_random.best_estimator_\n",
    "print(clf_dt_random)"
   ]
  },
  {
   "cell_type": "code",
   "execution_count": 171,
   "id": "e1c9e7c2",
   "metadata": {},
   "outputs": [],
   "source": [
    "y_pred_train = clf_dt_random.predict(X_train_std)\n",
    "y_pred_test = clf_dt_random.predict(X_test_std)"
   ]
  },
  {
   "cell_type": "code",
   "execution_count": 172,
   "id": "27a887e0",
   "metadata": {},
   "outputs": [
    {
     "name": "stdout",
     "output_type": "stream",
     "text": [
      "\n",
      "         ========================================\n",
      "           CLASSIFICATION REPORT FOR TRAIN DATA\n",
      "         ========================================\n",
      "        \n",
      "              precision    recall  f1-score   support\n",
      "\n",
      "           0     0.6297    0.6924    0.6596     21040\n",
      "           1     0.5953    0.5265    0.5588     18087\n",
      "\n",
      "    accuracy                         0.6157     39127\n",
      "   macro avg     0.6125    0.6094    0.6092     39127\n",
      "weighted avg     0.6138    0.6157    0.6130     39127\n",
      "\n",
      "\n",
      "             =============================================\n",
      "               CLASSIFICATION REPORT FOR VALIDATION DATA\n",
      "             =============================================\n",
      "            \n",
      "              precision    recall  f1-score   support\n",
      "\n",
      "           0     0.6270    0.6930    0.6584      5260\n",
      "           1     0.5931    0.5206    0.5545      4522\n",
      "\n",
      "    accuracy                         0.6133      9782\n",
      "   macro avg     0.6101    0.6068    0.6064      9782\n",
      "weighted avg     0.6114    0.6133    0.6103      9782\n",
      "\n",
      "\n",
      "             ========================================\n",
      "               Confusion Matrix FOR TRAIN DATA\n",
      "             ========================================\n",
      "            \n",
      "[[14568  6472]\n",
      " [ 8565  9522]]\n",
      "\n",
      "             =============================================\n",
      "               Confusion matrix FOR VALIDATION DATA\n",
      "             =============================================\n",
      "            \n",
      "[[3645 1615]\n",
      " [2168 2354]]\n"
     ]
    },
    {
     "name": "stderr",
     "output_type": "stream",
     "text": [
      "C:\\Users\\nidhi\\AppData\\Local\\Temp\\ipykernel_16048\\1741766506.py:13: FutureWarning: The frame.append method is deprecated and will be removed from pandas in a future version. Use pandas.concat instead.\n",
      "  dataframe = dataframe.append(pd.Series([model_description, train_accuracy,train_recall,train_precision,train_f1score,\n"
     ]
    },
    {
     "data": {
      "text/html": [
       "<div>\n",
       "<style scoped>\n",
       "    .dataframe tbody tr th:only-of-type {\n",
       "        vertical-align: middle;\n",
       "    }\n",
       "\n",
       "    .dataframe tbody tr th {\n",
       "        vertical-align: top;\n",
       "    }\n",
       "\n",
       "    .dataframe thead th {\n",
       "        text-align: right;\n",
       "    }\n",
       "</style>\n",
       "<table border=\"1\" class=\"dataframe\">\n",
       "  <thead>\n",
       "    <tr style=\"text-align: right;\">\n",
       "      <th></th>\n",
       "      <th>Model</th>\n",
       "      <th>Train_Accuracy</th>\n",
       "      <th>Train_Recall</th>\n",
       "      <th>Train_Precision</th>\n",
       "      <th>Train_F1_Score</th>\n",
       "      <th>Test_Accuracy</th>\n",
       "      <th>Test_Recall</th>\n",
       "      <th>Test_Precision</th>\n",
       "      <th>Test_F1_Score</th>\n",
       "    </tr>\n",
       "  </thead>\n",
       "  <tbody>\n",
       "    <tr>\n",
       "      <th>0</th>\n",
       "      <td>LogisticRegression</td>\n",
       "      <td>0.622869</td>\n",
       "      <td>0.457013</td>\n",
       "      <td>0.626165</td>\n",
       "      <td>0.528381</td>\n",
       "      <td>0.619607</td>\n",
       "      <td>0.453118</td>\n",
       "      <td>0.621474</td>\n",
       "      <td>0.524108</td>\n",
       "    </tr>\n",
       "    <tr>\n",
       "      <th>1</th>\n",
       "      <td>LogisticRegression_Balanced</td>\n",
       "      <td>0.621055</td>\n",
       "      <td>0.522641</td>\n",
       "      <td>0.604180</td>\n",
       "      <td>0.560460</td>\n",
       "      <td>0.622674</td>\n",
       "      <td>0.522778</td>\n",
       "      <td>0.606620</td>\n",
       "      <td>0.561587</td>\n",
       "    </tr>\n",
       "    <tr>\n",
       "      <th>2</th>\n",
       "      <td>DecisionTree</td>\n",
       "      <td>1.000000</td>\n",
       "      <td>1.000000</td>\n",
       "      <td>1.000000</td>\n",
       "      <td>1.000000</td>\n",
       "      <td>0.549683</td>\n",
       "      <td>0.510615</td>\n",
       "      <td>0.512997</td>\n",
       "      <td>0.511803</td>\n",
       "    </tr>\n",
       "    <tr>\n",
       "      <th>3</th>\n",
       "      <td>DecisionTree_BestParameters</td>\n",
       "      <td>0.616710</td>\n",
       "      <td>0.551667</td>\n",
       "      <td>0.591604</td>\n",
       "      <td>0.570938</td>\n",
       "      <td>0.617154</td>\n",
       "      <td>0.549314</td>\n",
       "      <td>0.592699</td>\n",
       "      <td>0.570182</td>\n",
       "    </tr>\n",
       "    <tr>\n",
       "      <th>4</th>\n",
       "      <td>DecisionTree_RandomizedSearch</td>\n",
       "      <td>0.615687</td>\n",
       "      <td>0.526455</td>\n",
       "      <td>0.595348</td>\n",
       "      <td>0.558786</td>\n",
       "      <td>0.613269</td>\n",
       "      <td>0.520566</td>\n",
       "      <td>0.593096</td>\n",
       "      <td>0.554469</td>\n",
       "    </tr>\n",
       "  </tbody>\n",
       "</table>\n",
       "</div>"
      ],
      "text/plain": [
       "                           Model  Train_Accuracy  Train_Recall  \\\n",
       "0             LogisticRegression        0.622869      0.457013   \n",
       "1    LogisticRegression_Balanced        0.621055      0.522641   \n",
       "2                   DecisionTree        1.000000      1.000000   \n",
       "3    DecisionTree_BestParameters        0.616710      0.551667   \n",
       "4  DecisionTree_RandomizedSearch        0.615687      0.526455   \n",
       "\n",
       "   Train_Precision  Train_F1_Score  Test_Accuracy  Test_Recall  \\\n",
       "0         0.626165        0.528381       0.619607     0.453118   \n",
       "1         0.604180        0.560460       0.622674     0.522778   \n",
       "2         1.000000        1.000000       0.549683     0.510615   \n",
       "3         0.591604        0.570938       0.617154     0.549314   \n",
       "4         0.595348        0.558786       0.613269     0.520566   \n",
       "\n",
       "   Test_Precision  Test_F1_Score  \n",
       "0        0.621474       0.524108  \n",
       "1        0.606620       0.561587  \n",
       "2        0.512997       0.511803  \n",
       "3        0.592699       0.570182  \n",
       "4        0.593096       0.554469  "
      ]
     },
     "execution_count": 172,
     "metadata": {},
     "output_type": "execute_result"
    }
   ],
   "source": [
    "scores = get_metrics(y_train,y_pred_train,y_test,y_pred_test,\"DecisionTree_RandomizedSearch\",scores)\n",
    "scores"
   ]
  },
  {
   "cell_type": "markdown",
   "id": "a936a177",
   "metadata": {},
   "source": [
    "# Random forest"
   ]
  },
  {
   "cell_type": "code",
   "execution_count": 173,
   "id": "61a76c11",
   "metadata": {},
   "outputs": [
    {
     "data": {
      "text/plain": [
       "RandomForestClassifier()"
      ]
     },
     "execution_count": 173,
     "metadata": {},
     "output_type": "execute_result"
    }
   ],
   "source": [
    "classifier_rf = RandomForestClassifier()\n",
    "classifier_rf.fit(X_train_std,y_train)"
   ]
  },
  {
   "cell_type": "code",
   "execution_count": 174,
   "id": "0f47e00f",
   "metadata": {},
   "outputs": [],
   "source": [
    "y_pred_train = classifier_rf.predict(X_train_std)\n",
    "y_pred_test = classifier_rf.predict(X_test_std)"
   ]
  },
  {
   "cell_type": "code",
   "execution_count": 175,
   "id": "a4bd2bf9",
   "metadata": {},
   "outputs": [
    {
     "name": "stdout",
     "output_type": "stream",
     "text": [
      "\n",
      "         ========================================\n",
      "           CLASSIFICATION REPORT FOR TRAIN DATA\n",
      "         ========================================\n",
      "        \n",
      "              precision    recall  f1-score   support\n",
      "\n",
      "           0     1.0000    1.0000    1.0000     21040\n",
      "           1     1.0000    1.0000    1.0000     18087\n",
      "\n",
      "    accuracy                         1.0000     39127\n",
      "   macro avg     1.0000    1.0000    1.0000     39127\n",
      "weighted avg     1.0000    1.0000    1.0000     39127\n",
      "\n",
      "\n",
      "             =============================================\n",
      "               CLASSIFICATION REPORT FOR VALIDATION DATA\n",
      "             =============================================\n",
      "            \n",
      "              precision    recall  f1-score   support\n",
      "\n",
      "           0     0.6222    0.7211    0.6680      5260\n",
      "           1     0.6020    0.4907    0.5407      4522\n",
      "\n",
      "    accuracy                         0.6146      9782\n",
      "   macro avg     0.6121    0.6059    0.6044      9782\n",
      "weighted avg     0.6129    0.6146    0.6092      9782\n",
      "\n",
      "\n",
      "             ========================================\n",
      "               Confusion Matrix FOR TRAIN DATA\n",
      "             ========================================\n",
      "            \n",
      "[[21040     0]\n",
      " [    0 18087]]\n",
      "\n",
      "             =============================================\n",
      "               Confusion matrix FOR VALIDATION DATA\n",
      "             =============================================\n",
      "            \n",
      "[[3793 1467]\n",
      " [2303 2219]]\n"
     ]
    },
    {
     "name": "stderr",
     "output_type": "stream",
     "text": [
      "C:\\Users\\nidhi\\AppData\\Local\\Temp\\ipykernel_16048\\1741766506.py:13: FutureWarning: The frame.append method is deprecated and will be removed from pandas in a future version. Use pandas.concat instead.\n",
      "  dataframe = dataframe.append(pd.Series([model_description, train_accuracy,train_recall,train_precision,train_f1score,\n"
     ]
    },
    {
     "data": {
      "text/html": [
       "<div>\n",
       "<style scoped>\n",
       "    .dataframe tbody tr th:only-of-type {\n",
       "        vertical-align: middle;\n",
       "    }\n",
       "\n",
       "    .dataframe tbody tr th {\n",
       "        vertical-align: top;\n",
       "    }\n",
       "\n",
       "    .dataframe thead th {\n",
       "        text-align: right;\n",
       "    }\n",
       "</style>\n",
       "<table border=\"1\" class=\"dataframe\">\n",
       "  <thead>\n",
       "    <tr style=\"text-align: right;\">\n",
       "      <th></th>\n",
       "      <th>Model</th>\n",
       "      <th>Train_Accuracy</th>\n",
       "      <th>Train_Recall</th>\n",
       "      <th>Train_Precision</th>\n",
       "      <th>Train_F1_Score</th>\n",
       "      <th>Test_Accuracy</th>\n",
       "      <th>Test_Recall</th>\n",
       "      <th>Test_Precision</th>\n",
       "      <th>Test_F1_Score</th>\n",
       "    </tr>\n",
       "  </thead>\n",
       "  <tbody>\n",
       "    <tr>\n",
       "      <th>0</th>\n",
       "      <td>LogisticRegression</td>\n",
       "      <td>0.622869</td>\n",
       "      <td>0.457013</td>\n",
       "      <td>0.626165</td>\n",
       "      <td>0.528381</td>\n",
       "      <td>0.619607</td>\n",
       "      <td>0.453118</td>\n",
       "      <td>0.621474</td>\n",
       "      <td>0.524108</td>\n",
       "    </tr>\n",
       "    <tr>\n",
       "      <th>1</th>\n",
       "      <td>LogisticRegression_Balanced</td>\n",
       "      <td>0.621055</td>\n",
       "      <td>0.522641</td>\n",
       "      <td>0.604180</td>\n",
       "      <td>0.560460</td>\n",
       "      <td>0.622674</td>\n",
       "      <td>0.522778</td>\n",
       "      <td>0.606620</td>\n",
       "      <td>0.561587</td>\n",
       "    </tr>\n",
       "    <tr>\n",
       "      <th>2</th>\n",
       "      <td>DecisionTree</td>\n",
       "      <td>1.000000</td>\n",
       "      <td>1.000000</td>\n",
       "      <td>1.000000</td>\n",
       "      <td>1.000000</td>\n",
       "      <td>0.549683</td>\n",
       "      <td>0.510615</td>\n",
       "      <td>0.512997</td>\n",
       "      <td>0.511803</td>\n",
       "    </tr>\n",
       "    <tr>\n",
       "      <th>3</th>\n",
       "      <td>DecisionTree_BestParameters</td>\n",
       "      <td>0.616710</td>\n",
       "      <td>0.551667</td>\n",
       "      <td>0.591604</td>\n",
       "      <td>0.570938</td>\n",
       "      <td>0.617154</td>\n",
       "      <td>0.549314</td>\n",
       "      <td>0.592699</td>\n",
       "      <td>0.570182</td>\n",
       "    </tr>\n",
       "    <tr>\n",
       "      <th>4</th>\n",
       "      <td>DecisionTree_RandomizedSearch</td>\n",
       "      <td>0.615687</td>\n",
       "      <td>0.526455</td>\n",
       "      <td>0.595348</td>\n",
       "      <td>0.558786</td>\n",
       "      <td>0.613269</td>\n",
       "      <td>0.520566</td>\n",
       "      <td>0.593096</td>\n",
       "      <td>0.554469</td>\n",
       "    </tr>\n",
       "    <tr>\n",
       "      <th>5</th>\n",
       "      <td>RandomForest</td>\n",
       "      <td>1.000000</td>\n",
       "      <td>1.000000</td>\n",
       "      <td>1.000000</td>\n",
       "      <td>1.000000</td>\n",
       "      <td>0.614598</td>\n",
       "      <td>0.490712</td>\n",
       "      <td>0.602008</td>\n",
       "      <td>0.540692</td>\n",
       "    </tr>\n",
       "  </tbody>\n",
       "</table>\n",
       "</div>"
      ],
      "text/plain": [
       "                           Model  Train_Accuracy  Train_Recall  \\\n",
       "0             LogisticRegression        0.622869      0.457013   \n",
       "1    LogisticRegression_Balanced        0.621055      0.522641   \n",
       "2                   DecisionTree        1.000000      1.000000   \n",
       "3    DecisionTree_BestParameters        0.616710      0.551667   \n",
       "4  DecisionTree_RandomizedSearch        0.615687      0.526455   \n",
       "5                   RandomForest        1.000000      1.000000   \n",
       "\n",
       "   Train_Precision  Train_F1_Score  Test_Accuracy  Test_Recall  \\\n",
       "0         0.626165        0.528381       0.619607     0.453118   \n",
       "1         0.604180        0.560460       0.622674     0.522778   \n",
       "2         1.000000        1.000000       0.549683     0.510615   \n",
       "3         0.591604        0.570938       0.617154     0.549314   \n",
       "4         0.595348        0.558786       0.613269     0.520566   \n",
       "5         1.000000        1.000000       0.614598     0.490712   \n",
       "\n",
       "   Test_Precision  Test_F1_Score  \n",
       "0        0.621474       0.524108  \n",
       "1        0.606620       0.561587  \n",
       "2        0.512997       0.511803  \n",
       "3        0.592699       0.570182  \n",
       "4        0.593096       0.554469  \n",
       "5        0.602008       0.540692  "
      ]
     },
     "execution_count": 175,
     "metadata": {},
     "output_type": "execute_result"
    }
   ],
   "source": [
    "scores = get_metrics(y_train,y_pred_train,y_test,y_pred_test,\"RandomForest\",scores)\n",
    "scores"
   ]
  },
  {
   "cell_type": "markdown",
   "id": "d726f056",
   "metadata": {},
   "source": [
    "### Random forest with Grid-Search CV - Hyper-parameter Tuning¶"
   ]
  },
  {
   "cell_type": "code",
   "execution_count": 176,
   "id": "c624018c",
   "metadata": {},
   "outputs": [],
   "source": [
    "param_grid = {\"n_estimators\" : [50,60,150],\n",
    "              \"criterion\": [\"gini\", \"entropy\"],\n",
    "              \"min_samples_split\": [2, 5],\n",
    "              \"max_depth\": [None, 15],\n",
    "              \"min_samples_leaf\": [1, 5],\n",
    "              \"ccp_alpha\":[0.0001,0.001,0.01,0.1]\n",
    "             }"
   ]
  },
  {
   "cell_type": "code",
   "execution_count": 177,
   "id": "ce64e66d",
   "metadata": {},
   "outputs": [],
   "source": [
    "rfclf2 = RandomForestClassifier()"
   ]
  },
  {
   "cell_type": "code",
   "execution_count": 178,
   "id": "b41bf9cd",
   "metadata": {},
   "outputs": [],
   "source": [
    "rfclf_grid = GridSearchCV(rfclf2, param_grid=param_grid, cv=3, scoring=\"recall\")"
   ]
  },
  {
   "cell_type": "code",
   "execution_count": 179,
   "id": "042b9b17",
   "metadata": {},
   "outputs": [
    {
     "data": {
      "text/plain": [
       "GridSearchCV(cv=3, estimator=RandomForestClassifier(),\n",
       "             param_grid={'ccp_alpha': [0.0001, 0.001, 0.01, 0.1],\n",
       "                         'criterion': ['gini', 'entropy'],\n",
       "                         'max_depth': [None, 15], 'min_samples_leaf': [1, 5],\n",
       "                         'min_samples_split': [2, 5],\n",
       "                         'n_estimators': [50, 60, 150]})"
      ]
     },
     "execution_count": 179,
     "metadata": {},
     "output_type": "execute_result"
    }
   ],
   "source": [
    "rfclf_grid.fit(X_train_std, y_train)"
   ]
  },
  {
   "cell_type": "code",
   "execution_count": 180,
   "id": "aaa3d985",
   "metadata": {},
   "outputs": [
    {
     "data": {
      "text/plain": [
       "{'ccp_alpha': 0.0001,\n",
       " 'criterion': 'entropy',\n",
       " 'max_depth': 15,\n",
       " 'min_samples_leaf': 5,\n",
       " 'min_samples_split': 2,\n",
       " 'n_estimators': 150}"
      ]
     },
     "execution_count": 180,
     "metadata": {},
     "output_type": "execute_result"
    }
   ],
   "source": [
    "rfclf_grid.best_params_"
   ]
  },
  {
   "cell_type": "code",
   "execution_count": 181,
   "id": "b46d3291",
   "metadata": {},
   "outputs": [],
   "source": [
    "y_pred_train = rfclf_grid.predict(X_train_std)\n",
    "y_pred_test = rfclf_grid.predict(X_test_std)"
   ]
  },
  {
   "cell_type": "code",
   "execution_count": 182,
   "id": "9255deed",
   "metadata": {},
   "outputs": [
    {
     "name": "stdout",
     "output_type": "stream",
     "text": [
      "\n",
      "         ========================================\n",
      "           CLASSIFICATION REPORT FOR TRAIN DATA\n",
      "         ========================================\n",
      "        \n",
      "              precision    recall  f1-score   support\n",
      "\n",
      "           0     0.6887    0.8401    0.7569     21040\n",
      "           1     0.7500    0.5582    0.6401     18087\n",
      "\n",
      "    accuracy                         0.7098     39127\n",
      "   macro avg     0.7194    0.6992    0.6985     39127\n",
      "weighted avg     0.7170    0.7098    0.7029     39127\n",
      "\n",
      "\n",
      "             =============================================\n",
      "               CLASSIFICATION REPORT FOR VALIDATION DATA\n",
      "             =============================================\n",
      "            \n",
      "              precision    recall  f1-score   support\n",
      "\n",
      "           0     0.6283    0.7629    0.6891      5260\n",
      "           1     0.6327    0.4750    0.5426      4522\n",
      "\n",
      "    accuracy                         0.6298      9782\n",
      "   macro avg     0.6305    0.6190    0.6159      9782\n",
      "weighted avg     0.6303    0.6298    0.6214      9782\n",
      "\n",
      "\n",
      "             ========================================\n",
      "               Confusion Matrix FOR TRAIN DATA\n",
      "             ========================================\n",
      "            \n",
      "[[17675  3365]\n",
      " [ 7990 10097]]\n",
      "\n",
      "             =============================================\n",
      "               Confusion matrix FOR VALIDATION DATA\n",
      "             =============================================\n",
      "            \n",
      "[[4013 1247]\n",
      " [2374 2148]]\n"
     ]
    },
    {
     "name": "stderr",
     "output_type": "stream",
     "text": [
      "C:\\Users\\nidhi\\AppData\\Local\\Temp\\ipykernel_16048\\1741766506.py:13: FutureWarning: The frame.append method is deprecated and will be removed from pandas in a future version. Use pandas.concat instead.\n",
      "  dataframe = dataframe.append(pd.Series([model_description, train_accuracy,train_recall,train_precision,train_f1score,\n"
     ]
    },
    {
     "data": {
      "text/html": [
       "<div>\n",
       "<style scoped>\n",
       "    .dataframe tbody tr th:only-of-type {\n",
       "        vertical-align: middle;\n",
       "    }\n",
       "\n",
       "    .dataframe tbody tr th {\n",
       "        vertical-align: top;\n",
       "    }\n",
       "\n",
       "    .dataframe thead th {\n",
       "        text-align: right;\n",
       "    }\n",
       "</style>\n",
       "<table border=\"1\" class=\"dataframe\">\n",
       "  <thead>\n",
       "    <tr style=\"text-align: right;\">\n",
       "      <th></th>\n",
       "      <th>Model</th>\n",
       "      <th>Train_Accuracy</th>\n",
       "      <th>Train_Recall</th>\n",
       "      <th>Train_Precision</th>\n",
       "      <th>Train_F1_Score</th>\n",
       "      <th>Test_Accuracy</th>\n",
       "      <th>Test_Recall</th>\n",
       "      <th>Test_Precision</th>\n",
       "      <th>Test_F1_Score</th>\n",
       "    </tr>\n",
       "  </thead>\n",
       "  <tbody>\n",
       "    <tr>\n",
       "      <th>0</th>\n",
       "      <td>LogisticRegression</td>\n",
       "      <td>0.622869</td>\n",
       "      <td>0.457013</td>\n",
       "      <td>0.626165</td>\n",
       "      <td>0.528381</td>\n",
       "      <td>0.619607</td>\n",
       "      <td>0.453118</td>\n",
       "      <td>0.621474</td>\n",
       "      <td>0.524108</td>\n",
       "    </tr>\n",
       "    <tr>\n",
       "      <th>1</th>\n",
       "      <td>LogisticRegression_Balanced</td>\n",
       "      <td>0.621055</td>\n",
       "      <td>0.522641</td>\n",
       "      <td>0.604180</td>\n",
       "      <td>0.560460</td>\n",
       "      <td>0.622674</td>\n",
       "      <td>0.522778</td>\n",
       "      <td>0.606620</td>\n",
       "      <td>0.561587</td>\n",
       "    </tr>\n",
       "    <tr>\n",
       "      <th>2</th>\n",
       "      <td>DecisionTree</td>\n",
       "      <td>1.000000</td>\n",
       "      <td>1.000000</td>\n",
       "      <td>1.000000</td>\n",
       "      <td>1.000000</td>\n",
       "      <td>0.549683</td>\n",
       "      <td>0.510615</td>\n",
       "      <td>0.512997</td>\n",
       "      <td>0.511803</td>\n",
       "    </tr>\n",
       "    <tr>\n",
       "      <th>3</th>\n",
       "      <td>DecisionTree_BestParameters</td>\n",
       "      <td>0.616710</td>\n",
       "      <td>0.551667</td>\n",
       "      <td>0.591604</td>\n",
       "      <td>0.570938</td>\n",
       "      <td>0.617154</td>\n",
       "      <td>0.549314</td>\n",
       "      <td>0.592699</td>\n",
       "      <td>0.570182</td>\n",
       "    </tr>\n",
       "    <tr>\n",
       "      <th>4</th>\n",
       "      <td>DecisionTree_RandomizedSearch</td>\n",
       "      <td>0.615687</td>\n",
       "      <td>0.526455</td>\n",
       "      <td>0.595348</td>\n",
       "      <td>0.558786</td>\n",
       "      <td>0.613269</td>\n",
       "      <td>0.520566</td>\n",
       "      <td>0.593096</td>\n",
       "      <td>0.554469</td>\n",
       "    </tr>\n",
       "    <tr>\n",
       "      <th>5</th>\n",
       "      <td>RandomForest</td>\n",
       "      <td>1.000000</td>\n",
       "      <td>1.000000</td>\n",
       "      <td>1.000000</td>\n",
       "      <td>1.000000</td>\n",
       "      <td>0.614598</td>\n",
       "      <td>0.490712</td>\n",
       "      <td>0.602008</td>\n",
       "      <td>0.540692</td>\n",
       "    </tr>\n",
       "    <tr>\n",
       "      <th>6</th>\n",
       "      <td>RandomForest_BestParameters</td>\n",
       "      <td>0.709791</td>\n",
       "      <td>0.558246</td>\n",
       "      <td>0.750037</td>\n",
       "      <td>0.640084</td>\n",
       "      <td>0.629830</td>\n",
       "      <td>0.475011</td>\n",
       "      <td>0.632695</td>\n",
       "      <td>0.542630</td>\n",
       "    </tr>\n",
       "  </tbody>\n",
       "</table>\n",
       "</div>"
      ],
      "text/plain": [
       "                           Model  Train_Accuracy  Train_Recall  \\\n",
       "0             LogisticRegression        0.622869      0.457013   \n",
       "1    LogisticRegression_Balanced        0.621055      0.522641   \n",
       "2                   DecisionTree        1.000000      1.000000   \n",
       "3    DecisionTree_BestParameters        0.616710      0.551667   \n",
       "4  DecisionTree_RandomizedSearch        0.615687      0.526455   \n",
       "5                   RandomForest        1.000000      1.000000   \n",
       "6    RandomForest_BestParameters        0.709791      0.558246   \n",
       "\n",
       "   Train_Precision  Train_F1_Score  Test_Accuracy  Test_Recall  \\\n",
       "0         0.626165        0.528381       0.619607     0.453118   \n",
       "1         0.604180        0.560460       0.622674     0.522778   \n",
       "2         1.000000        1.000000       0.549683     0.510615   \n",
       "3         0.591604        0.570938       0.617154     0.549314   \n",
       "4         0.595348        0.558786       0.613269     0.520566   \n",
       "5         1.000000        1.000000       0.614598     0.490712   \n",
       "6         0.750037        0.640084       0.629830     0.475011   \n",
       "\n",
       "   Test_Precision  Test_F1_Score  \n",
       "0        0.621474       0.524108  \n",
       "1        0.606620       0.561587  \n",
       "2        0.512997       0.511803  \n",
       "3        0.592699       0.570182  \n",
       "4        0.593096       0.554469  \n",
       "5        0.602008       0.540692  \n",
       "6        0.632695       0.542630  "
      ]
     },
     "execution_count": 182,
     "metadata": {},
     "output_type": "execute_result"
    }
   ],
   "source": [
    "scores = get_metrics(y_train,y_pred_train,y_test,y_pred_test,\"RandomForest_BestParameters\",scores)\n",
    "scores"
   ]
  },
  {
   "cell_type": "markdown",
   "id": "8bd1f667",
   "metadata": {},
   "source": [
    "### kNN"
   ]
  },
  {
   "cell_type": "code",
   "execution_count": 183,
   "id": "106c2c50",
   "metadata": {},
   "outputs": [
    {
     "data": {
      "text/plain": [
       "KNeighborsClassifier(n_neighbors=10)"
      ]
     },
     "execution_count": 183,
     "metadata": {},
     "output_type": "execute_result"
    }
   ],
   "source": [
    "knn=KNeighborsClassifier(n_neighbors=10)\n",
    "knn.fit(X_train_std, y_train)"
   ]
  },
  {
   "cell_type": "code",
   "execution_count": 184,
   "id": "a0e3bdf9",
   "metadata": {},
   "outputs": [
    {
     "name": "stderr",
     "output_type": "stream",
     "text": [
      "C:\\Users\\nidhi\\anaconda3\\lib\\site-packages\\sklearn\\neighbors\\_classification.py:228: FutureWarning: Unlike other reduction functions (e.g. `skew`, `kurtosis`), the default behavior of `mode` typically preserves the axis it acts along. In SciPy 1.11.0, this behavior will change: the default value of `keepdims` will become False, the `axis` over which the statistic is taken will be eliminated, and the value None will no longer be accepted. Set `keepdims` to True or False to avoid this warning.\n",
      "  mode, _ = stats.mode(_y[neigh_ind, k], axis=1)\n",
      "C:\\Users\\nidhi\\anaconda3\\lib\\site-packages\\sklearn\\neighbors\\_classification.py:228: FutureWarning: Unlike other reduction functions (e.g. `skew`, `kurtosis`), the default behavior of `mode` typically preserves the axis it acts along. In SciPy 1.11.0, this behavior will change: the default value of `keepdims` will become False, the `axis` over which the statistic is taken will be eliminated, and the value None will no longer be accepted. Set `keepdims` to True or False to avoid this warning.\n",
      "  mode, _ = stats.mode(_y[neigh_ind, k], axis=1)\n"
     ]
    }
   ],
   "source": [
    "y_pred_train = knn.predict(X_train_std)\n",
    "y_pred_test = knn.predict(X_test_std)"
   ]
  },
  {
   "cell_type": "code",
   "execution_count": 185,
   "id": "9333802f",
   "metadata": {},
   "outputs": [
    {
     "name": "stdout",
     "output_type": "stream",
     "text": [
      "\n",
      "         ========================================\n",
      "           CLASSIFICATION REPORT FOR TRAIN DATA\n",
      "         ========================================\n",
      "        \n",
      "              precision    recall  f1-score   support\n",
      "\n",
      "           0     0.6510    0.8281    0.7289     21040\n",
      "           1     0.7074    0.4834    0.5744     18087\n",
      "\n",
      "    accuracy                         0.6688     39127\n",
      "   macro avg     0.6792    0.6558    0.6517     39127\n",
      "weighted avg     0.6771    0.6688    0.6575     39127\n",
      "\n",
      "\n",
      "             =============================================\n",
      "               CLASSIFICATION REPORT FOR VALIDATION DATA\n",
      "             =============================================\n",
      "            \n",
      "              precision    recall  f1-score   support\n",
      "\n",
      "           0     0.5931    0.7441    0.6601      5260\n",
      "           1     0.5771    0.4062    0.4768      4522\n",
      "\n",
      "    accuracy                         0.5879      9782\n",
      "   macro avg     0.5851    0.5752    0.5685      9782\n",
      "weighted avg     0.5857    0.5879    0.5754      9782\n",
      "\n",
      "\n",
      "             ========================================\n",
      "               Confusion Matrix FOR TRAIN DATA\n",
      "             ========================================\n",
      "            \n",
      "[[17424  3616]\n",
      " [ 9343  8744]]\n",
      "\n",
      "             =============================================\n",
      "               Confusion matrix FOR VALIDATION DATA\n",
      "             =============================================\n",
      "            \n",
      "[[3914 1346]\n",
      " [2685 1837]]\n"
     ]
    },
    {
     "name": "stderr",
     "output_type": "stream",
     "text": [
      "C:\\Users\\nidhi\\AppData\\Local\\Temp\\ipykernel_16048\\1741766506.py:13: FutureWarning: The frame.append method is deprecated and will be removed from pandas in a future version. Use pandas.concat instead.\n",
      "  dataframe = dataframe.append(pd.Series([model_description, train_accuracy,train_recall,train_precision,train_f1score,\n"
     ]
    },
    {
     "data": {
      "text/html": [
       "<div>\n",
       "<style scoped>\n",
       "    .dataframe tbody tr th:only-of-type {\n",
       "        vertical-align: middle;\n",
       "    }\n",
       "\n",
       "    .dataframe tbody tr th {\n",
       "        vertical-align: top;\n",
       "    }\n",
       "\n",
       "    .dataframe thead th {\n",
       "        text-align: right;\n",
       "    }\n",
       "</style>\n",
       "<table border=\"1\" class=\"dataframe\">\n",
       "  <thead>\n",
       "    <tr style=\"text-align: right;\">\n",
       "      <th></th>\n",
       "      <th>Model</th>\n",
       "      <th>Train_Accuracy</th>\n",
       "      <th>Train_Recall</th>\n",
       "      <th>Train_Precision</th>\n",
       "      <th>Train_F1_Score</th>\n",
       "      <th>Test_Accuracy</th>\n",
       "      <th>Test_Recall</th>\n",
       "      <th>Test_Precision</th>\n",
       "      <th>Test_F1_Score</th>\n",
       "    </tr>\n",
       "  </thead>\n",
       "  <tbody>\n",
       "    <tr>\n",
       "      <th>0</th>\n",
       "      <td>LogisticRegression</td>\n",
       "      <td>0.622869</td>\n",
       "      <td>0.457013</td>\n",
       "      <td>0.626165</td>\n",
       "      <td>0.528381</td>\n",
       "      <td>0.619607</td>\n",
       "      <td>0.453118</td>\n",
       "      <td>0.621474</td>\n",
       "      <td>0.524108</td>\n",
       "    </tr>\n",
       "    <tr>\n",
       "      <th>1</th>\n",
       "      <td>LogisticRegression_Balanced</td>\n",
       "      <td>0.621055</td>\n",
       "      <td>0.522641</td>\n",
       "      <td>0.604180</td>\n",
       "      <td>0.560460</td>\n",
       "      <td>0.622674</td>\n",
       "      <td>0.522778</td>\n",
       "      <td>0.606620</td>\n",
       "      <td>0.561587</td>\n",
       "    </tr>\n",
       "    <tr>\n",
       "      <th>2</th>\n",
       "      <td>DecisionTree</td>\n",
       "      <td>1.000000</td>\n",
       "      <td>1.000000</td>\n",
       "      <td>1.000000</td>\n",
       "      <td>1.000000</td>\n",
       "      <td>0.549683</td>\n",
       "      <td>0.510615</td>\n",
       "      <td>0.512997</td>\n",
       "      <td>0.511803</td>\n",
       "    </tr>\n",
       "    <tr>\n",
       "      <th>3</th>\n",
       "      <td>DecisionTree_BestParameters</td>\n",
       "      <td>0.616710</td>\n",
       "      <td>0.551667</td>\n",
       "      <td>0.591604</td>\n",
       "      <td>0.570938</td>\n",
       "      <td>0.617154</td>\n",
       "      <td>0.549314</td>\n",
       "      <td>0.592699</td>\n",
       "      <td>0.570182</td>\n",
       "    </tr>\n",
       "    <tr>\n",
       "      <th>4</th>\n",
       "      <td>DecisionTree_RandomizedSearch</td>\n",
       "      <td>0.615687</td>\n",
       "      <td>0.526455</td>\n",
       "      <td>0.595348</td>\n",
       "      <td>0.558786</td>\n",
       "      <td>0.613269</td>\n",
       "      <td>0.520566</td>\n",
       "      <td>0.593096</td>\n",
       "      <td>0.554469</td>\n",
       "    </tr>\n",
       "    <tr>\n",
       "      <th>5</th>\n",
       "      <td>RandomForest</td>\n",
       "      <td>1.000000</td>\n",
       "      <td>1.000000</td>\n",
       "      <td>1.000000</td>\n",
       "      <td>1.000000</td>\n",
       "      <td>0.614598</td>\n",
       "      <td>0.490712</td>\n",
       "      <td>0.602008</td>\n",
       "      <td>0.540692</td>\n",
       "    </tr>\n",
       "    <tr>\n",
       "      <th>6</th>\n",
       "      <td>RandomForest_BestParameters</td>\n",
       "      <td>0.709791</td>\n",
       "      <td>0.558246</td>\n",
       "      <td>0.750037</td>\n",
       "      <td>0.640084</td>\n",
       "      <td>0.629830</td>\n",
       "      <td>0.475011</td>\n",
       "      <td>0.632695</td>\n",
       "      <td>0.542630</td>\n",
       "    </tr>\n",
       "    <tr>\n",
       "      <th>7</th>\n",
       "      <td>kNN</td>\n",
       "      <td>0.668796</td>\n",
       "      <td>0.483441</td>\n",
       "      <td>0.707443</td>\n",
       "      <td>0.574375</td>\n",
       "      <td>0.587917</td>\n",
       "      <td>0.406236</td>\n",
       "      <td>0.577128</td>\n",
       "      <td>0.476833</td>\n",
       "    </tr>\n",
       "  </tbody>\n",
       "</table>\n",
       "</div>"
      ],
      "text/plain": [
       "                           Model  Train_Accuracy  Train_Recall  \\\n",
       "0             LogisticRegression        0.622869      0.457013   \n",
       "1    LogisticRegression_Balanced        0.621055      0.522641   \n",
       "2                   DecisionTree        1.000000      1.000000   \n",
       "3    DecisionTree_BestParameters        0.616710      0.551667   \n",
       "4  DecisionTree_RandomizedSearch        0.615687      0.526455   \n",
       "5                   RandomForest        1.000000      1.000000   \n",
       "6    RandomForest_BestParameters        0.709791      0.558246   \n",
       "7                            kNN        0.668796      0.483441   \n",
       "\n",
       "   Train_Precision  Train_F1_Score  Test_Accuracy  Test_Recall  \\\n",
       "0         0.626165        0.528381       0.619607     0.453118   \n",
       "1         0.604180        0.560460       0.622674     0.522778   \n",
       "2         1.000000        1.000000       0.549683     0.510615   \n",
       "3         0.591604        0.570938       0.617154     0.549314   \n",
       "4         0.595348        0.558786       0.613269     0.520566   \n",
       "5         1.000000        1.000000       0.614598     0.490712   \n",
       "6         0.750037        0.640084       0.629830     0.475011   \n",
       "7         0.707443        0.574375       0.587917     0.406236   \n",
       "\n",
       "   Test_Precision  Test_F1_Score  \n",
       "0        0.621474       0.524108  \n",
       "1        0.606620       0.561587  \n",
       "2        0.512997       0.511803  \n",
       "3        0.592699       0.570182  \n",
       "4        0.593096       0.554469  \n",
       "5        0.602008       0.540692  \n",
       "6        0.632695       0.542630  \n",
       "7        0.577128       0.476833  "
      ]
     },
     "execution_count": 185,
     "metadata": {},
     "output_type": "execute_result"
    }
   ],
   "source": [
    "scores = get_metrics(y_train,y_pred_train,y_test,y_pred_test,\"kNN\",scores)\n",
    "scores"
   ]
  },
  {
   "cell_type": "markdown",
   "id": "60291834",
   "metadata": {},
   "source": [
    "### kNN - Grid Search CV"
   ]
  },
  {
   "cell_type": "code",
   "execution_count": 186,
   "id": "8204b292",
   "metadata": {},
   "outputs": [],
   "source": [
    "knn2=KNeighborsClassifier()"
   ]
  },
  {
   "cell_type": "code",
   "execution_count": 187,
   "id": "fbfd2629",
   "metadata": {},
   "outputs": [
    {
     "name": "stdout",
     "output_type": "stream",
     "text": [
      "Fitting 5 folds for each of 12 candidates, totalling 60 fits\n"
     ]
    },
    {
     "data": {
      "text/plain": [
       "GridSearchCV(cv=5, estimator=KNeighborsClassifier(), n_jobs=-1,\n",
       "             param_grid=[{'metric': ['euclidean', 'manhattan'],\n",
       "                          'n_neighbors': [1, 2, 3, 4, 5, 6]}],\n",
       "             verbose=1)"
      ]
     },
     "execution_count": 187,
     "metadata": {},
     "output_type": "execute_result"
    }
   ],
   "source": [
    "parameters = [{'n_neighbors':list(range(1,7)),'metric':['euclidean', 'manhattan']}]\n",
    "\n",
    "clf = GridSearchCV(knn2,param_grid=parameters,verbose=1,n_jobs=-1,scoring=\"recall\", cv=5)\n",
    "\n",
    "clf.fit(X_train_std, y_train)"
   ]
  },
  {
   "cell_type": "code",
   "execution_count": 188,
   "id": "0745e851",
   "metadata": {},
   "outputs": [
    {
     "data": {
      "text/plain": [
       "{'metric': 'manhattan', 'n_neighbors': 6}"
      ]
     },
     "execution_count": 188,
     "metadata": {},
     "output_type": "execute_result"
    }
   ],
   "source": [
    "clf.best_params_"
   ]
  },
  {
   "cell_type": "code",
   "execution_count": 189,
   "id": "a145a834",
   "metadata": {},
   "outputs": [
    {
     "name": "stderr",
     "output_type": "stream",
     "text": [
      "C:\\Users\\nidhi\\anaconda3\\lib\\site-packages\\sklearn\\neighbors\\_classification.py:228: FutureWarning: Unlike other reduction functions (e.g. `skew`, `kurtosis`), the default behavior of `mode` typically preserves the axis it acts along. In SciPy 1.11.0, this behavior will change: the default value of `keepdims` will become False, the `axis` over which the statistic is taken will be eliminated, and the value None will no longer be accepted. Set `keepdims` to True or False to avoid this warning.\n",
      "  mode, _ = stats.mode(_y[neigh_ind, k], axis=1)\n",
      "C:\\Users\\nidhi\\anaconda3\\lib\\site-packages\\sklearn\\neighbors\\_classification.py:228: FutureWarning: Unlike other reduction functions (e.g. `skew`, `kurtosis`), the default behavior of `mode` typically preserves the axis it acts along. In SciPy 1.11.0, this behavior will change: the default value of `keepdims` will become False, the `axis` over which the statistic is taken will be eliminated, and the value None will no longer be accepted. Set `keepdims` to True or False to avoid this warning.\n",
      "  mode, _ = stats.mode(_y[neigh_ind, k], axis=1)\n"
     ]
    }
   ],
   "source": [
    "y_pred_train = clf.predict(X_train_std)\n",
    "y_pred_test = clf.predict(X_test_std)"
   ]
  },
  {
   "cell_type": "code",
   "execution_count": 190,
   "id": "0cc418ad",
   "metadata": {},
   "outputs": [
    {
     "name": "stdout",
     "output_type": "stream",
     "text": [
      "\n",
      "         ========================================\n",
      "           CLASSIFICATION REPORT FOR TRAIN DATA\n",
      "         ========================================\n",
      "        \n",
      "              precision    recall  f1-score   support\n",
      "\n",
      "           0     0.6643    0.8700    0.7534     21040\n",
      "           1     0.7636    0.4887    0.5960     18087\n",
      "\n",
      "    accuracy                         0.6937     39127\n",
      "   macro avg     0.7140    0.6793    0.6747     39127\n",
      "weighted avg     0.7102    0.6937    0.6806     39127\n",
      "\n",
      "\n",
      "             =============================================\n",
      "               CLASSIFICATION REPORT FOR VALIDATION DATA\n",
      "             =============================================\n",
      "            \n",
      "              precision    recall  f1-score   support\n",
      "\n",
      "           0     0.5799    0.7644    0.6595      5260\n",
      "           1     0.5650    0.3558    0.4366      4522\n",
      "\n",
      "    accuracy                         0.5755      9782\n",
      "   macro avg     0.5724    0.5601    0.5481      9782\n",
      "weighted avg     0.5730    0.5755    0.5565      9782\n",
      "\n",
      "\n",
      "             ========================================\n",
      "               Confusion Matrix FOR TRAIN DATA\n",
      "             ========================================\n",
      "            \n",
      "[[18304  2736]\n",
      " [ 9248  8839]]\n",
      "\n",
      "             =============================================\n",
      "               Confusion matrix FOR VALIDATION DATA\n",
      "             =============================================\n",
      "            \n",
      "[[4021 1239]\n",
      " [2913 1609]]\n"
     ]
    },
    {
     "name": "stderr",
     "output_type": "stream",
     "text": [
      "C:\\Users\\nidhi\\AppData\\Local\\Temp\\ipykernel_16048\\1741766506.py:13: FutureWarning: The frame.append method is deprecated and will be removed from pandas in a future version. Use pandas.concat instead.\n",
      "  dataframe = dataframe.append(pd.Series([model_description, train_accuracy,train_recall,train_precision,train_f1score,\n"
     ]
    },
    {
     "data": {
      "text/html": [
       "<div>\n",
       "<style scoped>\n",
       "    .dataframe tbody tr th:only-of-type {\n",
       "        vertical-align: middle;\n",
       "    }\n",
       "\n",
       "    .dataframe tbody tr th {\n",
       "        vertical-align: top;\n",
       "    }\n",
       "\n",
       "    .dataframe thead th {\n",
       "        text-align: right;\n",
       "    }\n",
       "</style>\n",
       "<table border=\"1\" class=\"dataframe\">\n",
       "  <thead>\n",
       "    <tr style=\"text-align: right;\">\n",
       "      <th></th>\n",
       "      <th>Model</th>\n",
       "      <th>Train_Accuracy</th>\n",
       "      <th>Train_Recall</th>\n",
       "      <th>Train_Precision</th>\n",
       "      <th>Train_F1_Score</th>\n",
       "      <th>Test_Accuracy</th>\n",
       "      <th>Test_Recall</th>\n",
       "      <th>Test_Precision</th>\n",
       "      <th>Test_F1_Score</th>\n",
       "    </tr>\n",
       "  </thead>\n",
       "  <tbody>\n",
       "    <tr>\n",
       "      <th>0</th>\n",
       "      <td>LogisticRegression</td>\n",
       "      <td>0.622869</td>\n",
       "      <td>0.457013</td>\n",
       "      <td>0.626165</td>\n",
       "      <td>0.528381</td>\n",
       "      <td>0.619607</td>\n",
       "      <td>0.453118</td>\n",
       "      <td>0.621474</td>\n",
       "      <td>0.524108</td>\n",
       "    </tr>\n",
       "    <tr>\n",
       "      <th>1</th>\n",
       "      <td>LogisticRegression_Balanced</td>\n",
       "      <td>0.621055</td>\n",
       "      <td>0.522641</td>\n",
       "      <td>0.604180</td>\n",
       "      <td>0.560460</td>\n",
       "      <td>0.622674</td>\n",
       "      <td>0.522778</td>\n",
       "      <td>0.606620</td>\n",
       "      <td>0.561587</td>\n",
       "    </tr>\n",
       "    <tr>\n",
       "      <th>2</th>\n",
       "      <td>DecisionTree</td>\n",
       "      <td>1.000000</td>\n",
       "      <td>1.000000</td>\n",
       "      <td>1.000000</td>\n",
       "      <td>1.000000</td>\n",
       "      <td>0.549683</td>\n",
       "      <td>0.510615</td>\n",
       "      <td>0.512997</td>\n",
       "      <td>0.511803</td>\n",
       "    </tr>\n",
       "    <tr>\n",
       "      <th>3</th>\n",
       "      <td>DecisionTree_BestParameters</td>\n",
       "      <td>0.616710</td>\n",
       "      <td>0.551667</td>\n",
       "      <td>0.591604</td>\n",
       "      <td>0.570938</td>\n",
       "      <td>0.617154</td>\n",
       "      <td>0.549314</td>\n",
       "      <td>0.592699</td>\n",
       "      <td>0.570182</td>\n",
       "    </tr>\n",
       "    <tr>\n",
       "      <th>4</th>\n",
       "      <td>DecisionTree_RandomizedSearch</td>\n",
       "      <td>0.615687</td>\n",
       "      <td>0.526455</td>\n",
       "      <td>0.595348</td>\n",
       "      <td>0.558786</td>\n",
       "      <td>0.613269</td>\n",
       "      <td>0.520566</td>\n",
       "      <td>0.593096</td>\n",
       "      <td>0.554469</td>\n",
       "    </tr>\n",
       "    <tr>\n",
       "      <th>5</th>\n",
       "      <td>RandomForest</td>\n",
       "      <td>1.000000</td>\n",
       "      <td>1.000000</td>\n",
       "      <td>1.000000</td>\n",
       "      <td>1.000000</td>\n",
       "      <td>0.614598</td>\n",
       "      <td>0.490712</td>\n",
       "      <td>0.602008</td>\n",
       "      <td>0.540692</td>\n",
       "    </tr>\n",
       "    <tr>\n",
       "      <th>6</th>\n",
       "      <td>RandomForest_BestParameters</td>\n",
       "      <td>0.709791</td>\n",
       "      <td>0.558246</td>\n",
       "      <td>0.750037</td>\n",
       "      <td>0.640084</td>\n",
       "      <td>0.629830</td>\n",
       "      <td>0.475011</td>\n",
       "      <td>0.632695</td>\n",
       "      <td>0.542630</td>\n",
       "    </tr>\n",
       "    <tr>\n",
       "      <th>7</th>\n",
       "      <td>kNN</td>\n",
       "      <td>0.668796</td>\n",
       "      <td>0.483441</td>\n",
       "      <td>0.707443</td>\n",
       "      <td>0.574375</td>\n",
       "      <td>0.587917</td>\n",
       "      <td>0.406236</td>\n",
       "      <td>0.577128</td>\n",
       "      <td>0.476833</td>\n",
       "    </tr>\n",
       "    <tr>\n",
       "      <th>8</th>\n",
       "      <td>kNN_BestParameters</td>\n",
       "      <td>0.693715</td>\n",
       "      <td>0.488694</td>\n",
       "      <td>0.763629</td>\n",
       "      <td>0.595981</td>\n",
       "      <td>0.575547</td>\n",
       "      <td>0.355816</td>\n",
       "      <td>0.564958</td>\n",
       "      <td>0.436635</td>\n",
       "    </tr>\n",
       "  </tbody>\n",
       "</table>\n",
       "</div>"
      ],
      "text/plain": [
       "                           Model  Train_Accuracy  Train_Recall  \\\n",
       "0             LogisticRegression        0.622869      0.457013   \n",
       "1    LogisticRegression_Balanced        0.621055      0.522641   \n",
       "2                   DecisionTree        1.000000      1.000000   \n",
       "3    DecisionTree_BestParameters        0.616710      0.551667   \n",
       "4  DecisionTree_RandomizedSearch        0.615687      0.526455   \n",
       "5                   RandomForest        1.000000      1.000000   \n",
       "6    RandomForest_BestParameters        0.709791      0.558246   \n",
       "7                            kNN        0.668796      0.483441   \n",
       "8             kNN_BestParameters        0.693715      0.488694   \n",
       "\n",
       "   Train_Precision  Train_F1_Score  Test_Accuracy  Test_Recall  \\\n",
       "0         0.626165        0.528381       0.619607     0.453118   \n",
       "1         0.604180        0.560460       0.622674     0.522778   \n",
       "2         1.000000        1.000000       0.549683     0.510615   \n",
       "3         0.591604        0.570938       0.617154     0.549314   \n",
       "4         0.595348        0.558786       0.613269     0.520566   \n",
       "5         1.000000        1.000000       0.614598     0.490712   \n",
       "6         0.750037        0.640084       0.629830     0.475011   \n",
       "7         0.707443        0.574375       0.587917     0.406236   \n",
       "8         0.763629        0.595981       0.575547     0.355816   \n",
       "\n",
       "   Test_Precision  Test_F1_Score  \n",
       "0        0.621474       0.524108  \n",
       "1        0.606620       0.561587  \n",
       "2        0.512997       0.511803  \n",
       "3        0.592699       0.570182  \n",
       "4        0.593096       0.554469  \n",
       "5        0.602008       0.540692  \n",
       "6        0.632695       0.542630  \n",
       "7        0.577128       0.476833  \n",
       "8        0.564958       0.436635  "
      ]
     },
     "execution_count": 190,
     "metadata": {},
     "output_type": "execute_result"
    }
   ],
   "source": [
    "scores = get_metrics(y_train,y_pred_train,y_test,y_pred_test,\"kNN_BestParameters\",scores)\n",
    "scores"
   ]
  },
  {
   "cell_type": "markdown",
   "id": "73d57bf9",
   "metadata": {},
   "source": [
    "### SVC"
   ]
  },
  {
   "cell_type": "code",
   "execution_count": 191,
   "id": "9d9566ba",
   "metadata": {},
   "outputs": [
    {
     "data": {
      "text/plain": [
       "SVC()"
      ]
     },
     "execution_count": 191,
     "metadata": {},
     "output_type": "execute_result"
    }
   ],
   "source": [
    "svc=SVC()\n",
    "svc.fit(X_train_std, y_train)"
   ]
  },
  {
   "cell_type": "code",
   "execution_count": 192,
   "id": "20c5611f",
   "metadata": {},
   "outputs": [],
   "source": [
    "y_pred_train = svc.predict(X_train_std)\n",
    "y_pred_test = svc.predict(X_test_std)"
   ]
  },
  {
   "cell_type": "code",
   "execution_count": 193,
   "id": "5971bfda",
   "metadata": {},
   "outputs": [
    {
     "name": "stdout",
     "output_type": "stream",
     "text": [
      "\n",
      "         ========================================\n",
      "           CLASSIFICATION REPORT FOR TRAIN DATA\n",
      "         ========================================\n",
      "        \n",
      "              precision    recall  f1-score   support\n",
      "\n",
      "           0     0.6427    0.7575    0.6954     21040\n",
      "           1     0.6439    0.5100    0.5692     18087\n",
      "\n",
      "    accuracy                         0.6431     39127\n",
      "   macro avg     0.6433    0.6338    0.6323     39127\n",
      "weighted avg     0.6432    0.6431    0.6370     39127\n",
      "\n",
      "\n",
      "             =============================================\n",
      "               CLASSIFICATION REPORT FOR VALIDATION DATA\n",
      "             =============================================\n",
      "            \n",
      "              precision    recall  f1-score   support\n",
      "\n",
      "           0     0.6244    0.7390    0.6769      5260\n",
      "           1     0.6140    0.4830    0.5407      4522\n",
      "\n",
      "    accuracy                         0.6206      9782\n",
      "   macro avg     0.6192    0.6110    0.6088      9782\n",
      "weighted avg     0.6196    0.6206    0.6139      9782\n",
      "\n",
      "\n",
      "             ========================================\n",
      "               Confusion Matrix FOR TRAIN DATA\n",
      "             ========================================\n",
      "            \n",
      "[[15938  5102]\n",
      " [ 8862  9225]]\n",
      "\n",
      "             =============================================\n",
      "               Confusion matrix FOR VALIDATION DATA\n",
      "             =============================================\n",
      "            \n",
      "[[3887 1373]\n",
      " [2338 2184]]\n"
     ]
    },
    {
     "name": "stderr",
     "output_type": "stream",
     "text": [
      "C:\\Users\\nidhi\\AppData\\Local\\Temp\\ipykernel_16048\\1741766506.py:13: FutureWarning: The frame.append method is deprecated and will be removed from pandas in a future version. Use pandas.concat instead.\n",
      "  dataframe = dataframe.append(pd.Series([model_description, train_accuracy,train_recall,train_precision,train_f1score,\n"
     ]
    },
    {
     "data": {
      "text/html": [
       "<div>\n",
       "<style scoped>\n",
       "    .dataframe tbody tr th:only-of-type {\n",
       "        vertical-align: middle;\n",
       "    }\n",
       "\n",
       "    .dataframe tbody tr th {\n",
       "        vertical-align: top;\n",
       "    }\n",
       "\n",
       "    .dataframe thead th {\n",
       "        text-align: right;\n",
       "    }\n",
       "</style>\n",
       "<table border=\"1\" class=\"dataframe\">\n",
       "  <thead>\n",
       "    <tr style=\"text-align: right;\">\n",
       "      <th></th>\n",
       "      <th>Model</th>\n",
       "      <th>Train_Accuracy</th>\n",
       "      <th>Train_Recall</th>\n",
       "      <th>Train_Precision</th>\n",
       "      <th>Train_F1_Score</th>\n",
       "      <th>Test_Accuracy</th>\n",
       "      <th>Test_Recall</th>\n",
       "      <th>Test_Precision</th>\n",
       "      <th>Test_F1_Score</th>\n",
       "    </tr>\n",
       "  </thead>\n",
       "  <tbody>\n",
       "    <tr>\n",
       "      <th>0</th>\n",
       "      <td>LogisticRegression</td>\n",
       "      <td>0.622869</td>\n",
       "      <td>0.457013</td>\n",
       "      <td>0.626165</td>\n",
       "      <td>0.528381</td>\n",
       "      <td>0.619607</td>\n",
       "      <td>0.453118</td>\n",
       "      <td>0.621474</td>\n",
       "      <td>0.524108</td>\n",
       "    </tr>\n",
       "    <tr>\n",
       "      <th>1</th>\n",
       "      <td>LogisticRegression_Balanced</td>\n",
       "      <td>0.621055</td>\n",
       "      <td>0.522641</td>\n",
       "      <td>0.604180</td>\n",
       "      <td>0.560460</td>\n",
       "      <td>0.622674</td>\n",
       "      <td>0.522778</td>\n",
       "      <td>0.606620</td>\n",
       "      <td>0.561587</td>\n",
       "    </tr>\n",
       "    <tr>\n",
       "      <th>2</th>\n",
       "      <td>DecisionTree</td>\n",
       "      <td>1.000000</td>\n",
       "      <td>1.000000</td>\n",
       "      <td>1.000000</td>\n",
       "      <td>1.000000</td>\n",
       "      <td>0.549683</td>\n",
       "      <td>0.510615</td>\n",
       "      <td>0.512997</td>\n",
       "      <td>0.511803</td>\n",
       "    </tr>\n",
       "    <tr>\n",
       "      <th>3</th>\n",
       "      <td>DecisionTree_BestParameters</td>\n",
       "      <td>0.616710</td>\n",
       "      <td>0.551667</td>\n",
       "      <td>0.591604</td>\n",
       "      <td>0.570938</td>\n",
       "      <td>0.617154</td>\n",
       "      <td>0.549314</td>\n",
       "      <td>0.592699</td>\n",
       "      <td>0.570182</td>\n",
       "    </tr>\n",
       "    <tr>\n",
       "      <th>4</th>\n",
       "      <td>DecisionTree_RandomizedSearch</td>\n",
       "      <td>0.615687</td>\n",
       "      <td>0.526455</td>\n",
       "      <td>0.595348</td>\n",
       "      <td>0.558786</td>\n",
       "      <td>0.613269</td>\n",
       "      <td>0.520566</td>\n",
       "      <td>0.593096</td>\n",
       "      <td>0.554469</td>\n",
       "    </tr>\n",
       "    <tr>\n",
       "      <th>5</th>\n",
       "      <td>RandomForest</td>\n",
       "      <td>1.000000</td>\n",
       "      <td>1.000000</td>\n",
       "      <td>1.000000</td>\n",
       "      <td>1.000000</td>\n",
       "      <td>0.614598</td>\n",
       "      <td>0.490712</td>\n",
       "      <td>0.602008</td>\n",
       "      <td>0.540692</td>\n",
       "    </tr>\n",
       "    <tr>\n",
       "      <th>6</th>\n",
       "      <td>RandomForest_BestParameters</td>\n",
       "      <td>0.709791</td>\n",
       "      <td>0.558246</td>\n",
       "      <td>0.750037</td>\n",
       "      <td>0.640084</td>\n",
       "      <td>0.629830</td>\n",
       "      <td>0.475011</td>\n",
       "      <td>0.632695</td>\n",
       "      <td>0.542630</td>\n",
       "    </tr>\n",
       "    <tr>\n",
       "      <th>7</th>\n",
       "      <td>kNN</td>\n",
       "      <td>0.668796</td>\n",
       "      <td>0.483441</td>\n",
       "      <td>0.707443</td>\n",
       "      <td>0.574375</td>\n",
       "      <td>0.587917</td>\n",
       "      <td>0.406236</td>\n",
       "      <td>0.577128</td>\n",
       "      <td>0.476833</td>\n",
       "    </tr>\n",
       "    <tr>\n",
       "      <th>8</th>\n",
       "      <td>kNN_BestParameters</td>\n",
       "      <td>0.693715</td>\n",
       "      <td>0.488694</td>\n",
       "      <td>0.763629</td>\n",
       "      <td>0.595981</td>\n",
       "      <td>0.575547</td>\n",
       "      <td>0.355816</td>\n",
       "      <td>0.564958</td>\n",
       "      <td>0.436635</td>\n",
       "    </tr>\n",
       "    <tr>\n",
       "      <th>9</th>\n",
       "      <td>SVC</td>\n",
       "      <td>0.643111</td>\n",
       "      <td>0.510035</td>\n",
       "      <td>0.643889</td>\n",
       "      <td>0.569198</td>\n",
       "      <td>0.620630</td>\n",
       "      <td>0.482972</td>\n",
       "      <td>0.614001</td>\n",
       "      <td>0.540661</td>\n",
       "    </tr>\n",
       "  </tbody>\n",
       "</table>\n",
       "</div>"
      ],
      "text/plain": [
       "                           Model  Train_Accuracy  Train_Recall  \\\n",
       "0             LogisticRegression        0.622869      0.457013   \n",
       "1    LogisticRegression_Balanced        0.621055      0.522641   \n",
       "2                   DecisionTree        1.000000      1.000000   \n",
       "3    DecisionTree_BestParameters        0.616710      0.551667   \n",
       "4  DecisionTree_RandomizedSearch        0.615687      0.526455   \n",
       "5                   RandomForest        1.000000      1.000000   \n",
       "6    RandomForest_BestParameters        0.709791      0.558246   \n",
       "7                            kNN        0.668796      0.483441   \n",
       "8             kNN_BestParameters        0.693715      0.488694   \n",
       "9                            SVC        0.643111      0.510035   \n",
       "\n",
       "   Train_Precision  Train_F1_Score  Test_Accuracy  Test_Recall  \\\n",
       "0         0.626165        0.528381       0.619607     0.453118   \n",
       "1         0.604180        0.560460       0.622674     0.522778   \n",
       "2         1.000000        1.000000       0.549683     0.510615   \n",
       "3         0.591604        0.570938       0.617154     0.549314   \n",
       "4         0.595348        0.558786       0.613269     0.520566   \n",
       "5         1.000000        1.000000       0.614598     0.490712   \n",
       "6         0.750037        0.640084       0.629830     0.475011   \n",
       "7         0.707443        0.574375       0.587917     0.406236   \n",
       "8         0.763629        0.595981       0.575547     0.355816   \n",
       "9         0.643889        0.569198       0.620630     0.482972   \n",
       "\n",
       "   Test_Precision  Test_F1_Score  \n",
       "0        0.621474       0.524108  \n",
       "1        0.606620       0.561587  \n",
       "2        0.512997       0.511803  \n",
       "3        0.592699       0.570182  \n",
       "4        0.593096       0.554469  \n",
       "5        0.602008       0.540692  \n",
       "6        0.632695       0.542630  \n",
       "7        0.577128       0.476833  \n",
       "8        0.564958       0.436635  \n",
       "9        0.614001       0.540661  "
      ]
     },
     "execution_count": 193,
     "metadata": {},
     "output_type": "execute_result"
    }
   ],
   "source": [
    "scores = get_metrics(y_train,y_pred_train,y_test,y_pred_test,\"SVC\",scores)\n",
    "scores"
   ]
  },
  {
   "cell_type": "markdown",
   "id": "55cd4670",
   "metadata": {},
   "source": [
    "### SVC-Grid Search CV"
   ]
  },
  {
   "cell_type": "code",
   "execution_count": null,
   "id": "4a08607c",
   "metadata": {},
   "outputs": [],
   "source": [
    "svc=SVC() \n",
    "\n",
    "# declare parameters for hyperparameter tuning\n",
    "parameters = [ {'C':[1, 10, 100, 1000], 'kernel':['linear']},\n",
    "               {'C':[1, 10, 100, 1000], 'kernel':['rbf'], 'gamma':[0.1, 0.2, 0.3, 0.4, 0.5, 0.6, 0.7, 0.8, 0.9]},\n",
    "               {'C':[1, 10, 100, 1000], 'kernel':['poly'], 'degree': [2,3,4] ,'gamma':[0.01,0.02,0.03,0.04,0.05]} \n",
    "              ]\n",
    "\n",
    "\n",
    "\n",
    "\n",
    "svc_grid_search = GridSearchCV(estimator = svc,  \n",
    "                           param_grid = parameters,\n",
    "                           scoring = 'recall',\n",
    "                           cv = 5,\n",
    "                           verbose=0)\n",
    "\n",
    "\n",
    "svc_grid_search.fit(X_train_std, y_train)"
   ]
  },
  {
   "cell_type": "code",
   "execution_count": null,
   "id": "50e40313",
   "metadata": {},
   "outputs": [],
   "source": [
    "svc_grid_search.best_params_"
   ]
  },
  {
   "cell_type": "code",
   "execution_count": null,
   "id": "91d950d4",
   "metadata": {},
   "outputs": [],
   "source": [
    "y_pred_train = svc_grid_search.predict(X_train_std)\n",
    "y_pred_test = svc_grid_search.predict(X_test_std)"
   ]
  },
  {
   "cell_type": "code",
   "execution_count": null,
   "id": "6f7e97c5",
   "metadata": {},
   "outputs": [],
   "source": [
    "scores = get_metrics(y_train,y_pred_train,y_test,y_pred_test,\"SVC_BestParameters\",scores)\n",
    "scores"
   ]
  }
 ],
 "metadata": {
  "kernelspec": {
   "display_name": "Python 3 (ipykernel)",
   "language": "python",
   "name": "python3"
  },
  "language_info": {
   "codemirror_mode": {
    "name": "ipython",
    "version": 3
   },
   "file_extension": ".py",
   "mimetype": "text/x-python",
   "name": "python",
   "nbconvert_exporter": "python",
   "pygments_lexer": "ipython3",
   "version": "3.9.13"
  }
 },
 "nbformat": 4,
 "nbformat_minor": 5
}
